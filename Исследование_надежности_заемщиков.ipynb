{
  "cells": [
    {
      "cell_type": "markdown",
      "id": "612554bc",
      "metadata": {
        "deletable": false,
        "editable": false,
        "id": "612554bc"
      },
      "source": [
        "# Исследование надежности заемщиков\n"
      ]
    },
    {
      "cell_type": "markdown",
      "id": "605488de",
      "metadata": {
        "deletable": false,
        "editable": false,
        "id": "605488de"
      },
      "source": [
        "## Откройте таблицу и изучите общую информацию о данных"
      ]
    },
    {
      "cell_type": "markdown",
      "id": "fefc5f85",
      "metadata": {
        "deletable": false,
        "editable": false,
        "id": "fefc5f85"
      },
      "source": [
        "**Задание 1. Импортируйте библиотеку pandas. Считайте данные из csv-файла в датафрейм и сохраните в переменную `data`. Путь к файлу:**\n",
        "\n",
        "`/datasets/data.csv`"
      ]
    },
    {
      "cell_type": "code",
      "execution_count": null,
      "id": "8c3007f2",
      "metadata": {
        "deletable": false,
        "id": "8c3007f2"
      },
      "outputs": [],
      "source": [
        "import pandas as pd\n",
        "\n",
        "try:\n",
        "    data = pd.read_csv('/datasets/data.csv')\n",
        "except:\n",
        "    data = pd.read_csv('https://code.s3.yandex.net/datasets/data.csv')"
      ]
    },
    {
      "cell_type": "markdown",
      "id": "bd5f2972",
      "metadata": {
        "deletable": false,
        "editable": false,
        "id": "bd5f2972"
      },
      "source": [
        "**Задание 2. Выведите первые 20 строчек датафрейма `data` на экран.**"
      ]
    },
    {
      "cell_type": "code",
      "execution_count": null,
      "id": "1ee9b520",
      "metadata": {
        "deletable": false,
        "id": "1ee9b520",
        "outputId": "1a8f3ef2-d323-4ec2-ddf7-89670b5944c4"
      },
      "outputs": [
        {
          "data": {
            "text/html": [
              "<div>\n",
              "<style scoped>\n",
              "    .dataframe tbody tr th:only-of-type {\n",
              "        vertical-align: middle;\n",
              "    }\n",
              "\n",
              "    .dataframe tbody tr th {\n",
              "        vertical-align: top;\n",
              "    }\n",
              "\n",
              "    .dataframe thead th {\n",
              "        text-align: right;\n",
              "    }\n",
              "</style>\n",
              "<table border=\"1\" class=\"dataframe\">\n",
              "  <thead>\n",
              "    <tr style=\"text-align: right;\">\n",
              "      <th></th>\n",
              "      <th>children</th>\n",
              "      <th>days_employed</th>\n",
              "      <th>dob_years</th>\n",
              "      <th>education</th>\n",
              "      <th>education_id</th>\n",
              "      <th>family_status</th>\n",
              "      <th>family_status_id</th>\n",
              "      <th>gender</th>\n",
              "      <th>income_type</th>\n",
              "      <th>debt</th>\n",
              "      <th>total_income</th>\n",
              "      <th>purpose</th>\n",
              "    </tr>\n",
              "  </thead>\n",
              "  <tbody>\n",
              "    <tr>\n",
              "      <th>0</th>\n",
              "      <td>1</td>\n",
              "      <td>-8437.673028</td>\n",
              "      <td>42</td>\n",
              "      <td>высшее</td>\n",
              "      <td>0</td>\n",
              "      <td>женат / замужем</td>\n",
              "      <td>0</td>\n",
              "      <td>F</td>\n",
              "      <td>сотрудник</td>\n",
              "      <td>0</td>\n",
              "      <td>253875.639453</td>\n",
              "      <td>покупка жилья</td>\n",
              "    </tr>\n",
              "    <tr>\n",
              "      <th>1</th>\n",
              "      <td>1</td>\n",
              "      <td>-4024.803754</td>\n",
              "      <td>36</td>\n",
              "      <td>среднее</td>\n",
              "      <td>1</td>\n",
              "      <td>женат / замужем</td>\n",
              "      <td>0</td>\n",
              "      <td>F</td>\n",
              "      <td>сотрудник</td>\n",
              "      <td>0</td>\n",
              "      <td>112080.014102</td>\n",
              "      <td>приобретение автомобиля</td>\n",
              "    </tr>\n",
              "    <tr>\n",
              "      <th>2</th>\n",
              "      <td>0</td>\n",
              "      <td>-5623.422610</td>\n",
              "      <td>33</td>\n",
              "      <td>Среднее</td>\n",
              "      <td>1</td>\n",
              "      <td>женат / замужем</td>\n",
              "      <td>0</td>\n",
              "      <td>M</td>\n",
              "      <td>сотрудник</td>\n",
              "      <td>0</td>\n",
              "      <td>145885.952297</td>\n",
              "      <td>покупка жилья</td>\n",
              "    </tr>\n",
              "    <tr>\n",
              "      <th>3</th>\n",
              "      <td>3</td>\n",
              "      <td>-4124.747207</td>\n",
              "      <td>32</td>\n",
              "      <td>среднее</td>\n",
              "      <td>1</td>\n",
              "      <td>женат / замужем</td>\n",
              "      <td>0</td>\n",
              "      <td>M</td>\n",
              "      <td>сотрудник</td>\n",
              "      <td>0</td>\n",
              "      <td>267628.550329</td>\n",
              "      <td>дополнительное образование</td>\n",
              "    </tr>\n",
              "    <tr>\n",
              "      <th>4</th>\n",
              "      <td>0</td>\n",
              "      <td>340266.072047</td>\n",
              "      <td>53</td>\n",
              "      <td>среднее</td>\n",
              "      <td>1</td>\n",
              "      <td>гражданский брак</td>\n",
              "      <td>1</td>\n",
              "      <td>F</td>\n",
              "      <td>пенсионер</td>\n",
              "      <td>0</td>\n",
              "      <td>158616.077870</td>\n",
              "      <td>сыграть свадьбу</td>\n",
              "    </tr>\n",
              "    <tr>\n",
              "      <th>5</th>\n",
              "      <td>0</td>\n",
              "      <td>-926.185831</td>\n",
              "      <td>27</td>\n",
              "      <td>высшее</td>\n",
              "      <td>0</td>\n",
              "      <td>гражданский брак</td>\n",
              "      <td>1</td>\n",
              "      <td>M</td>\n",
              "      <td>компаньон</td>\n",
              "      <td>0</td>\n",
              "      <td>255763.565419</td>\n",
              "      <td>покупка жилья</td>\n",
              "    </tr>\n",
              "    <tr>\n",
              "      <th>6</th>\n",
              "      <td>0</td>\n",
              "      <td>-2879.202052</td>\n",
              "      <td>43</td>\n",
              "      <td>высшее</td>\n",
              "      <td>0</td>\n",
              "      <td>женат / замужем</td>\n",
              "      <td>0</td>\n",
              "      <td>F</td>\n",
              "      <td>компаньон</td>\n",
              "      <td>0</td>\n",
              "      <td>240525.971920</td>\n",
              "      <td>операции с жильем</td>\n",
              "    </tr>\n",
              "    <tr>\n",
              "      <th>7</th>\n",
              "      <td>0</td>\n",
              "      <td>-152.779569</td>\n",
              "      <td>50</td>\n",
              "      <td>СРЕДНЕЕ</td>\n",
              "      <td>1</td>\n",
              "      <td>женат / замужем</td>\n",
              "      <td>0</td>\n",
              "      <td>M</td>\n",
              "      <td>сотрудник</td>\n",
              "      <td>0</td>\n",
              "      <td>135823.934197</td>\n",
              "      <td>образование</td>\n",
              "    </tr>\n",
              "    <tr>\n",
              "      <th>8</th>\n",
              "      <td>2</td>\n",
              "      <td>-6929.865299</td>\n",
              "      <td>35</td>\n",
              "      <td>ВЫСШЕЕ</td>\n",
              "      <td>0</td>\n",
              "      <td>гражданский брак</td>\n",
              "      <td>1</td>\n",
              "      <td>F</td>\n",
              "      <td>сотрудник</td>\n",
              "      <td>0</td>\n",
              "      <td>95856.832424</td>\n",
              "      <td>на проведение свадьбы</td>\n",
              "    </tr>\n",
              "    <tr>\n",
              "      <th>9</th>\n",
              "      <td>0</td>\n",
              "      <td>-2188.756445</td>\n",
              "      <td>41</td>\n",
              "      <td>среднее</td>\n",
              "      <td>1</td>\n",
              "      <td>женат / замужем</td>\n",
              "      <td>0</td>\n",
              "      <td>M</td>\n",
              "      <td>сотрудник</td>\n",
              "      <td>0</td>\n",
              "      <td>144425.938277</td>\n",
              "      <td>покупка жилья для семьи</td>\n",
              "    </tr>\n",
              "    <tr>\n",
              "      <th>10</th>\n",
              "      <td>2</td>\n",
              "      <td>-4171.483647</td>\n",
              "      <td>36</td>\n",
              "      <td>высшее</td>\n",
              "      <td>0</td>\n",
              "      <td>женат / замужем</td>\n",
              "      <td>0</td>\n",
              "      <td>M</td>\n",
              "      <td>компаньон</td>\n",
              "      <td>0</td>\n",
              "      <td>113943.491460</td>\n",
              "      <td>покупка недвижимости</td>\n",
              "    </tr>\n",
              "    <tr>\n",
              "      <th>11</th>\n",
              "      <td>0</td>\n",
              "      <td>-792.701887</td>\n",
              "      <td>40</td>\n",
              "      <td>среднее</td>\n",
              "      <td>1</td>\n",
              "      <td>женат / замужем</td>\n",
              "      <td>0</td>\n",
              "      <td>F</td>\n",
              "      <td>сотрудник</td>\n",
              "      <td>0</td>\n",
              "      <td>77069.234271</td>\n",
              "      <td>покупка коммерческой недвижимости</td>\n",
              "    </tr>\n",
              "    <tr>\n",
              "      <th>12</th>\n",
              "      <td>0</td>\n",
              "      <td>NaN</td>\n",
              "      <td>65</td>\n",
              "      <td>среднее</td>\n",
              "      <td>1</td>\n",
              "      <td>гражданский брак</td>\n",
              "      <td>1</td>\n",
              "      <td>M</td>\n",
              "      <td>пенсионер</td>\n",
              "      <td>0</td>\n",
              "      <td>NaN</td>\n",
              "      <td>сыграть свадьбу</td>\n",
              "    </tr>\n",
              "    <tr>\n",
              "      <th>13</th>\n",
              "      <td>0</td>\n",
              "      <td>-1846.641941</td>\n",
              "      <td>54</td>\n",
              "      <td>неоконченное высшее</td>\n",
              "      <td>2</td>\n",
              "      <td>женат / замужем</td>\n",
              "      <td>0</td>\n",
              "      <td>F</td>\n",
              "      <td>сотрудник</td>\n",
              "      <td>0</td>\n",
              "      <td>130458.228857</td>\n",
              "      <td>приобретение автомобиля</td>\n",
              "    </tr>\n",
              "    <tr>\n",
              "      <th>14</th>\n",
              "      <td>0</td>\n",
              "      <td>-1844.956182</td>\n",
              "      <td>56</td>\n",
              "      <td>высшее</td>\n",
              "      <td>0</td>\n",
              "      <td>гражданский брак</td>\n",
              "      <td>1</td>\n",
              "      <td>F</td>\n",
              "      <td>компаньон</td>\n",
              "      <td>1</td>\n",
              "      <td>165127.911772</td>\n",
              "      <td>покупка жилой недвижимости</td>\n",
              "    </tr>\n",
              "    <tr>\n",
              "      <th>15</th>\n",
              "      <td>1</td>\n",
              "      <td>-972.364419</td>\n",
              "      <td>26</td>\n",
              "      <td>среднее</td>\n",
              "      <td>1</td>\n",
              "      <td>женат / замужем</td>\n",
              "      <td>0</td>\n",
              "      <td>F</td>\n",
              "      <td>сотрудник</td>\n",
              "      <td>0</td>\n",
              "      <td>116820.904450</td>\n",
              "      <td>строительство собственной недвижимости</td>\n",
              "    </tr>\n",
              "    <tr>\n",
              "      <th>16</th>\n",
              "      <td>0</td>\n",
              "      <td>-1719.934226</td>\n",
              "      <td>35</td>\n",
              "      <td>среднее</td>\n",
              "      <td>1</td>\n",
              "      <td>женат / замужем</td>\n",
              "      <td>0</td>\n",
              "      <td>F</td>\n",
              "      <td>сотрудник</td>\n",
              "      <td>0</td>\n",
              "      <td>289202.704229</td>\n",
              "      <td>недвижимость</td>\n",
              "    </tr>\n",
              "    <tr>\n",
              "      <th>17</th>\n",
              "      <td>0</td>\n",
              "      <td>-2369.999720</td>\n",
              "      <td>33</td>\n",
              "      <td>высшее</td>\n",
              "      <td>0</td>\n",
              "      <td>гражданский брак</td>\n",
              "      <td>1</td>\n",
              "      <td>M</td>\n",
              "      <td>сотрудник</td>\n",
              "      <td>0</td>\n",
              "      <td>90410.586745</td>\n",
              "      <td>строительство недвижимости</td>\n",
              "    </tr>\n",
              "    <tr>\n",
              "      <th>18</th>\n",
              "      <td>0</td>\n",
              "      <td>400281.136913</td>\n",
              "      <td>53</td>\n",
              "      <td>среднее</td>\n",
              "      <td>1</td>\n",
              "      <td>вдовец / вдова</td>\n",
              "      <td>2</td>\n",
              "      <td>F</td>\n",
              "      <td>пенсионер</td>\n",
              "      <td>0</td>\n",
              "      <td>56823.777243</td>\n",
              "      <td>на покупку подержанного автомобиля</td>\n",
              "    </tr>\n",
              "    <tr>\n",
              "      <th>19</th>\n",
              "      <td>0</td>\n",
              "      <td>-10038.818549</td>\n",
              "      <td>48</td>\n",
              "      <td>СРЕДНЕЕ</td>\n",
              "      <td>1</td>\n",
              "      <td>в разводе</td>\n",
              "      <td>3</td>\n",
              "      <td>F</td>\n",
              "      <td>сотрудник</td>\n",
              "      <td>0</td>\n",
              "      <td>242831.107982</td>\n",
              "      <td>на покупку своего автомобиля</td>\n",
              "    </tr>\n",
              "  </tbody>\n",
              "</table>\n",
              "</div>"
            ],
            "text/plain": [
              "    children  days_employed  dob_years            education  education_id  \\\n",
              "0          1   -8437.673028         42               высшее             0   \n",
              "1          1   -4024.803754         36              среднее             1   \n",
              "2          0   -5623.422610         33              Среднее             1   \n",
              "3          3   -4124.747207         32              среднее             1   \n",
              "4          0  340266.072047         53              среднее             1   \n",
              "5          0    -926.185831         27               высшее             0   \n",
              "6          0   -2879.202052         43               высшее             0   \n",
              "7          0    -152.779569         50              СРЕДНЕЕ             1   \n",
              "8          2   -6929.865299         35               ВЫСШЕЕ             0   \n",
              "9          0   -2188.756445         41              среднее             1   \n",
              "10         2   -4171.483647         36               высшее             0   \n",
              "11         0    -792.701887         40              среднее             1   \n",
              "12         0            NaN         65              среднее             1   \n",
              "13         0   -1846.641941         54  неоконченное высшее             2   \n",
              "14         0   -1844.956182         56               высшее             0   \n",
              "15         1    -972.364419         26              среднее             1   \n",
              "16         0   -1719.934226         35              среднее             1   \n",
              "17         0   -2369.999720         33               высшее             0   \n",
              "18         0  400281.136913         53              среднее             1   \n",
              "19         0  -10038.818549         48              СРЕДНЕЕ             1   \n",
              "\n",
              "       family_status  family_status_id gender income_type  debt  \\\n",
              "0    женат / замужем                 0      F   сотрудник     0   \n",
              "1    женат / замужем                 0      F   сотрудник     0   \n",
              "2    женат / замужем                 0      M   сотрудник     0   \n",
              "3    женат / замужем                 0      M   сотрудник     0   \n",
              "4   гражданский брак                 1      F   пенсионер     0   \n",
              "5   гражданский брак                 1      M   компаньон     0   \n",
              "6    женат / замужем                 0      F   компаньон     0   \n",
              "7    женат / замужем                 0      M   сотрудник     0   \n",
              "8   гражданский брак                 1      F   сотрудник     0   \n",
              "9    женат / замужем                 0      M   сотрудник     0   \n",
              "10   женат / замужем                 0      M   компаньон     0   \n",
              "11   женат / замужем                 0      F   сотрудник     0   \n",
              "12  гражданский брак                 1      M   пенсионер     0   \n",
              "13   женат / замужем                 0      F   сотрудник     0   \n",
              "14  гражданский брак                 1      F   компаньон     1   \n",
              "15   женат / замужем                 0      F   сотрудник     0   \n",
              "16   женат / замужем                 0      F   сотрудник     0   \n",
              "17  гражданский брак                 1      M   сотрудник     0   \n",
              "18    вдовец / вдова                 2      F   пенсионер     0   \n",
              "19         в разводе                 3      F   сотрудник     0   \n",
              "\n",
              "     total_income                                 purpose  \n",
              "0   253875.639453                           покупка жилья  \n",
              "1   112080.014102                 приобретение автомобиля  \n",
              "2   145885.952297                           покупка жилья  \n",
              "3   267628.550329              дополнительное образование  \n",
              "4   158616.077870                         сыграть свадьбу  \n",
              "5   255763.565419                           покупка жилья  \n",
              "6   240525.971920                       операции с жильем  \n",
              "7   135823.934197                             образование  \n",
              "8    95856.832424                   на проведение свадьбы  \n",
              "9   144425.938277                 покупка жилья для семьи  \n",
              "10  113943.491460                    покупка недвижимости  \n",
              "11   77069.234271       покупка коммерческой недвижимости  \n",
              "12            NaN                         сыграть свадьбу  \n",
              "13  130458.228857                 приобретение автомобиля  \n",
              "14  165127.911772              покупка жилой недвижимости  \n",
              "15  116820.904450  строительство собственной недвижимости  \n",
              "16  289202.704229                            недвижимость  \n",
              "17   90410.586745              строительство недвижимости  \n",
              "18   56823.777243      на покупку подержанного автомобиля  \n",
              "19  242831.107982            на покупку своего автомобиля  "
            ]
          },
          "execution_count": 2,
          "metadata": {},
          "output_type": "execute_result"
        }
      ],
      "source": [
        "data.head(20)"
      ]
    },
    {
      "cell_type": "markdown",
      "id": "1f2a71e9",
      "metadata": {
        "deletable": false,
        "editable": false,
        "id": "1f2a71e9"
      },
      "source": [
        "**Задание 3. Выведите основную информацию о датафрейме с помощью метода `info()`.**"
      ]
    },
    {
      "cell_type": "code",
      "execution_count": null,
      "id": "e6b89261",
      "metadata": {
        "deletable": false,
        "id": "e6b89261",
        "outputId": "15376089-8dad-46c9-b520-c05248d43158"
      },
      "outputs": [
        {
          "name": "stdout",
          "output_type": "stream",
          "text": [
            "<class 'pandas.core.frame.DataFrame'>\n",
            "RangeIndex: 21525 entries, 0 to 21524\n",
            "Data columns (total 12 columns):\n",
            " #   Column            Non-Null Count  Dtype  \n",
            "---  ------            --------------  -----  \n",
            " 0   children          21525 non-null  int64  \n",
            " 1   days_employed     19351 non-null  float64\n",
            " 2   dob_years         21525 non-null  int64  \n",
            " 3   education         21525 non-null  object \n",
            " 4   education_id      21525 non-null  int64  \n",
            " 5   family_status     21525 non-null  object \n",
            " 6   family_status_id  21525 non-null  int64  \n",
            " 7   gender            21525 non-null  object \n",
            " 8   income_type       21525 non-null  object \n",
            " 9   debt              21525 non-null  int64  \n",
            " 10  total_income      19351 non-null  float64\n",
            " 11  purpose           21525 non-null  object \n",
            "dtypes: float64(2), int64(5), object(5)\n",
            "memory usage: 2.0+ MB\n"
          ]
        }
      ],
      "source": [
        "data.info()"
      ]
    },
    {
      "cell_type": "markdown",
      "id": "5f884d98",
      "metadata": {
        "deletable": false,
        "editable": false,
        "id": "5f884d98"
      },
      "source": [
        "## Предобработка данных"
      ]
    },
    {
      "cell_type": "markdown",
      "id": "8e38ff6a",
      "metadata": {
        "deletable": false,
        "editable": false,
        "id": "8e38ff6a"
      },
      "source": [
        "### Удаление пропусков"
      ]
    },
    {
      "cell_type": "markdown",
      "id": "0a180525",
      "metadata": {
        "deletable": false,
        "editable": false,
        "id": "0a180525"
      },
      "source": [
        "**Задание 4. Выведите количество пропущенных значений для каждого столбца. Используйте комбинацию двух методов.**"
      ]
    },
    {
      "cell_type": "code",
      "execution_count": null,
      "id": "bbfc93b6",
      "metadata": {
        "deletable": false,
        "id": "bbfc93b6",
        "outputId": "81f4d817-781c-465c-ed15-91ce4446810d"
      },
      "outputs": [
        {
          "data": {
            "text/plain": [
              "children               0\n",
              "days_employed       2174\n",
              "dob_years              0\n",
              "education              0\n",
              "education_id           0\n",
              "family_status          0\n",
              "family_status_id       0\n",
              "gender                 0\n",
              "income_type            0\n",
              "debt                   0\n",
              "total_income        2174\n",
              "purpose                0\n",
              "dtype: int64"
            ]
          },
          "execution_count": 4,
          "metadata": {},
          "output_type": "execute_result"
        }
      ],
      "source": [
        "data.isna().sum()"
      ]
    },
    {
      "cell_type": "markdown",
      "id": "acff4fc6",
      "metadata": {
        "deletable": false,
        "editable": false,
        "id": "acff4fc6"
      },
      "source": [
        "**Задание 5. В двух столбцах есть пропущенные значения. Один из них — `days_employed`. Пропуски в этом столбце вы обработаете на следующем этапе. Другой столбец с пропущенными значениями — `total_income` — хранит данные о доходах. На сумму дохода сильнее всего влияет тип занятости, поэтому заполнить пропуски в этом столбце нужно медианным значением по каждому типу из столбца `income_type`. Например, у человека с типом занятости `сотрудник` пропуск в столбце `total_income` должен быть заполнен медианным доходом среди всех записей с тем же типом.**"
      ]
    },
    {
      "cell_type": "code",
      "execution_count": null,
      "id": "a2c9efd8",
      "metadata": {
        "deletable": false,
        "id": "a2c9efd8"
      },
      "outputs": [],
      "source": [
        "for t in data['income_type'].unique():\n",
        "    data.loc[(data['income_type'] == t) & (data['total_income'].isna()), 'total_income'] = \\\n",
        "    data.loc[(data['income_type'] == t), 'total_income'].median()"
      ]
    },
    {
      "cell_type": "markdown",
      "id": "6f07ff05",
      "metadata": {
        "deletable": false,
        "editable": false,
        "id": "6f07ff05"
      },
      "source": [
        "### Обработка аномальных значений"
      ]
    },
    {
      "cell_type": "markdown",
      "id": "a49c9433",
      "metadata": {
        "deletable": false,
        "editable": false,
        "id": "a49c9433"
      },
      "source": [
        "**Задание 6. В данных могут встречаться артефакты (аномалии) — значения, которые не отражают действительность и появились по какой-то ошибке. таким артефактом будет отрицательное количество дней трудового стажа в столбце `days_employed`. Для реальных данных это нормально. Обработайте значения в этом столбце: замените все отрицательные значения положительными с помощью метода `abs()`.**"
      ]
    },
    {
      "cell_type": "code",
      "execution_count": null,
      "id": "e85494cf",
      "metadata": {
        "deletable": false,
        "id": "e85494cf"
      },
      "outputs": [],
      "source": [
        "data['days_employed'] = data['days_employed'].abs()"
      ]
    },
    {
      "cell_type": "markdown",
      "id": "629c66a2",
      "metadata": {
        "deletable": false,
        "editable": false,
        "id": "629c66a2"
      },
      "source": [
        "**Задание 7. Для каждого типа занятости выведите медианное значение трудового стажа `days_employed` в днях.**"
      ]
    },
    {
      "cell_type": "code",
      "execution_count": null,
      "id": "9e18b880",
      "metadata": {
        "deletable": false,
        "id": "9e18b880",
        "outputId": "801ef80e-522b-4668-f34e-565af7432bcf"
      },
      "outputs": [
        {
          "data": {
            "text/plain": [
              "income_type\n",
              "безработный        366413.652744\n",
              "в декрете            3296.759962\n",
              "госслужащий          2689.368353\n",
              "компаньон            1547.382223\n",
              "пенсионер          365213.306266\n",
              "предприниматель       520.848083\n",
              "сотрудник            1574.202821\n",
              "студент               578.751554\n",
              "Name: days_employed, dtype: float64"
            ]
          },
          "execution_count": 7,
          "metadata": {},
          "output_type": "execute_result"
        }
      ],
      "source": [
        "data.groupby('income_type')['days_employed'].agg('median')"
      ]
    },
    {
      "cell_type": "markdown",
      "id": "85976b4d",
      "metadata": {
        "deletable": false,
        "editable": false,
        "id": "85976b4d"
      },
      "source": [
        "У двух типов (безработные и пенсионеры) получатся аномально большие значения. Исправить такие значения сложно, поэтому оставьте их как есть. Тем более этот столбец не понадобится вам для исследования."
      ]
    },
    {
      "cell_type": "markdown",
      "id": "f28cb2c1",
      "metadata": {
        "deletable": false,
        "editable": false,
        "id": "f28cb2c1"
      },
      "source": [
        "**Задание 8. Выведите перечень уникальных значений столбца `children`.**"
      ]
    },
    {
      "cell_type": "code",
      "execution_count": null,
      "id": "8fb44282",
      "metadata": {
        "deletable": false,
        "id": "8fb44282",
        "outputId": "6975b15c-7f95-4697-d16d-a0c79b657b03"
      },
      "outputs": [
        {
          "data": {
            "text/plain": [
              "array([ 1,  0,  3,  2, -1,  4, 20,  5])"
            ]
          },
          "execution_count": 8,
          "metadata": {},
          "output_type": "execute_result"
        }
      ],
      "source": [
        "data['children'].unique()"
      ]
    },
    {
      "cell_type": "markdown",
      "id": "4b32fb81",
      "metadata": {
        "deletable": false,
        "editable": false,
        "id": "4b32fb81"
      },
      "source": [
        "**Задание 9. В столбце `children` есть два аномальных значения. Удалите строки, в которых встречаются такие аномальные значения из датафрейма `data`.**"
      ]
    },
    {
      "cell_type": "code",
      "execution_count": null,
      "id": "d29402cd",
      "metadata": {
        "deletable": false,
        "id": "d29402cd"
      },
      "outputs": [],
      "source": [
        "data = data[(data['children'] != -1) & (data['children'] != 20)]"
      ]
    },
    {
      "cell_type": "markdown",
      "id": "9219ec15",
      "metadata": {
        "deletable": false,
        "editable": false,
        "id": "9219ec15"
      },
      "source": [
        "**Задание 10. Ещё раз выведите перечень уникальных значений столбца `children`, чтобы убедиться, что артефакты удалены.**"
      ]
    },
    {
      "cell_type": "code",
      "execution_count": null,
      "id": "16dbf06f",
      "metadata": {
        "deletable": false,
        "id": "16dbf06f",
        "outputId": "b2097101-d49d-44d9-901b-32a65c9463d1"
      },
      "outputs": [
        {
          "data": {
            "text/plain": [
              "array([1, 0, 3, 2, 4, 5])"
            ]
          },
          "execution_count": 10,
          "metadata": {},
          "output_type": "execute_result"
        }
      ],
      "source": [
        "data['children'].unique()"
      ]
    },
    {
      "cell_type": "markdown",
      "id": "eeffc231",
      "metadata": {
        "deletable": false,
        "editable": false,
        "id": "eeffc231"
      },
      "source": [
        "### Удаление пропусков (продолжение)"
      ]
    },
    {
      "cell_type": "markdown",
      "id": "4cfe0f16",
      "metadata": {
        "deletable": false,
        "editable": false,
        "id": "4cfe0f16"
      },
      "source": [
        "**Задание 11. Заполните пропуски в столбце `days_employed` медианными значениями по каждого типа занятости `income_type`.**"
      ]
    },
    {
      "cell_type": "code",
      "execution_count": null,
      "id": "06350c41",
      "metadata": {
        "deletable": false,
        "id": "06350c41"
      },
      "outputs": [],
      "source": [
        "for t in data['income_type'].unique():\n",
        "    data.loc[(data['income_type'] == t) & (data['days_employed'].isna()), 'days_employed'] = \\\n",
        "    data.loc[(data['income_type'] == t), 'days_employed'].median()"
      ]
    },
    {
      "cell_type": "markdown",
      "id": "37664aae",
      "metadata": {
        "deletable": false,
        "editable": false,
        "id": "37664aae"
      },
      "source": [
        "**Задание 12. Убедитесь, что все пропуски заполнены. Проверьте себя и ещё раз выведите количество пропущенных значений для каждого столбца с помощью двух методов.**"
      ]
    },
    {
      "cell_type": "code",
      "execution_count": null,
      "id": "5706e864",
      "metadata": {
        "deletable": false,
        "id": "5706e864",
        "outputId": "8da1e4e1-358e-4e87-98c9-f261bce0a7b2"
      },
      "outputs": [
        {
          "data": {
            "text/plain": [
              "children            0\n",
              "days_employed       0\n",
              "dob_years           0\n",
              "education           0\n",
              "education_id        0\n",
              "family_status       0\n",
              "family_status_id    0\n",
              "gender              0\n",
              "income_type         0\n",
              "debt                0\n",
              "total_income        0\n",
              "purpose             0\n",
              "dtype: int64"
            ]
          },
          "execution_count": 12,
          "metadata": {},
          "output_type": "execute_result"
        }
      ],
      "source": [
        "data.isna().sum()"
      ]
    },
    {
      "cell_type": "markdown",
      "id": "9d7af494",
      "metadata": {
        "deletable": false,
        "editable": false,
        "id": "9d7af494"
      },
      "source": [
        "### Изменение типов данных"
      ]
    },
    {
      "cell_type": "markdown",
      "id": "e961eae0",
      "metadata": {
        "deletable": false,
        "editable": false,
        "id": "e961eae0"
      },
      "source": [
        "**Задание 13. Замените вещественный тип данных в столбце `total_income` на целочисленный с помощью метода `astype()`.**"
      ]
    },
    {
      "cell_type": "code",
      "execution_count": null,
      "id": "e08c3312",
      "metadata": {
        "deletable": false,
        "id": "e08c3312"
      },
      "outputs": [],
      "source": [
        "data['total_income'] = data['total_income'].astype(int)"
      ]
    },
    {
      "cell_type": "markdown",
      "id": "3f1d6741",
      "metadata": {
        "deletable": false,
        "editable": false,
        "id": "3f1d6741"
      },
      "source": [
        "### Обработка дубликатов"
      ]
    },
    {
      "cell_type": "markdown",
      "id": "b0b5d5cb",
      "metadata": {
        "deletable": false,
        "editable": false,
        "id": "b0b5d5cb"
      },
      "source": [
        "**Задание 14. Обработайте неявные дубликаты в столбце `education`. В этом столбце есть одни и те же значения, но записанные по-разному: с использованием заглавных и строчных букв. Приведите их к нижнему регистру. Проверьте остальные столбцы.**"
      ]
    },
    {
      "cell_type": "code",
      "execution_count": null,
      "id": "55e4c7f9",
      "metadata": {
        "deletable": false,
        "id": "55e4c7f9"
      },
      "outputs": [],
      "source": [
        "data['education'] = data['education'].str.lower()"
      ]
    },
    {
      "cell_type": "markdown",
      "id": "8d3a9ef3",
      "metadata": {
        "deletable": false,
        "editable": false,
        "id": "8d3a9ef3"
      },
      "source": [
        "**Задание 15. Выведите на экран количество строк-дубликатов в данных. Если такие строки присутствуют, удалите их.**"
      ]
    },
    {
      "cell_type": "code",
      "execution_count": null,
      "id": "94ccb6a4",
      "metadata": {
        "deletable": false,
        "id": "94ccb6a4",
        "outputId": "9684deba-1934-42d1-99e1-cda61740f822"
      },
      "outputs": [
        {
          "data": {
            "text/plain": [
              "71"
            ]
          },
          "execution_count": 15,
          "metadata": {},
          "output_type": "execute_result"
        }
      ],
      "source": [
        "data.duplicated().sum()"
      ]
    },
    {
      "cell_type": "code",
      "execution_count": null,
      "id": "94b66388",
      "metadata": {
        "deletable": false,
        "id": "94b66388"
      },
      "outputs": [],
      "source": [
        "data = data.drop_duplicates()"
      ]
    },
    {
      "cell_type": "markdown",
      "id": "8d5497d8",
      "metadata": {
        "deletable": false,
        "editable": false,
        "id": "8d5497d8"
      },
      "source": [
        "### Категоризация данных"
      ]
    },
    {
      "cell_type": "markdown",
      "id": "a50b7bf2",
      "metadata": {
        "deletable": false,
        "editable": false,
        "id": "a50b7bf2"
      },
      "source": [
        "**Задание 16. На основании диапазонов, указанных ниже, создайте в датафрейме `data` столбец `total_income_category` с категориями:**\n",
        "\n",
        "- 0–30000 — `'E'`;\n",
        "- 30001–50000 — `'D'`;\n",
        "- 50001–200000 — `'C'`;\n",
        "- 200001–1000000 — `'B'`;\n",
        "- 1000001 и выше — `'A'`.\n",
        "\n",
        "\n",
        "**Например, кредитополучателю с доходом 25000 нужно назначить категорию `'E'`, а клиенту, получающему 235000, — `'B'`. Используйте собственную функцию с именем `categorize_income()` и метод `apply()`.**"
      ]
    },
    {
      "cell_type": "code",
      "execution_count": null,
      "id": "20f5fd1e",
      "metadata": {
        "deletable": false,
        "id": "20f5fd1e"
      },
      "outputs": [],
      "source": [
        "def categorize_income(income):\n",
        "    try:\n",
        "        if 0 <= income <= 30000:\n",
        "            return 'E'\n",
        "        elif 30001 <= income <= 50000:\n",
        "            return 'D'\n",
        "        elif 50001 <= income <= 200000:\n",
        "            return 'C'\n",
        "        elif 200001 <= income <= 1000000:\n",
        "            return 'B'\n",
        "        elif income >= 1000001:\n",
        "            return 'A'\n",
        "    except:\n",
        "        pass"
      ]
    },
    {
      "cell_type": "code",
      "execution_count": null,
      "id": "add56046",
      "metadata": {
        "deletable": false,
        "id": "add56046"
      },
      "outputs": [],
      "source": [
        "data['total_income_category'] = data['total_income'].apply(categorize_income)"
      ]
    },
    {
      "cell_type": "markdown",
      "id": "ac191237",
      "metadata": {
        "deletable": false,
        "editable": false,
        "id": "ac191237"
      },
      "source": [
        "**Задание 17. Выведите на экран перечень уникальных целей взятия кредита из столбца `purpose`.**"
      ]
    },
    {
      "cell_type": "code",
      "execution_count": null,
      "id": "68b9d582",
      "metadata": {
        "deletable": false,
        "id": "68b9d582",
        "outputId": "673c12d9-7d7e-4ae0-9812-c622c89dd244"
      },
      "outputs": [
        {
          "data": {
            "text/plain": [
              "array(['покупка жилья', 'приобретение автомобиля',\n",
              "       'дополнительное образование', 'сыграть свадьбу',\n",
              "       'операции с жильем', 'образование', 'на проведение свадьбы',\n",
              "       'покупка жилья для семьи', 'покупка недвижимости',\n",
              "       'покупка коммерческой недвижимости', 'покупка жилой недвижимости',\n",
              "       'строительство собственной недвижимости', 'недвижимость',\n",
              "       'строительство недвижимости', 'на покупку подержанного автомобиля',\n",
              "       'на покупку своего автомобиля',\n",
              "       'операции с коммерческой недвижимостью',\n",
              "       'строительство жилой недвижимости', 'жилье',\n",
              "       'операции со своей недвижимостью', 'автомобили',\n",
              "       'заняться образованием', 'сделка с подержанным автомобилем',\n",
              "       'получение образования', 'автомобиль', 'свадьба',\n",
              "       'получение дополнительного образования', 'покупка своего жилья',\n",
              "       'операции с недвижимостью', 'получение высшего образования',\n",
              "       'свой автомобиль', 'сделка с автомобилем',\n",
              "       'профильное образование', 'высшее образование',\n",
              "       'покупка жилья для сдачи', 'на покупку автомобиля', 'ремонт жилью',\n",
              "       'заняться высшим образованием'], dtype=object)"
            ]
          },
          "execution_count": 19,
          "metadata": {},
          "output_type": "execute_result"
        }
      ],
      "source": [
        "data['purpose'].unique()"
      ]
    },
    {
      "cell_type": "markdown",
      "id": "61dec130",
      "metadata": {
        "deletable": false,
        "editable": false,
        "id": "61dec130"
      },
      "source": [
        "**Задание 18. Создайте функцию, которая на основании данных из столбца `purpose` сформирует новый столбец `purpose_category`, в который войдут следующие категории:**\n",
        "\n",
        "- `'операции с автомобилем'`,\n",
        "- `'операции с недвижимостью'`,\n",
        "- `'проведение свадьбы'`,\n",
        "- `'получение образования'`.\n",
        "\n",
        "**Например, если в столбце `purpose` находится подстрока `'на покупку автомобиля'`, то в столбце `purpose_category` должна появиться строка `'операции с автомобилем'`.**\n",
        "\n",
        "**Используйте собственную функцию с именем `categorize_purpose()` и метод `apply()`. Изучите данные в столбце `purpose` и определите, какие подстроки помогут вам правильно определить категорию.**"
      ]
    },
    {
      "cell_type": "code",
      "execution_count": null,
      "id": "d81d409f",
      "metadata": {
        "deletable": false,
        "id": "d81d409f"
      },
      "outputs": [],
      "source": [
        "def categorize_purpose(row):\n",
        "    try:\n",
        "        if 'автом' in row:\n",
        "            return 'операции с автомобилем'\n",
        "        elif 'жил' in row or 'недвиж' in row:\n",
        "            return 'операции с недвижимостью'\n",
        "        elif 'свад' in row:\n",
        "            return 'проведение свадьбы'\n",
        "        elif 'образов' in row:\n",
        "            return 'получение образования'\n",
        "    except:\n",
        "        return 'нет категории'"
      ]
    },
    {
      "cell_type": "code",
      "execution_count": null,
      "id": "e940d19f",
      "metadata": {
        "deletable": false,
        "id": "e940d19f"
      },
      "outputs": [],
      "source": [
        "data['purpose_category'] = data['purpose'].apply(categorize_purpose)"
      ]
    },
    {
      "cell_type": "markdown",
      "id": "32b975b2",
      "metadata": {
        "deletable": false,
        "editable": false,
        "id": "32b975b2"
      },
      "source": [
        "### Шаг 3. Исследуйте данные и ответьте на вопросы"
      ]
    },
    {
      "cell_type": "markdown",
      "id": "74fa0686",
      "metadata": {
        "deletable": false,
        "editable": false,
        "id": "74fa0686"
      },
      "source": [
        "#### 3.1 Есть ли зависимость между количеством детей и возвратом кредита в срок?"
      ]
    },
    {
      "cell_type": "code",
      "execution_count": null,
      "id": "dbc9fb3d",
      "metadata": {
        "deletable": false,
        "id": "dbc9fb3d",
        "outputId": "f5439af2-42c7-431c-eda3-6424cc447fae"
      },
      "outputs": [
        {
          "data": {
            "text/html": [
              "<div>\n",
              "<style scoped>\n",
              "    .dataframe tbody tr th:only-of-type {\n",
              "        vertical-align: middle;\n",
              "    }\n",
              "\n",
              "    .dataframe tbody tr th {\n",
              "        vertical-align: top;\n",
              "    }\n",
              "\n",
              "    .dataframe thead th {\n",
              "        text-align: right;\n",
              "    }\n",
              "</style>\n",
              "<table border=\"1\" class=\"dataframe\">\n",
              "  <thead>\n",
              "    <tr style=\"text-align: right;\">\n",
              "      <th></th>\n",
              "      <th>кол-во должников</th>\n",
              "      <th>всего заемщиков</th>\n",
              "      <th>доля должников, %</th>\n",
              "    </tr>\n",
              "    <tr>\n",
              "      <th>children</th>\n",
              "      <th></th>\n",
              "      <th></th>\n",
              "      <th></th>\n",
              "    </tr>\n",
              "  </thead>\n",
              "  <tbody>\n",
              "    <tr>\n",
              "      <th>4</th>\n",
              "      <td>4</td>\n",
              "      <td>41</td>\n",
              "      <td>9.76</td>\n",
              "    </tr>\n",
              "    <tr>\n",
              "      <th>2</th>\n",
              "      <td>194</td>\n",
              "      <td>2052</td>\n",
              "      <td>9.45</td>\n",
              "    </tr>\n",
              "    <tr>\n",
              "      <th>1</th>\n",
              "      <td>444</td>\n",
              "      <td>4808</td>\n",
              "      <td>9.23</td>\n",
              "    </tr>\n",
              "    <tr>\n",
              "      <th>3</th>\n",
              "      <td>27</td>\n",
              "      <td>330</td>\n",
              "      <td>8.18</td>\n",
              "    </tr>\n",
              "    <tr>\n",
              "      <th>0</th>\n",
              "      <td>1063</td>\n",
              "      <td>14091</td>\n",
              "      <td>7.54</td>\n",
              "    </tr>\n",
              "    <tr>\n",
              "      <th>5</th>\n",
              "      <td>0</td>\n",
              "      <td>9</td>\n",
              "      <td>0.00</td>\n",
              "    </tr>\n",
              "  </tbody>\n",
              "</table>\n",
              "</div>"
            ],
            "text/plain": [
              "          кол-во должников  всего заемщиков  доля должников, %\n",
              "children                                                      \n",
              "4                        4               41               9.76\n",
              "2                      194             2052               9.45\n",
              "1                      444             4808               9.23\n",
              "3                       27              330               8.18\n",
              "0                     1063            14091               7.54\n",
              "5                        0                9               0.00"
            ]
          },
          "execution_count": 22,
          "metadata": {},
          "output_type": "execute_result"
        }
      ],
      "source": [
        "#мы уже привели данные к нужному виду, теперь нужно посмотреть, как влияет количество детей на процент возврата кредита в срок\n",
        "#сгруппируем данные по количеству детей и посчитаем % просрочек для каждой группы\n",
        "#так как во всех строках одинаковое количество, то общее число заемщиков можно считать по любой. Взяла пол.\n",
        "\n",
        "data_children = data.pivot_table(index = ['children'], values = \\\n",
        "                                 ['gender', 'debt'], aggfunc = {\"gender\": \"count\", \"debt\": 'sum'})\n",
        "data_children['доля должников, %'] = ((data_children['debt']/data_children['gender'])*100).round(2)\n",
        "data_children = data_children.rename(columns = \\\n",
        "                                     {\"debt\": \"кол-во должников\", \"gender\": \"всего заемщиков\"})\n",
        "\n",
        "data_children = data_children.sort_values(by = 'доля должников, %', ascending = False)\n",
        "data_children"
      ]
    },
    {
      "cell_type": "markdown",
      "id": "b89ff566",
      "metadata": {
        "id": "b89ff566"
      },
      "source": [
        "**Отсутствуют просрочки у семей с количеством детей, равным 5. Подозрительная цифра. Можно проверить, сколько всего таких семей, чтобы понять, есть ли ошибка в данных.**"
      ]
    },
    {
      "cell_type": "code",
      "execution_count": null,
      "id": "a671715b",
      "metadata": {
        "id": "a671715b",
        "outputId": "ede14018-7819-40df-ed68-16129fd87bf4"
      },
      "outputs": [
        {
          "data": {
            "text/plain": [
              "children    9\n",
              "dtype: int64"
            ]
          },
          "execution_count": 23,
          "metadata": {},
          "output_type": "execute_result"
        }
      ],
      "source": [
        "data.query(\"children == 5\").agg({'children': 'count'})"
      ]
    },
    {
      "cell_type": "markdown",
      "id": "7b475b66",
      "metadata": {
        "id": "7b475b66"
      },
      "source": [
        "**Всего таких семей 9. В разрезе объема данных это значение я бы не назвала статистически значимым. Из 9 семей ни у кого не было просрочек - это хорошо. Однако, я бы взяла во внимание куда более значимые данные.**"
      ]
    },
    {
      "cell_type": "markdown",
      "id": "c4cd8a00",
      "metadata": {
        "deletable": false,
        "id": "c4cd8a00"
      },
      "source": [
        "**Вывод:**\n",
        "Семьи с наибольшим количеством детей (с 5 не берем врасчет, так как выборка слишком маленькая) оказались наиболее склонны к долгам по кредитам. Думаю, это связано с большими расходами. Несмотря на поддержку государства, семьям среднего класса (особенно если учесть, что мать в декрете), тяжело обеспечивать 4 детей. Денег не хватает, берут новые кредиты, на гашение которых тоже не хватает денег. И так по кругу.\n",
        "\n",
        "В то время как семьи, у которых детей нет, оказались менее склонны к этому. Думаю, это потому, что им важна хорошая кредитная история, так как, скорее всего, планируется ипотека и автокредиты."
      ]
    },
    {
      "cell_type": "markdown",
      "id": "141bbce5",
      "metadata": {
        "deletable": false,
        "editable": false,
        "id": "141bbce5"
      },
      "source": [
        "#### 3.2 Есть ли зависимость между семейным положением и возвратом кредита в срок?"
      ]
    },
    {
      "cell_type": "code",
      "execution_count": null,
      "id": "d6306a10",
      "metadata": {
        "deletable": false,
        "id": "d6306a10",
        "outputId": "d69509a6-b353-4ff8-cea0-eb7222a7e299"
      },
      "outputs": [
        {
          "data": {
            "text/html": [
              "<div>\n",
              "<style scoped>\n",
              "    .dataframe tbody tr th:only-of-type {\n",
              "        vertical-align: middle;\n",
              "    }\n",
              "\n",
              "    .dataframe tbody tr th {\n",
              "        vertical-align: top;\n",
              "    }\n",
              "\n",
              "    .dataframe thead th {\n",
              "        text-align: right;\n",
              "    }\n",
              "</style>\n",
              "<table border=\"1\" class=\"dataframe\">\n",
              "  <thead>\n",
              "    <tr style=\"text-align: right;\">\n",
              "      <th></th>\n",
              "      <th>кол-во должников</th>\n",
              "      <th>всего заемщиков</th>\n",
              "      <th>доля должников, %</th>\n",
              "    </tr>\n",
              "    <tr>\n",
              "      <th>family_status</th>\n",
              "      <th></th>\n",
              "      <th></th>\n",
              "      <th></th>\n",
              "    </tr>\n",
              "  </thead>\n",
              "  <tbody>\n",
              "    <tr>\n",
              "      <th>Не женат / не замужем</th>\n",
              "      <td>273</td>\n",
              "      <td>2796</td>\n",
              "      <td>9.76</td>\n",
              "    </tr>\n",
              "    <tr>\n",
              "      <th>гражданский брак</th>\n",
              "      <td>385</td>\n",
              "      <td>4134</td>\n",
              "      <td>9.31</td>\n",
              "    </tr>\n",
              "    <tr>\n",
              "      <th>женат / замужем</th>\n",
              "      <td>927</td>\n",
              "      <td>12261</td>\n",
              "      <td>7.56</td>\n",
              "    </tr>\n",
              "    <tr>\n",
              "      <th>в разводе</th>\n",
              "      <td>84</td>\n",
              "      <td>1189</td>\n",
              "      <td>7.06</td>\n",
              "    </tr>\n",
              "    <tr>\n",
              "      <th>вдовец / вдова</th>\n",
              "      <td>63</td>\n",
              "      <td>951</td>\n",
              "      <td>6.62</td>\n",
              "    </tr>\n",
              "  </tbody>\n",
              "</table>\n",
              "</div>"
            ],
            "text/plain": [
              "                       кол-во должников  всего заемщиков  доля должников, %\n",
              "family_status                                                              \n",
              "Не женат / не замужем               273             2796               9.76\n",
              "гражданский брак                    385             4134               9.31\n",
              "женат / замужем                     927            12261               7.56\n",
              "в разводе                            84             1189               7.06\n",
              "вдовец / вдова                       63              951               6.62"
            ]
          },
          "execution_count": 24,
          "metadata": {},
          "output_type": "execute_result"
        }
      ],
      "source": [
        "#аналогично прошлому заданию, решим текущее\n",
        "\n",
        "\n",
        "data_family_status = data.pivot_table(index = ['family_status'], values = \\\n",
        "                                 ['gender', 'debt'], aggfunc = {\"gender\": \"count\", \"debt\": 'sum'})\n",
        "data_family_status['доля должников, %'] = ((data_family_status['debt']/data_family_status['gender'])*100).round(2)\n",
        "data_family_status = data_family_status.rename(columns = \\\n",
        "                                     {\"debt\": \"кол-во должников\", \"gender\": \"всего заемщиков\"})\n",
        "\n",
        "data_family_status = data_family_status.sort_values(by = 'доля должников, %', ascending = False)\n",
        "data_family_status"
      ]
    },
    {
      "cell_type": "markdown",
      "id": "0274a054",
      "metadata": {
        "deletable": false,
        "id": "0274a054"
      },
      "source": [
        "**Вывод:**\n",
        "\n",
        "Холостые люди больше склонны к тому, чтобы не платить по кредитам. Думаю, связано с тем, что одному расплачиваться по долгам сложнее, чем делить это бремя с кем-то. Вдовы/вдовцы оказались более ответственными. Как правило, это люди пенсионного возраста, которые априори реже берут кредиты и более ответственно относятся к возврату долгов. При желании, можно проверить гипотезу с возрастом"
      ]
    },
    {
      "cell_type": "markdown",
      "id": "964a8cc8",
      "metadata": {
        "deletable": false,
        "editable": false,
        "id": "964a8cc8"
      },
      "source": [
        "#### 3.3 Есть ли зависимость между уровнем дохода и возвратом кредита в срок?"
      ]
    },
    {
      "cell_type": "code",
      "execution_count": null,
      "id": "78caa0c0",
      "metadata": {
        "deletable": false,
        "id": "78caa0c0",
        "outputId": "70e50b63-a321-4393-a98f-78b13b028a0f"
      },
      "outputs": [
        {
          "data": {
            "text/html": [
              "<div>\n",
              "<style scoped>\n",
              "    .dataframe tbody tr th:only-of-type {\n",
              "        vertical-align: middle;\n",
              "    }\n",
              "\n",
              "    .dataframe tbody tr th {\n",
              "        vertical-align: top;\n",
              "    }\n",
              "\n",
              "    .dataframe thead th {\n",
              "        text-align: right;\n",
              "    }\n",
              "</style>\n",
              "<table border=\"1\" class=\"dataframe\">\n",
              "  <thead>\n",
              "    <tr style=\"text-align: right;\">\n",
              "      <th></th>\n",
              "      <th>кол-во должников</th>\n",
              "      <th>всего заемщиков</th>\n",
              "      <th>доля должников, %</th>\n",
              "    </tr>\n",
              "    <tr>\n",
              "      <th>total_income_category</th>\n",
              "      <th></th>\n",
              "      <th></th>\n",
              "      <th></th>\n",
              "    </tr>\n",
              "  </thead>\n",
              "  <tbody>\n",
              "    <tr>\n",
              "      <th>E</th>\n",
              "      <td>2</td>\n",
              "      <td>22</td>\n",
              "      <td>9.09</td>\n",
              "    </tr>\n",
              "    <tr>\n",
              "      <th>C</th>\n",
              "      <td>1353</td>\n",
              "      <td>15921</td>\n",
              "      <td>8.50</td>\n",
              "    </tr>\n",
              "    <tr>\n",
              "      <th>A</th>\n",
              "      <td>2</td>\n",
              "      <td>25</td>\n",
              "      <td>8.00</td>\n",
              "    </tr>\n",
              "    <tr>\n",
              "      <th>B</th>\n",
              "      <td>354</td>\n",
              "      <td>5014</td>\n",
              "      <td>7.06</td>\n",
              "    </tr>\n",
              "    <tr>\n",
              "      <th>D</th>\n",
              "      <td>21</td>\n",
              "      <td>349</td>\n",
              "      <td>6.02</td>\n",
              "    </tr>\n",
              "  </tbody>\n",
              "</table>\n",
              "</div>"
            ],
            "text/plain": [
              "                       кол-во должников  всего заемщиков  доля должников, %\n",
              "total_income_category                                                      \n",
              "E                                     2               22               9.09\n",
              "C                                  1353            15921               8.50\n",
              "A                                     2               25               8.00\n",
              "B                                   354             5014               7.06\n",
              "D                                    21              349               6.02"
            ]
          },
          "execution_count": 25,
          "metadata": {},
          "output_type": "execute_result"
        }
      ],
      "source": [
        "#аналогично прошлому заданию, решим текущее\n",
        "data_total_income = data.pivot_table(index = ['total_income_category'], values = \\\n",
        "                                 ['gender', 'debt'], aggfunc = {\"gender\": \"count\", \"debt\": 'sum'})\n",
        "data_total_income['доля должников, %'] = ((data_total_income['debt']/data_total_income['gender'])*100).round(2)\n",
        "data_total_income = data_total_income.rename(columns = \\\n",
        "                                     {\"debt\": \"кол-во должников\", \"gender\": \"всего заемщиков\"})\n",
        "\n",
        "data_total_income = data_total_income.sort_values(by = 'доля должников, %', ascending = False)\n",
        "data_total_income"
      ]
    },
    {
      "cell_type": "markdown",
      "id": "aa283882",
      "metadata": {
        "deletable": false,
        "id": "aa283882"
      },
      "source": [
        "**Вывод:**\n",
        "\n",
        "Ранее мы уже категоризировали данные по уровню дохода, где E - самое маленькое значение, а A - самое высокое.\n",
        "Очевидно, что люди с самым низким уровнем дохода наиболее склонны к долгам по кредитам. Чаще всего это люди с низкой финансовой грамотностью, которые берут кредиты на гашение других кредитов, в итоге остаются без денег, попадают в просрочки и рано или поздно оказываются в ситуации, когда новый кредит уже не взять, а старые уже висят.\n",
        "\n",
        "Наиболее ответственными оказались люди с уровнем дохода чуть ниже среднего. Как правило, это люди, которые не хотят влезать в большую долговую яму и берут больше важных кредитов, чем просто мелких.\n",
        "\n",
        "\n",
        "**Однако, по всем категориям, кроме B и C данных так мало, что, по аналогии с количеством детей, рассматривать стоит только эти две. Остальне не так статистически значимы и имеют большую погрешность. Следовательно, люди, доход которых от 200001 до 1000000 менее склонны к просрочкам, чем те, кто получает зарплату в диапазоне от 50001 до 200000. Я так же захотела посмотреть отдельно по этим двум категориям, на что именно они чаще берут кредиты и по каким целям больший процент просрочек. Здесь можно увидеть, что люди, которые берут кредит на образование, более склонны к просрочкам чем те, кто берет кредит на покупку недвижимости. Здесь, при желании, так же можно проверить гипотезу о взаимосвязи категории и возраста**"
      ]
    },
    {
      "cell_type": "code",
      "execution_count": null,
      "id": "c5c95cbf",
      "metadata": {
        "id": "c5c95cbf",
        "outputId": "a1c80d26-8534-4268-8d1a-330ebf734fb6"
      },
      "outputs": [
        {
          "data": {
            "text/plain": [
              "purpose_category\n",
              "получение образования       0.093750\n",
              "операции с автомобилем      0.092791\n",
              "проведение свадьбы          0.079190\n",
              "операции с недвижимостью    0.073046\n",
              "Name: debt, dtype: float64"
            ]
          },
          "execution_count": 26,
          "metadata": {},
          "output_type": "execute_result"
        }
      ],
      "source": [
        "data.query('total_income_category == \"B\" | total_income_category == \"C\"').groupby('purpose_category')['debt'].mean().sort_values(ascending = False)"
      ]
    },
    {
      "cell_type": "code",
      "execution_count": null,
      "id": "0c84b6d7",
      "metadata": {
        "id": "0c84b6d7",
        "outputId": "4b781b50-c0a0-414c-9b64-c4dbe23be07f"
      },
      "outputs": [
        {
          "data": {
            "text/plain": [
              "<AxesSubplot:xlabel='total_income_category', ylabel='debt'>"
            ]
          },
          "execution_count": 27,
          "metadata": {},
          "output_type": "execute_result"
        },
        {
          "data": {
            "image/png": "[encoded data removed]",
            "text/plain": [
              "<Figure size 432x288 with 1 Axes>"
            ]
          },
          "metadata": {
            "needs_background": "light"
          },
          "output_type": "display_data"
        }
      ],
      "source": [
        "import seaborn as sns\n",
        "sns.barplot(data=data, x='total_income_category', y='debt')"
      ]
    },
    {
      "cell_type": "code",
      "execution_count": null,
      "id": "91d9e14d",
      "metadata": {
        "id": "91d9e14d",
        "outputId": "fd411b4e-efe8-4379-c323-c0dd66562674"
      },
      "outputs": [
        {
          "data": {
            "text/plain": [
              "purpose_category\n",
              "получение образования       0.093750\n",
              "операции с автомобилем      0.092791\n",
              "проведение свадьбы          0.079190\n",
              "операции с недвижимостью    0.073046\n",
              "Name: debt, dtype: float64"
            ]
          },
          "execution_count": 28,
          "metadata": {},
          "output_type": "execute_result"
        }
      ],
      "source": [
        "data.query('total_income_category == \"B\" | total_income_category == \"C\"').groupby('purpose_category')['debt'].mean().sort_values(ascending = False)"
      ]
    },
    {
      "cell_type": "markdown",
      "id": "fcd98fb2",
      "metadata": {
        "deletable": false,
        "editable": false,
        "id": "fcd98fb2"
      },
      "source": [
        "#### 3.4 Как разные цели кредита влияют на его возврат в срок?"
      ]
    },
    {
      "cell_type": "code",
      "execution_count": null,
      "id": "71669fc5",
      "metadata": {
        "deletable": false,
        "id": "71669fc5",
        "outputId": "41b51bc3-eaf4-4a3b-bb6d-e20934fe23e4"
      },
      "outputs": [
        {
          "data": {
            "text/html": [
              "<div>\n",
              "<style scoped>\n",
              "    .dataframe tbody tr th:only-of-type {\n",
              "        vertical-align: middle;\n",
              "    }\n",
              "\n",
              "    .dataframe tbody tr th {\n",
              "        vertical-align: top;\n",
              "    }\n",
              "\n",
              "    .dataframe thead th {\n",
              "        text-align: right;\n",
              "    }\n",
              "</style>\n",
              "<table border=\"1\" class=\"dataframe\">\n",
              "  <thead>\n",
              "    <tr style=\"text-align: right;\">\n",
              "      <th></th>\n",
              "      <th>кол-во должников</th>\n",
              "      <th>всего заемщиков</th>\n",
              "      <th>доля должников, %</th>\n",
              "    </tr>\n",
              "    <tr>\n",
              "      <th>purpose_category</th>\n",
              "      <th></th>\n",
              "      <th></th>\n",
              "      <th></th>\n",
              "    </tr>\n",
              "  </thead>\n",
              "  <tbody>\n",
              "    <tr>\n",
              "      <th>операции с автомобилем</th>\n",
              "      <td>400</td>\n",
              "      <td>4279</td>\n",
              "      <td>9.35</td>\n",
              "    </tr>\n",
              "    <tr>\n",
              "      <th>получение образования</th>\n",
              "      <td>369</td>\n",
              "      <td>3988</td>\n",
              "      <td>9.25</td>\n",
              "    </tr>\n",
              "    <tr>\n",
              "      <th>проведение свадьбы</th>\n",
              "      <td>183</td>\n",
              "      <td>2313</td>\n",
              "      <td>7.91</td>\n",
              "    </tr>\n",
              "    <tr>\n",
              "      <th>операции с недвижимостью</th>\n",
              "      <td>780</td>\n",
              "      <td>10751</td>\n",
              "      <td>7.26</td>\n",
              "    </tr>\n",
              "  </tbody>\n",
              "</table>\n",
              "</div>"
            ],
            "text/plain": [
              "                          кол-во должников  всего заемщиков  доля должников, %\n",
              "purpose_category                                                              \n",
              "операции с автомобилем                 400             4279               9.35\n",
              "получение образования                  369             3988               9.25\n",
              "проведение свадьбы                     183             2313               7.91\n",
              "операции с недвижимостью               780            10751               7.26"
            ]
          },
          "execution_count": 29,
          "metadata": {},
          "output_type": "execute_result"
        }
      ],
      "source": [
        "data_purpose_category = data.pivot_table(index = ['purpose_category'], values = \\\n",
        "                                 ['gender', 'debt'], aggfunc = {\"gender\": \"count\", \"debt\": 'sum'})\n",
        "data_purpose_category['доля должников, %'] = ((data_purpose_category['debt']/data_purpose_category['gender'])*100).round(2)\n",
        "data_purpose_category = data_purpose_category.rename(columns = \\\n",
        "                                     {\"debt\": \"кол-во должников\", \"gender\": \"всего заемщиков\"})\n",
        "\n",
        "data_purpose_category = data_purpose_category.sort_values(by = 'доля должников, %', ascending = False)\n",
        "data_purpose_category"
      ]
    },
    {
      "cell_type": "markdown",
      "id": "905837d2",
      "metadata": {
        "deletable": false,
        "id": "905837d2"
      },
      "source": [
        "**Вывод:**\n",
        "Цель кредита влияет на процент просрочек. Как правило, автомобили берут более молодые заемщики, которые еще не умеют адекватно пользоваться деньгами и с бОльшей вероятностью допускают просрочки. Недвижимость же выбирают более состоятельные. При желании, можно проверить гипотезу с возрастом"
      ]
    },
    {
      "cell_type": "markdown",
      "id": "438312ef",
      "metadata": {
        "deletable": false,
        "editable": false,
        "id": "438312ef"
      },
      "source": [
        "#### 3.5 Приведите возможные причины появления пропусков в исходных данных."
      ]
    },
    {
      "cell_type": "markdown",
      "id": "66982d61",
      "metadata": {
        "deletable": false,
        "id": "66982d61"
      },
      "source": [
        "*Ответ:*\n",
        "\n",
        "Данные могут быть повреждены при экспорте/импорте, так же может сыграть человеческий фактор, или же пропуск может зависеть от типа поля. Например, при регистрации на сайте далеко не все согласны на email-рассылку. Соответственно, данное поле будет пустым."
      ]
    },
    {
      "cell_type": "markdown",
      "id": "f3e65fe0",
      "metadata": {
        "deletable": false,
        "editable": false,
        "id": "f3e65fe0"
      },
      "source": [
        "#### 3.6 Объясните, почему заполнить пропуски медианным значением — лучшее решение для количественных переменных."
      ]
    },
    {
      "cell_type": "markdown",
      "id": "4d410c93",
      "metadata": {
        "deletable": false,
        "id": "4d410c93"
      },
      "source": [
        "*Ответ:*\n",
        "Из-за выбросов. Если значение какое-то значение выборки слишком большое или слишком маленькое, то на среднее значение (из-за особенностей расчета) они будут очень сильно влиять. Пример - средняя зарплата по стране, которая не соответствует действительности. В то время как медианное значение - наиболее близкое к реальности, так как не восприимчиво к выбросам."
      ]
    },
    {
      "cell_type": "markdown",
      "id": "d6c6c296",
      "metadata": {
        "deletable": false,
        "editable": false,
        "id": "d6c6c296"
      },
      "source": [
        "### Шаг 4: общий вывод."
      ]
    },
    {
      "cell_type": "markdown",
      "id": "c2f5c8e9",
      "metadata": {
        "deletable": false,
        "id": "c2f5c8e9"
      },
      "source": [
        "Нет какого-то одного фактора, который влияет на процент просрочек по кредитам. Как показало исследование, это совокупность из назначения кредита, зарплаты, количества детей, семейного положения. Все это в общей сумме позволяет принять решение о том, давать ли человеку одобрение на новый заем или нет. Однако, я бы добавила в данные возраст, так как, по моему мнению, он тоже может существенно влиять на наличие просрочек. Более молодые, как правило, более инфантильные и не заботятся о своей кредитной истории, как люди среднего и пенсионного возрастов.\n",
        "\n",
        "В процессе работы над данными были выделены категории заемщиков по уровню дохода, целям кредита, количеству детей, типу занятости, семейному положению. А также выявлены зависимости между данными категориями и процентов просрочек.\n",
        "\n",
        "Исходя из полученных данных, можно сделать вывод, что наиболее рискованным клиентом для банка является человек, у которого 4 детей, он не в браке, имеет низкий уровень дохода и хочет взять кредит на покупку чего-то не столь серъезного (по сумме кредита), чем недвижимость. Возможно так же исключение одного из критериев (например, маловероятно, что у одинокого человека будет 4 детей, но он все равно будет в группе риска для банка, так как по остальным критериям подходит). Если предположить, что все 4 пункта это 100% риск, то наиболее надежными для банка заемщиками я бы считала клиентов, у которых % риска 25% и ниже. Соответственно, средний уровень будет у тех, у кого совпадение 50%, и высокий у тех, у кого от 75% до 100%. В идеале, для оценки риска можно учитывать возраст и регион проживания (в разных регионах разный уровень жизни).\n",
        "\n",
        "Так же, по причине недостаточности данных в других категориях дохода, мы можем делать весомые выводы только по категориям B и С.Следовательно (как и написано в комментарии 2), более рискованный клиент будет иметь доход от 500001 до 200000 рублей."
      ]
    }
  ],
  "metadata": {
    "ExecuteTimeLog": [
      {
        "duration": 522,
        "start_time": "2023-01-17T18:23:09.893Z"
      },
      {
        "duration": 22,
        "start_time": "2023-01-17T18:23:10.417Z"
      },
      {
        "duration": 15,
        "start_time": "2023-01-17T18:23:10.441Z"
      },
      {
        "duration": 10,
        "start_time": "2023-01-17T18:23:10.459Z"
      },
      {
        "duration": 56,
        "start_time": "2023-01-17T18:23:10.470Z"
      },
      {
        "duration": 4,
        "start_time": "2023-01-17T18:23:10.528Z"
      },
      {
        "duration": 14,
        "start_time": "2023-01-17T18:23:10.534Z"
      },
      {
        "duration": 4,
        "start_time": "2023-01-17T18:23:10.550Z"
      },
      {
        "duration": 9,
        "start_time": "2023-01-17T18:23:10.556Z"
      },
      {
        "duration": 5,
        "start_time": "2023-01-17T18:23:10.568Z"
      },
      {
        "duration": 66,
        "start_time": "2023-01-17T18:23:10.575Z"
      },
      {
        "duration": 10,
        "start_time": "2023-01-17T18:23:10.643Z"
      },
      {
        "duration": 6,
        "start_time": "2023-01-17T18:23:10.655Z"
      },
      {
        "duration": 31,
        "start_time": "2023-01-17T18:23:10.662Z"
      },
      {
        "duration": 26,
        "start_time": "2023-01-17T18:23:10.696Z"
      },
      {
        "duration": 20,
        "start_time": "2023-01-17T18:23:10.723Z"
      },
      {
        "duration": 4,
        "start_time": "2023-01-17T18:23:10.744Z"
      },
      {
        "duration": 15,
        "start_time": "2023-01-17T18:23:10.749Z"
      },
      {
        "duration": 10,
        "start_time": "2023-01-17T18:23:10.766Z"
      },
      {
        "duration": 4,
        "start_time": "2023-01-17T18:23:10.778Z"
      },
      {
        "duration": 37,
        "start_time": "2023-01-17T18:23:10.784Z"
      },
      {
        "duration": 2,
        "start_time": "2023-01-17T18:23:10.823Z"
      },
      {
        "duration": 7,
        "start_time": "2023-01-17T18:23:10.827Z"
      },
      {
        "duration": 8,
        "start_time": "2023-01-17T18:23:10.836Z"
      },
      {
        "duration": 4,
        "start_time": "2023-01-17T18:23:10.846Z"
      },
      {
        "duration": 62,
        "start_time": "2023-01-17T18:27:32.026Z"
      },
      {
        "duration": 8,
        "start_time": "2023-01-17T18:27:38.536Z"
      },
      {
        "duration": 22,
        "start_time": "2023-01-17T18:28:53.596Z"
      },
      {
        "duration": 5,
        "start_time": "2023-01-17T18:29:22.568Z"
      },
      {
        "duration": 5,
        "start_time": "2023-01-17T18:29:36.541Z"
      },
      {
        "duration": 12,
        "start_time": "2023-01-17T18:29:54.522Z"
      },
      {
        "duration": 8,
        "start_time": "2023-01-17T18:30:06.899Z"
      },
      {
        "duration": 8,
        "start_time": "2023-01-17T18:30:19.313Z"
      },
      {
        "duration": 11,
        "start_time": "2023-01-17T18:30:45.097Z"
      },
      {
        "duration": 6,
        "start_time": "2023-01-17T19:05:39.610Z"
      },
      {
        "duration": 72,
        "start_time": "2023-01-17T19:05:51.623Z"
      },
      {
        "duration": 16,
        "start_time": "2023-01-17T19:05:51.697Z"
      },
      {
        "duration": 22,
        "start_time": "2023-01-17T19:05:51.715Z"
      },
      {
        "duration": 18,
        "start_time": "2023-01-17T19:05:51.739Z"
      },
      {
        "duration": 37,
        "start_time": "2023-01-17T19:05:51.759Z"
      },
      {
        "duration": 23,
        "start_time": "2023-01-17T19:05:51.798Z"
      },
      {
        "duration": 12,
        "start_time": "2023-01-17T19:05:51.822Z"
      },
      {
        "duration": 4,
        "start_time": "2023-01-17T19:05:51.836Z"
      },
      {
        "duration": 6,
        "start_time": "2023-01-17T19:05:51.842Z"
      },
      {
        "duration": 6,
        "start_time": "2023-01-17T19:05:51.850Z"
      },
      {
        "duration": 66,
        "start_time": "2023-01-17T19:05:51.858Z"
      },
      {
        "duration": 15,
        "start_time": "2023-01-17T19:05:51.925Z"
      },
      {
        "duration": 8,
        "start_time": "2023-01-17T19:05:51.942Z"
      },
      {
        "duration": 15,
        "start_time": "2023-01-17T19:05:51.952Z"
      },
      {
        "duration": 26,
        "start_time": "2023-01-17T19:05:51.968Z"
      },
      {
        "duration": 43,
        "start_time": "2023-01-17T19:05:51.996Z"
      },
      {
        "duration": 5,
        "start_time": "2023-01-17T19:05:52.041Z"
      },
      {
        "duration": 21,
        "start_time": "2023-01-17T19:05:52.048Z"
      },
      {
        "duration": 7,
        "start_time": "2023-01-17T19:05:52.071Z"
      },
      {
        "duration": 5,
        "start_time": "2023-01-17T19:05:52.080Z"
      },
      {
        "duration": 35,
        "start_time": "2023-01-17T19:05:52.086Z"
      },
      {
        "duration": 8,
        "start_time": "2023-01-17T19:05:52.123Z"
      },
      {
        "duration": 3,
        "start_time": "2023-01-17T19:05:52.133Z"
      },
      {
        "duration": 6,
        "start_time": "2023-01-17T19:05:52.138Z"
      },
      {
        "duration": 4,
        "start_time": "2023-01-17T19:05:52.146Z"
      },
      {
        "duration": 7,
        "start_time": "2023-01-17T19:06:14.998Z"
      },
      {
        "duration": 6,
        "start_time": "2023-01-17T19:09:02.744Z"
      },
      {
        "duration": 7,
        "start_time": "2023-01-17T19:14:15.683Z"
      },
      {
        "duration": 9,
        "start_time": "2023-01-17T19:16:04.495Z"
      },
      {
        "duration": 7,
        "start_time": "2023-01-17T19:16:15.353Z"
      },
      {
        "duration": 10,
        "start_time": "2023-01-17T19:17:22.003Z"
      },
      {
        "duration": 8,
        "start_time": "2023-01-17T19:17:31.138Z"
      },
      {
        "duration": 21,
        "start_time": "2023-01-17T19:20:29.323Z"
      },
      {
        "duration": 9,
        "start_time": "2023-01-17T19:20:45.702Z"
      },
      {
        "duration": 9,
        "start_time": "2023-01-17T19:21:11.520Z"
      },
      {
        "duration": 8,
        "start_time": "2023-01-17T19:53:21.196Z"
      },
      {
        "duration": 8,
        "start_time": "2023-01-17T19:53:28.355Z"
      },
      {
        "duration": 8,
        "start_time": "2023-01-17T19:53:32.514Z"
      },
      {
        "duration": 9,
        "start_time": "2023-01-17T19:53:37.720Z"
      },
      {
        "duration": 10,
        "start_time": "2023-01-17T19:53:54.046Z"
      },
      {
        "duration": 12,
        "start_time": "2023-01-17T19:59:14.022Z"
      },
      {
        "duration": 12,
        "start_time": "2023-01-17T20:00:03.507Z"
      },
      {
        "duration": 13,
        "start_time": "2023-01-17T20:00:10.780Z"
      },
      {
        "duration": 26,
        "start_time": "2023-01-17T20:00:16.422Z"
      },
      {
        "duration": 8,
        "start_time": "2023-01-17T20:00:45.478Z"
      },
      {
        "duration": 20,
        "start_time": "2023-01-17T20:06:43.169Z"
      },
      {
        "duration": 15,
        "start_time": "2023-01-17T20:07:28.901Z"
      },
      {
        "duration": 9,
        "start_time": "2023-01-17T20:07:47.921Z"
      },
      {
        "duration": 45,
        "start_time": "2023-01-17T20:08:49.479Z"
      },
      {
        "duration": 11,
        "start_time": "2023-01-17T20:08:55.255Z"
      },
      {
        "duration": 9,
        "start_time": "2023-01-17T20:10:50.928Z"
      },
      {
        "duration": 11,
        "start_time": "2023-01-17T20:19:50.338Z"
      },
      {
        "duration": 9,
        "start_time": "2023-01-17T20:21:13.025Z"
      },
      {
        "duration": 9,
        "start_time": "2023-01-17T20:21:33.785Z"
      },
      {
        "duration": 527,
        "start_time": "2023-01-17T20:49:30.723Z"
      },
      {
        "duration": 27,
        "start_time": "2023-01-17T20:49:31.253Z"
      },
      {
        "duration": 59,
        "start_time": "2023-01-17T20:49:31.282Z"
      },
      {
        "duration": 26,
        "start_time": "2023-01-17T20:49:31.347Z"
      },
      {
        "duration": 57,
        "start_time": "2023-01-17T20:49:31.376Z"
      },
      {
        "duration": 23,
        "start_time": "2023-01-17T20:49:31.435Z"
      },
      {
        "duration": 13,
        "start_time": "2023-01-17T20:49:31.460Z"
      },
      {
        "duration": 12,
        "start_time": "2023-01-17T20:49:31.475Z"
      },
      {
        "duration": 52,
        "start_time": "2023-01-17T20:49:31.489Z"
      },
      {
        "duration": 8,
        "start_time": "2023-01-17T20:49:31.543Z"
      },
      {
        "duration": 50,
        "start_time": "2023-01-17T20:49:31.552Z"
      },
      {
        "duration": 15,
        "start_time": "2023-01-17T20:49:31.604Z"
      },
      {
        "duration": 33,
        "start_time": "2023-01-17T20:49:31.621Z"
      },
      {
        "duration": 14,
        "start_time": "2023-01-17T20:49:31.657Z"
      },
      {
        "duration": 30,
        "start_time": "2023-01-17T20:49:31.673Z"
      },
      {
        "duration": 41,
        "start_time": "2023-01-17T20:49:31.704Z"
      },
      {
        "duration": 4,
        "start_time": "2023-01-17T20:49:31.747Z"
      },
      {
        "duration": 12,
        "start_time": "2023-01-17T20:49:31.753Z"
      },
      {
        "duration": 9,
        "start_time": "2023-01-17T20:49:31.766Z"
      },
      {
        "duration": 4,
        "start_time": "2023-01-17T20:49:31.776Z"
      },
      {
        "duration": 61,
        "start_time": "2023-01-17T20:49:31.782Z"
      },
      {
        "duration": 11,
        "start_time": "2023-01-17T20:49:31.845Z"
      },
      {
        "duration": 11,
        "start_time": "2023-01-17T20:49:31.858Z"
      },
      {
        "duration": 8,
        "start_time": "2023-01-17T20:49:31.870Z"
      },
      {
        "duration": 8,
        "start_time": "2023-01-17T20:49:31.879Z"
      },
      {
        "duration": 12,
        "start_time": "2023-01-17T20:49:31.888Z"
      },
      {
        "duration": 53,
        "start_time": "2023-01-17T20:49:31.902Z"
      },
      {
        "duration": 505,
        "start_time": "2023-01-17T21:02:51.654Z"
      },
      {
        "duration": 25,
        "start_time": "2023-01-17T21:02:52.161Z"
      },
      {
        "duration": 40,
        "start_time": "2023-01-17T21:02:52.187Z"
      },
      {
        "duration": 45,
        "start_time": "2023-01-17T21:02:52.230Z"
      },
      {
        "duration": 53,
        "start_time": "2023-01-17T21:02:52.277Z"
      },
      {
        "duration": 5,
        "start_time": "2023-01-17T21:02:52.333Z"
      },
      {
        "duration": 28,
        "start_time": "2023-01-17T21:02:52.340Z"
      },
      {
        "duration": 5,
        "start_time": "2023-01-17T21:02:52.369Z"
      },
      {
        "duration": 9,
        "start_time": "2023-01-17T21:02:52.376Z"
      },
      {
        "duration": 34,
        "start_time": "2023-01-17T21:02:52.389Z"
      },
      {
        "duration": 45,
        "start_time": "2023-01-17T21:02:52.442Z"
      },
      {
        "duration": 22,
        "start_time": "2023-01-17T21:02:52.489Z"
      },
      {
        "duration": 31,
        "start_time": "2023-01-17T21:02:52.513Z"
      },
      {
        "duration": 18,
        "start_time": "2023-01-17T21:02:52.546Z"
      },
      {
        "duration": 23,
        "start_time": "2023-01-17T21:02:52.565Z"
      },
      {
        "duration": 51,
        "start_time": "2023-01-17T21:02:52.590Z"
      },
      {
        "duration": 17,
        "start_time": "2023-01-17T21:02:52.643Z"
      },
      {
        "duration": 12,
        "start_time": "2023-01-17T21:02:52.662Z"
      },
      {
        "duration": 9,
        "start_time": "2023-01-17T21:02:52.676Z"
      },
      {
        "duration": 8,
        "start_time": "2023-01-17T21:02:52.687Z"
      },
      {
        "duration": 53,
        "start_time": "2023-01-17T21:02:52.704Z"
      },
      {
        "duration": 15,
        "start_time": "2023-01-17T21:02:52.759Z"
      },
      {
        "duration": 35,
        "start_time": "2023-01-17T21:02:52.777Z"
      },
      {
        "duration": 13,
        "start_time": "2023-01-17T21:02:52.814Z"
      },
      {
        "duration": 39,
        "start_time": "2023-01-17T21:02:52.829Z"
      },
      {
        "duration": 12,
        "start_time": "2023-01-17T21:02:52.870Z"
      },
      {
        "duration": 27,
        "start_time": "2023-01-17T21:02:52.884Z"
      },
      {
        "duration": 63,
        "start_time": "2023-01-18T09:20:24.502Z"
      },
      {
        "duration": 598,
        "start_time": "2023-01-18T09:20:29.187Z"
      },
      {
        "duration": 35,
        "start_time": "2023-01-18T09:20:29.787Z"
      },
      {
        "duration": 17,
        "start_time": "2023-01-18T09:20:29.825Z"
      },
      {
        "duration": 11,
        "start_time": "2023-01-18T09:20:29.844Z"
      },
      {
        "duration": 71,
        "start_time": "2023-01-18T09:20:29.857Z"
      },
      {
        "duration": 5,
        "start_time": "2023-01-18T09:20:29.930Z"
      },
      {
        "duration": 14,
        "start_time": "2023-01-18T09:20:29.937Z"
      },
      {
        "duration": 4,
        "start_time": "2023-01-18T09:20:29.953Z"
      },
      {
        "duration": 15,
        "start_time": "2023-01-18T09:20:29.960Z"
      },
      {
        "duration": 6,
        "start_time": "2023-01-18T09:20:29.981Z"
      },
      {
        "duration": 74,
        "start_time": "2023-01-18T09:20:29.988Z"
      },
      {
        "duration": 12,
        "start_time": "2023-01-18T09:20:30.064Z"
      },
      {
        "duration": 29,
        "start_time": "2023-01-18T09:20:30.078Z"
      },
      {
        "duration": 20,
        "start_time": "2023-01-18T09:20:30.109Z"
      },
      {
        "duration": 46,
        "start_time": "2023-01-18T09:20:30.132Z"
      },
      {
        "duration": 27,
        "start_time": "2023-01-18T09:20:30.181Z"
      },
      {
        "duration": 33,
        "start_time": "2023-01-18T09:20:30.210Z"
      },
      {
        "duration": 36,
        "start_time": "2023-01-18T09:20:30.245Z"
      },
      {
        "duration": 46,
        "start_time": "2023-01-18T09:20:30.283Z"
      },
      {
        "duration": 36,
        "start_time": "2023-01-18T09:20:30.331Z"
      },
      {
        "duration": 65,
        "start_time": "2023-01-18T09:20:30.368Z"
      },
      {
        "duration": 37,
        "start_time": "2023-01-18T09:20:30.435Z"
      },
      {
        "duration": 20,
        "start_time": "2023-01-18T09:20:30.474Z"
      },
      {
        "duration": 54,
        "start_time": "2023-01-18T09:20:30.496Z"
      },
      {
        "duration": 39,
        "start_time": "2023-01-18T09:20:30.553Z"
      },
      {
        "duration": 63,
        "start_time": "2023-01-18T09:20:30.594Z"
      },
      {
        "duration": 13,
        "start_time": "2023-01-18T09:20:30.659Z"
      },
      {
        "duration": 18,
        "start_time": "2023-01-18T09:28:54.453Z"
      },
      {
        "duration": 50,
        "start_time": "2023-01-18T09:29:22.627Z"
      },
      {
        "duration": 15,
        "start_time": "2023-01-18T09:29:58.810Z"
      },
      {
        "duration": 20,
        "start_time": "2023-01-18T09:30:06.107Z"
      },
      {
        "duration": 20,
        "start_time": "2023-01-18T09:31:17.167Z"
      },
      {
        "duration": 21,
        "start_time": "2023-01-18T09:32:34.532Z"
      },
      {
        "duration": 32,
        "start_time": "2023-01-18T09:32:41.268Z"
      },
      {
        "duration": 25,
        "start_time": "2023-01-18T09:33:42.062Z"
      },
      {
        "duration": 18,
        "start_time": "2023-01-18T09:34:13.314Z"
      },
      {
        "duration": 22,
        "start_time": "2023-01-18T09:34:39.376Z"
      },
      {
        "duration": 29,
        "start_time": "2023-01-18T09:35:01.912Z"
      },
      {
        "duration": 27,
        "start_time": "2023-01-18T09:35:18.808Z"
      },
      {
        "duration": 29,
        "start_time": "2023-01-18T09:35:36.944Z"
      },
      {
        "duration": 23,
        "start_time": "2023-01-18T09:36:12.661Z"
      },
      {
        "duration": 29,
        "start_time": "2023-01-18T09:37:04.504Z"
      },
      {
        "duration": 27,
        "start_time": "2023-01-18T09:38:01.462Z"
      },
      {
        "duration": 19,
        "start_time": "2023-01-18T09:38:27.177Z"
      },
      {
        "duration": 22,
        "start_time": "2023-01-18T09:41:00.779Z"
      },
      {
        "duration": 20,
        "start_time": "2023-01-18T09:41:36.733Z"
      },
      {
        "duration": 1219,
        "start_time": "2023-01-18T09:42:54.019Z"
      },
      {
        "duration": 31,
        "start_time": "2023-01-18T09:43:17.452Z"
      },
      {
        "duration": 12,
        "start_time": "2023-01-18T09:43:59.164Z"
      },
      {
        "duration": 20,
        "start_time": "2023-01-18T09:44:33.346Z"
      },
      {
        "duration": 22,
        "start_time": "2023-01-18T09:49:15.989Z"
      },
      {
        "duration": 21,
        "start_time": "2023-01-18T09:50:23.609Z"
      },
      {
        "duration": 21,
        "start_time": "2023-01-18T09:50:58.306Z"
      },
      {
        "duration": 69,
        "start_time": "2023-01-18T09:51:02.371Z"
      },
      {
        "duration": 16,
        "start_time": "2023-01-18T09:51:02.442Z"
      },
      {
        "duration": 55,
        "start_time": "2023-01-18T09:51:02.460Z"
      },
      {
        "duration": 23,
        "start_time": "2023-01-18T09:51:02.516Z"
      },
      {
        "duration": 75,
        "start_time": "2023-01-18T09:51:02.541Z"
      },
      {
        "duration": 3,
        "start_time": "2023-01-18T09:51:02.618Z"
      },
      {
        "duration": 16,
        "start_time": "2023-01-18T09:51:02.623Z"
      },
      {
        "duration": 11,
        "start_time": "2023-01-18T09:51:02.640Z"
      },
      {
        "duration": 22,
        "start_time": "2023-01-18T09:51:02.653Z"
      },
      {
        "duration": 11,
        "start_time": "2023-01-18T09:51:02.677Z"
      },
      {
        "duration": 55,
        "start_time": "2023-01-18T09:51:02.689Z"
      },
      {
        "duration": 10,
        "start_time": "2023-01-18T09:51:02.746Z"
      },
      {
        "duration": 31,
        "start_time": "2023-01-18T09:51:02.757Z"
      },
      {
        "duration": 28,
        "start_time": "2023-01-18T09:51:02.790Z"
      },
      {
        "duration": 59,
        "start_time": "2023-01-18T09:51:02.820Z"
      },
      {
        "duration": 51,
        "start_time": "2023-01-18T09:51:02.880Z"
      },
      {
        "duration": 5,
        "start_time": "2023-01-18T09:51:02.932Z"
      },
      {
        "duration": 26,
        "start_time": "2023-01-18T09:51:02.938Z"
      },
      {
        "duration": 35,
        "start_time": "2023-01-18T09:51:02.966Z"
      },
      {
        "duration": 8,
        "start_time": "2023-01-18T09:51:03.003Z"
      },
      {
        "duration": 46,
        "start_time": "2023-01-18T09:51:03.012Z"
      },
      {
        "duration": 64,
        "start_time": "2023-01-18T09:51:03.059Z"
      },
      {
        "duration": 21,
        "start_time": "2023-01-18T09:51:03.125Z"
      },
      {
        "duration": 40,
        "start_time": "2023-01-18T09:51:03.148Z"
      },
      {
        "duration": 23,
        "start_time": "2023-01-18T09:51:03.190Z"
      },
      {
        "duration": 24,
        "start_time": "2023-01-18T09:51:03.215Z"
      },
      {
        "duration": 23,
        "start_time": "2023-01-18T09:51:03.241Z"
      },
      {
        "duration": 1211,
        "start_time": "2023-01-18T09:51:51.686Z"
      },
      {
        "duration": 23,
        "start_time": "2023-01-18T09:52:02.507Z"
      },
      {
        "duration": 21,
        "start_time": "2023-01-18T09:52:13.944Z"
      },
      {
        "duration": 8,
        "start_time": "2023-01-18T09:54:05.997Z"
      },
      {
        "duration": 12,
        "start_time": "2023-01-18T09:54:13.036Z"
      },
      {
        "duration": 13,
        "start_time": "2023-01-18T09:54:22.882Z"
      },
      {
        "duration": 13,
        "start_time": "2023-01-18T09:55:02.532Z"
      },
      {
        "duration": 33,
        "start_time": "2023-01-18T09:55:28.413Z"
      },
      {
        "duration": 11,
        "start_time": "2023-01-18T09:56:37.221Z"
      },
      {
        "duration": 19,
        "start_time": "2023-01-18T09:56:45.602Z"
      },
      {
        "duration": 12,
        "start_time": "2023-01-18T09:56:53.576Z"
      },
      {
        "duration": 511,
        "start_time": "2023-01-18T16:15:19.789Z"
      },
      {
        "duration": 26,
        "start_time": "2023-01-18T16:15:20.302Z"
      },
      {
        "duration": 20,
        "start_time": "2023-01-18T16:15:20.330Z"
      },
      {
        "duration": 16,
        "start_time": "2023-01-18T16:15:20.354Z"
      },
      {
        "duration": 70,
        "start_time": "2023-01-18T16:15:20.372Z"
      },
      {
        "duration": 4,
        "start_time": "2023-01-18T16:15:20.444Z"
      },
      {
        "duration": 19,
        "start_time": "2023-01-18T16:15:20.450Z"
      },
      {
        "duration": 5,
        "start_time": "2023-01-18T16:15:20.471Z"
      },
      {
        "duration": 15,
        "start_time": "2023-01-18T16:15:20.478Z"
      },
      {
        "duration": 28,
        "start_time": "2023-01-18T16:15:20.497Z"
      },
      {
        "duration": 35,
        "start_time": "2023-01-18T16:15:20.527Z"
      },
      {
        "duration": 11,
        "start_time": "2023-01-18T16:15:20.564Z"
      },
      {
        "duration": 11,
        "start_time": "2023-01-18T16:15:20.576Z"
      },
      {
        "duration": 23,
        "start_time": "2023-01-18T16:15:20.588Z"
      },
      {
        "duration": 29,
        "start_time": "2023-01-18T16:15:20.614Z"
      },
      {
        "duration": 18,
        "start_time": "2023-01-18T16:15:20.645Z"
      },
      {
        "duration": 4,
        "start_time": "2023-01-18T16:15:20.665Z"
      },
      {
        "duration": 19,
        "start_time": "2023-01-18T16:15:20.670Z"
      },
      {
        "duration": 10,
        "start_time": "2023-01-18T16:15:20.691Z"
      },
      {
        "duration": 21,
        "start_time": "2023-01-18T16:15:20.703Z"
      },
      {
        "duration": 16,
        "start_time": "2023-01-18T16:15:20.726Z"
      },
      {
        "duration": 26,
        "start_time": "2023-01-18T16:15:20.744Z"
      },
      {
        "duration": 9,
        "start_time": "2023-01-18T16:15:20.772Z"
      },
      {
        "duration": 50,
        "start_time": "2023-01-18T16:15:20.782Z"
      },
      {
        "duration": 20,
        "start_time": "2023-01-18T16:15:20.834Z"
      },
      {
        "duration": 13,
        "start_time": "2023-01-18T16:15:20.856Z"
      },
      {
        "duration": 21,
        "start_time": "2023-01-18T16:15:20.871Z"
      },
      {
        "duration": 87,
        "start_time": "2023-01-18T16:22:24.461Z"
      },
      {
        "duration": 510,
        "start_time": "2023-01-18T16:22:38.770Z"
      },
      {
        "duration": 27,
        "start_time": "2023-01-18T16:22:39.282Z"
      },
      {
        "duration": 25,
        "start_time": "2023-01-18T16:22:39.311Z"
      },
      {
        "duration": 11,
        "start_time": "2023-01-18T16:22:39.338Z"
      },
      {
        "duration": 41,
        "start_time": "2023-01-18T16:22:39.350Z"
      },
      {
        "duration": 29,
        "start_time": "2023-01-18T16:22:39.393Z"
      },
      {
        "duration": 12,
        "start_time": "2023-01-18T16:22:39.424Z"
      },
      {
        "duration": 5,
        "start_time": "2023-01-18T16:22:39.438Z"
      },
      {
        "duration": 10,
        "start_time": "2023-01-18T16:22:39.444Z"
      },
      {
        "duration": 5,
        "start_time": "2023-01-18T16:22:39.457Z"
      },
      {
        "duration": 79,
        "start_time": "2023-01-18T16:22:39.464Z"
      },
      {
        "duration": 10,
        "start_time": "2023-01-18T16:22:39.545Z"
      },
      {
        "duration": 7,
        "start_time": "2023-01-18T16:22:39.557Z"
      },
      {
        "duration": 13,
        "start_time": "2023-01-18T16:22:39.566Z"
      },
      {
        "duration": 42,
        "start_time": "2023-01-18T16:22:39.580Z"
      },
      {
        "duration": 20,
        "start_time": "2023-01-18T16:22:39.624Z"
      },
      {
        "duration": 4,
        "start_time": "2023-01-18T16:22:39.645Z"
      },
      {
        "duration": 22,
        "start_time": "2023-01-18T16:22:39.651Z"
      },
      {
        "duration": 8,
        "start_time": "2023-01-18T16:22:39.675Z"
      },
      {
        "duration": 6,
        "start_time": "2023-01-18T16:22:39.685Z"
      },
      {
        "duration": 13,
        "start_time": "2023-01-18T16:22:39.722Z"
      },
      {
        "duration": 34,
        "start_time": "2023-01-18T16:22:39.741Z"
      },
      {
        "duration": 10,
        "start_time": "2023-01-18T16:22:39.777Z"
      },
      {
        "duration": 34,
        "start_time": "2023-01-18T16:22:39.788Z"
      },
      {
        "duration": 21,
        "start_time": "2023-01-18T16:22:39.824Z"
      },
      {
        "duration": 15,
        "start_time": "2023-01-18T16:22:39.848Z"
      },
      {
        "duration": 108,
        "start_time": "2023-01-18T16:22:39.865Z"
      },
      {
        "duration": 0,
        "start_time": "2023-01-18T16:22:39.974Z"
      },
      {
        "duration": 22,
        "start_time": "2023-01-18T16:22:54.526Z"
      },
      {
        "duration": 1300,
        "start_time": "2023-01-18T16:26:02.323Z"
      },
      {
        "duration": 497,
        "start_time": "2023-01-18T16:29:41.009Z"
      },
      {
        "duration": 24,
        "start_time": "2023-01-18T16:29:41.508Z"
      },
      {
        "duration": 17,
        "start_time": "2023-01-18T16:29:41.534Z"
      },
      {
        "duration": 10,
        "start_time": "2023-01-18T16:29:41.553Z"
      },
      {
        "duration": 37,
        "start_time": "2023-01-18T16:29:41.564Z"
      },
      {
        "duration": 4,
        "start_time": "2023-01-18T16:29:41.622Z"
      },
      {
        "duration": 12,
        "start_time": "2023-01-18T16:29:41.628Z"
      },
      {
        "duration": 5,
        "start_time": "2023-01-18T16:29:41.643Z"
      },
      {
        "duration": 9,
        "start_time": "2023-01-18T16:29:41.650Z"
      },
      {
        "duration": 6,
        "start_time": "2023-01-18T16:29:41.662Z"
      },
      {
        "duration": 66,
        "start_time": "2023-01-18T16:29:41.670Z"
      },
      {
        "duration": 10,
        "start_time": "2023-01-18T16:29:41.738Z"
      },
      {
        "duration": 4,
        "start_time": "2023-01-18T16:29:41.749Z"
      },
      {
        "duration": 13,
        "start_time": "2023-01-18T16:29:41.755Z"
      },
      {
        "duration": 23,
        "start_time": "2023-01-18T16:29:41.769Z"
      },
      {
        "duration": 43,
        "start_time": "2023-01-18T16:29:41.793Z"
      },
      {
        "duration": 3,
        "start_time": "2023-01-18T16:29:41.838Z"
      },
      {
        "duration": 26,
        "start_time": "2023-01-18T16:29:41.843Z"
      },
      {
        "duration": 9,
        "start_time": "2023-01-18T16:29:41.871Z"
      },
      {
        "duration": 5,
        "start_time": "2023-01-18T16:29:41.882Z"
      },
      {
        "duration": 34,
        "start_time": "2023-01-18T16:29:41.889Z"
      },
      {
        "duration": 25,
        "start_time": "2023-01-18T16:29:41.925Z"
      },
      {
        "duration": 9,
        "start_time": "2023-01-18T16:29:41.951Z"
      },
      {
        "duration": 31,
        "start_time": "2023-01-18T16:29:41.963Z"
      },
      {
        "duration": 29,
        "start_time": "2023-01-18T16:29:42.021Z"
      },
      {
        "duration": 15,
        "start_time": "2023-01-18T16:29:42.052Z"
      },
      {
        "duration": 1160,
        "start_time": "2023-01-18T16:29:42.069Z"
      },
      {
        "duration": 22,
        "start_time": "2023-01-18T16:29:43.233Z"
      },
      {
        "duration": 23,
        "start_time": "2023-01-18T16:29:43.257Z"
      },
      {
        "duration": 742,
        "start_time": "2023-01-18T18:11:32.044Z"
      },
      {
        "duration": 22,
        "start_time": "2023-01-18T18:11:32.788Z"
      },
      {
        "duration": 15,
        "start_time": "2023-01-18T18:11:32.812Z"
      },
      {
        "duration": 10,
        "start_time": "2023-01-18T18:11:32.828Z"
      },
      {
        "duration": 43,
        "start_time": "2023-01-18T18:11:32.839Z"
      },
      {
        "duration": 4,
        "start_time": "2023-01-18T18:11:32.883Z"
      },
      {
        "duration": 11,
        "start_time": "2023-01-18T18:11:32.888Z"
      },
      {
        "duration": 4,
        "start_time": "2023-01-18T18:11:32.900Z"
      },
      {
        "duration": 8,
        "start_time": "2023-01-18T18:11:32.906Z"
      },
      {
        "duration": 4,
        "start_time": "2023-01-18T18:11:32.916Z"
      },
      {
        "duration": 65,
        "start_time": "2023-01-18T18:11:32.921Z"
      },
      {
        "duration": 10,
        "start_time": "2023-01-18T18:11:32.987Z"
      },
      {
        "duration": 4,
        "start_time": "2023-01-18T18:11:32.998Z"
      },
      {
        "duration": 12,
        "start_time": "2023-01-18T18:11:33.005Z"
      },
      {
        "duration": 23,
        "start_time": "2023-01-18T18:11:33.018Z"
      },
      {
        "duration": 39,
        "start_time": "2023-01-18T18:11:33.043Z"
      },
      {
        "duration": 4,
        "start_time": "2023-01-18T18:11:33.084Z"
      },
      {
        "duration": 12,
        "start_time": "2023-01-18T18:11:33.089Z"
      },
      {
        "duration": 5,
        "start_time": "2023-01-18T18:11:33.103Z"
      },
      {
        "duration": 4,
        "start_time": "2023-01-18T18:11:33.110Z"
      },
      {
        "duration": 19,
        "start_time": "2023-01-18T18:11:33.116Z"
      },
      {
        "duration": 46,
        "start_time": "2023-01-18T18:11:33.136Z"
      },
      {
        "duration": 8,
        "start_time": "2023-01-18T18:11:33.184Z"
      },
      {
        "duration": 20,
        "start_time": "2023-01-18T18:11:33.193Z"
      },
      {
        "duration": 18,
        "start_time": "2023-01-18T18:11:33.215Z"
      },
      {
        "duration": 43,
        "start_time": "2023-01-18T18:11:33.235Z"
      },
      {
        "duration": 1254,
        "start_time": "2023-01-18T18:11:33.279Z"
      },
      {
        "duration": 22,
        "start_time": "2023-01-18T18:11:34.535Z"
      },
      {
        "duration": 23,
        "start_time": "2023-01-18T18:11:34.568Z"
      },
      {
        "duration": 14,
        "start_time": "2023-01-18T18:19:20.573Z"
      },
      {
        "duration": 15,
        "start_time": "2023-01-18T18:19:42.704Z"
      },
      {
        "duration": 477,
        "start_time": "2023-01-18T18:38:27.454Z"
      },
      {
        "duration": 24,
        "start_time": "2023-01-18T18:38:27.937Z"
      },
      {
        "duration": 16,
        "start_time": "2023-01-18T18:38:27.962Z"
      },
      {
        "duration": 10,
        "start_time": "2023-01-18T18:38:27.980Z"
      },
      {
        "duration": 53,
        "start_time": "2023-01-18T18:38:27.992Z"
      },
      {
        "duration": 3,
        "start_time": "2023-01-18T18:38:28.046Z"
      },
      {
        "duration": 13,
        "start_time": "2023-01-18T18:38:28.051Z"
      },
      {
        "duration": 4,
        "start_time": "2023-01-18T18:38:28.066Z"
      },
      {
        "duration": 11,
        "start_time": "2023-01-18T18:38:28.071Z"
      },
      {
        "duration": 4,
        "start_time": "2023-01-18T18:38:28.086Z"
      },
      {
        "duration": 61,
        "start_time": "2023-01-18T18:38:28.091Z"
      },
      {
        "duration": 10,
        "start_time": "2023-01-18T18:38:28.154Z"
      },
      {
        "duration": 3,
        "start_time": "2023-01-18T18:38:28.166Z"
      },
      {
        "duration": 14,
        "start_time": "2023-01-18T18:38:28.171Z"
      },
      {
        "duration": 47,
        "start_time": "2023-01-18T18:38:28.186Z"
      },
      {
        "duration": 19,
        "start_time": "2023-01-18T18:38:28.234Z"
      },
      {
        "duration": 4,
        "start_time": "2023-01-18T18:38:28.255Z"
      },
      {
        "duration": 13,
        "start_time": "2023-01-18T18:38:28.260Z"
      },
      {
        "duration": 12,
        "start_time": "2023-01-18T18:38:28.275Z"
      },
      {
        "duration": 4,
        "start_time": "2023-01-18T18:38:28.288Z"
      },
      {
        "duration": 31,
        "start_time": "2023-01-18T18:38:28.294Z"
      },
      {
        "duration": 25,
        "start_time": "2023-01-18T18:38:28.328Z"
      },
      {
        "duration": 8,
        "start_time": "2023-01-18T18:38:28.355Z"
      },
      {
        "duration": 22,
        "start_time": "2023-01-18T18:38:28.364Z"
      },
      {
        "duration": 46,
        "start_time": "2023-01-18T18:38:28.388Z"
      },
      {
        "duration": 16,
        "start_time": "2023-01-18T18:38:28.436Z"
      },
      {
        "duration": 1077,
        "start_time": "2023-01-18T18:38:28.454Z"
      },
      {
        "duration": 18,
        "start_time": "2023-01-18T18:38:29.535Z"
      },
      {
        "duration": 22,
        "start_time": "2023-01-18T18:38:29.554Z"
      },
      {
        "duration": 454,
        "start_time": "2023-01-18T19:21:53.055Z"
      },
      {
        "duration": 22,
        "start_time": "2023-01-18T19:21:53.511Z"
      },
      {
        "duration": 15,
        "start_time": "2023-01-18T19:21:53.535Z"
      },
      {
        "duration": 11,
        "start_time": "2023-01-18T19:21:53.552Z"
      },
      {
        "duration": 57,
        "start_time": "2023-01-18T19:21:53.564Z"
      },
      {
        "duration": 4,
        "start_time": "2023-01-18T19:21:53.623Z"
      },
      {
        "duration": 11,
        "start_time": "2023-01-18T19:21:53.628Z"
      },
      {
        "duration": 5,
        "start_time": "2023-01-18T19:21:53.641Z"
      },
      {
        "duration": 9,
        "start_time": "2023-01-18T19:21:53.647Z"
      },
      {
        "duration": 5,
        "start_time": "2023-01-18T19:21:53.660Z"
      },
      {
        "duration": 65,
        "start_time": "2023-01-18T19:21:53.666Z"
      },
      {
        "duration": 11,
        "start_time": "2023-01-18T19:21:53.733Z"
      },
      {
        "duration": 5,
        "start_time": "2023-01-18T19:21:53.746Z"
      },
      {
        "duration": 13,
        "start_time": "2023-01-18T19:21:53.752Z"
      },
      {
        "duration": 20,
        "start_time": "2023-01-18T19:21:53.766Z"
      },
      {
        "duration": 48,
        "start_time": "2023-01-18T19:21:53.788Z"
      },
      {
        "duration": 4,
        "start_time": "2023-01-18T19:21:53.838Z"
      },
      {
        "duration": 12,
        "start_time": "2023-01-18T19:21:53.844Z"
      },
      {
        "duration": 7,
        "start_time": "2023-01-18T19:21:53.858Z"
      },
      {
        "duration": 5,
        "start_time": "2023-01-18T19:21:53.867Z"
      },
      {
        "duration": 13,
        "start_time": "2023-01-18T19:21:53.874Z"
      },
      {
        "duration": 53,
        "start_time": "2023-01-18T19:21:53.889Z"
      },
      {
        "duration": 9,
        "start_time": "2023-01-18T19:21:53.945Z"
      },
      {
        "duration": 24,
        "start_time": "2023-01-18T19:21:53.956Z"
      },
      {
        "duration": 52,
        "start_time": "2023-01-18T19:21:53.981Z"
      },
      {
        "duration": 17,
        "start_time": "2023-01-18T19:21:54.034Z"
      },
      {
        "duration": 1178,
        "start_time": "2023-01-18T19:21:54.053Z"
      },
      {
        "duration": 17,
        "start_time": "2023-01-18T19:21:55.234Z"
      },
      {
        "duration": 22,
        "start_time": "2023-01-18T19:21:55.253Z"
      },
      {
        "duration": 447,
        "start_time": "2023-01-18T23:30:20.375Z"
      },
      {
        "duration": 20,
        "start_time": "2023-01-18T23:30:20.823Z"
      },
      {
        "duration": 13,
        "start_time": "2023-01-18T23:30:20.845Z"
      },
      {
        "duration": 8,
        "start_time": "2023-01-18T23:30:20.861Z"
      },
      {
        "duration": 34,
        "start_time": "2023-01-18T23:30:20.870Z"
      },
      {
        "duration": 3,
        "start_time": "2023-01-18T23:30:20.906Z"
      },
      {
        "duration": 23,
        "start_time": "2023-01-18T23:30:20.911Z"
      },
      {
        "duration": 4,
        "start_time": "2023-01-18T23:30:20.948Z"
      },
      {
        "duration": 15,
        "start_time": "2023-01-18T23:30:20.954Z"
      },
      {
        "duration": 4,
        "start_time": "2023-01-18T23:30:20.972Z"
      },
      {
        "duration": 35,
        "start_time": "2023-01-18T23:30:20.978Z"
      },
      {
        "duration": 8,
        "start_time": "2023-01-18T23:30:21.015Z"
      },
      {
        "duration": 3,
        "start_time": "2023-01-18T23:30:21.049Z"
      },
      {
        "duration": 15,
        "start_time": "2023-01-18T23:30:21.053Z"
      },
      {
        "duration": 18,
        "start_time": "2023-01-18T23:30:21.069Z"
      },
      {
        "duration": 15,
        "start_time": "2023-01-18T23:30:21.089Z"
      },
      {
        "duration": 3,
        "start_time": "2023-01-18T23:30:21.105Z"
      },
      {
        "duration": 41,
        "start_time": "2023-01-18T23:30:21.110Z"
      },
      {
        "duration": 6,
        "start_time": "2023-01-18T23:30:21.152Z"
      },
      {
        "duration": 8,
        "start_time": "2023-01-18T23:30:21.159Z"
      },
      {
        "duration": 17,
        "start_time": "2023-01-18T23:30:21.169Z"
      },
      {
        "duration": 26,
        "start_time": "2023-01-18T23:30:21.187Z"
      },
      {
        "duration": 9,
        "start_time": "2023-01-18T23:30:21.214Z"
      },
      {
        "duration": 38,
        "start_time": "2023-01-18T23:30:21.225Z"
      },
      {
        "duration": 17,
        "start_time": "2023-01-18T23:30:21.264Z"
      },
      {
        "duration": 17,
        "start_time": "2023-01-18T23:30:21.283Z"
      },
      {
        "duration": 1080,
        "start_time": "2023-01-18T23:30:21.301Z"
      },
      {
        "duration": 14,
        "start_time": "2023-01-18T23:30:22.384Z"
      },
      {
        "duration": 19,
        "start_time": "2023-01-18T23:30:22.400Z"
      }
    ],
    "colab": {
      "provenance": []
    },
    "kernelspec": {
      "display_name": "Python 3 (ipykernel)",
      "language": "python",
      "name": "python3"
    },
    "language_info": {
      "codemirror_mode": {
        "name": "ipython",
        "version": 3
      },
      "file_extension": ".py",
      "mimetype": "text/x-python",
      "name": "python",
      "nbconvert_exporter": "python",
      "pygments_lexer": "ipython3",
      "version": "3.9.5"
    },
    "toc": {
      "base_numbering": 1,
      "nav_menu": {},
      "number_sections": true,
      "sideBar": true,
      "skip_h1_title": true,
      "title_cell": "Table of Contents",
      "title_sidebar": "Contents",
      "toc_cell": false,
      "toc_position": {},
      "toc_section_display": true,
      "toc_window_display": false
    }
  },
  "nbformat": 4,
  "nbformat_minor": 5
}