{
 "cells": [
  {
   "cell_type": "markdown",
   "metadata": {
    "deletable": false,
    "editable": false,
    "id": "E0vqbgi9ay0H"
   },
   "source": [
    "# Яндекс Музыка"
   ]
  },
  {
   "cell_type": "markdown",
   "metadata": {
    "deletable": false,
    "editable": false,
    "id": "VUC88oWjTJw2"
   },
   "source": [
    "Сравнение Москвы и Петербурга окружено мифами. Например:\n",
    " * Москва — мегаполис, подчинённый жёсткому ритму рабочей недели;\n",
    " * Петербург — культурная столица, со своими вкусами.\n",
    "\n",
    "На данных Яндекс Музыки вы сравните поведение пользователей двух столиц.\n",
    "\n",
    "**Цель исследования** — проверьте три гипотезы:\n",
    "1. Активность пользователей зависит от дня недели. Причём в Москве и Петербурге это проявляется по-разному.\n",
    "2. В понедельник утром в Москве преобладают одни жанры, а в Петербурге — другие. Так же и вечером пятницы преобладают разные жанры — в зависимости от города. \n",
    "3. Москва и Петербург предпочитают разные жанры музыки. В Москве чаще слушают поп-музыку, в Петербурге — русский рэп.\n",
    "\n",
    "**Ход исследования**\n",
    "\n",
    "Данные о поведении пользователей вы получите из файла `yandex_music_project.csv`. О качестве данных ничего не известно. Поэтому перед проверкой гипотез понадобится обзор данных. \n",
    "\n",
    "Вы проверите данные на ошибки и оцените их влияние на исследование. Затем, на этапе предобработки вы поищете возможность исправить самые критичные ошибки данных.\n",
    " \n",
    "Таким образом, исследование пройдёт в три этапа:\n",
    " 1. Обзор данных.\n",
    " 2. Предобработка данных.\n",
    " 3. Проверка гипотез.\n",
    "\n"
   ]
  },
  {
   "cell_type": "markdown",
   "metadata": {
    "deletable": false,
    "editable": false,
    "id": "Ml1hmfXC_Zcs"
   },
   "source": [
    "## Обзор данных\n",
    "\n",
    "Составьте первое представление о данных Яндекс Музыки.\n",
    "\n",
    "\n"
   ]
  },
  {
   "cell_type": "markdown",
   "metadata": {
    "deletable": false,
    "editable": false,
    "id": "57eAOGIz_Zcs",
    "tags": [
     "start_task"
    ]
   },
   "source": [
    "**Задание 1**\n",
    "\n",
    "Основной инструмент аналитика — `pandas`. Импортируйте эту библиотеку."
   ]
  },
  {
   "cell_type": "code",
   "execution_count": 1,
   "metadata": {
    "deletable": false,
    "id": "AXN7PHPN_Zcs"
   },
   "outputs": [],
   "source": [
    "import pandas as pd"
   ]
  },
  {
   "cell_type": "markdown",
   "metadata": {
    "deletable": false,
    "editable": false,
    "id": "SG23P8tt_Zcs",
    "tags": [
     "start_task"
    ]
   },
   "source": [
    "**Задание 2**\n",
    "\n",
    "Прочитайте файл `yandex_music_project.csv` из папки `/datasets` и сохраните его в переменной `df`:"
   ]
  },
  {
   "cell_type": "code",
   "execution_count": 2,
   "metadata": {
    "deletable": false,
    "id": "fFVu7vqh_Zct"
   },
   "outputs": [],
   "source": [
    "df = pd.read_csv('/datasets/yandex_music_project.csv')"
   ]
  },
  {
   "cell_type": "markdown",
   "metadata": {
    "deletable": false,
    "editable": false,
    "id": "rDoOMd3uTqnZ",
    "tags": [
     "start_task"
    ]
   },
   "source": [
    "**Задание 3**\n",
    "\n",
    "\n",
    "Выведите на экран первые десять строк таблицы:"
   ]
  },
  {
   "cell_type": "code",
   "execution_count": 3,
   "metadata": {
    "deletable": false,
    "id": "oWTVX3gW_Zct"
   },
   "outputs": [
    {
     "data": {
      "text/html": [
       "<div>\n",
       "<style scoped>\n",
       "    .dataframe tbody tr th:only-of-type {\n",
       "        vertical-align: middle;\n",
       "    }\n",
       "\n",
       "    .dataframe tbody tr th {\n",
       "        vertical-align: top;\n",
       "    }\n",
       "\n",
       "    .dataframe thead th {\n",
       "        text-align: right;\n",
       "    }\n",
       "</style>\n",
       "<table border=\"1\" class=\"dataframe\">\n",
       "  <thead>\n",
       "    <tr style=\"text-align: right;\">\n",
       "      <th></th>\n",
       "      <th>userID</th>\n",
       "      <th>Track</th>\n",
       "      <th>artist</th>\n",
       "      <th>genre</th>\n",
       "      <th>City</th>\n",
       "      <th>time</th>\n",
       "      <th>Day</th>\n",
       "    </tr>\n",
       "  </thead>\n",
       "  <tbody>\n",
       "    <tr>\n",
       "      <th>0</th>\n",
       "      <td>FFB692EC</td>\n",
       "      <td>Kamigata To Boots</td>\n",
       "      <td>The Mass Missile</td>\n",
       "      <td>rock</td>\n",
       "      <td>Saint-Petersburg</td>\n",
       "      <td>20:28:33</td>\n",
       "      <td>Wednesday</td>\n",
       "    </tr>\n",
       "    <tr>\n",
       "      <th>1</th>\n",
       "      <td>55204538</td>\n",
       "      <td>Delayed Because of Accident</td>\n",
       "      <td>Andreas Rönnberg</td>\n",
       "      <td>rock</td>\n",
       "      <td>Moscow</td>\n",
       "      <td>14:07:09</td>\n",
       "      <td>Friday</td>\n",
       "    </tr>\n",
       "    <tr>\n",
       "      <th>2</th>\n",
       "      <td>20EC38</td>\n",
       "      <td>Funiculì funiculà</td>\n",
       "      <td>Mario Lanza</td>\n",
       "      <td>pop</td>\n",
       "      <td>Saint-Petersburg</td>\n",
       "      <td>20:58:07</td>\n",
       "      <td>Wednesday</td>\n",
       "    </tr>\n",
       "    <tr>\n",
       "      <th>3</th>\n",
       "      <td>A3DD03C9</td>\n",
       "      <td>Dragons in the Sunset</td>\n",
       "      <td>Fire + Ice</td>\n",
       "      <td>folk</td>\n",
       "      <td>Saint-Petersburg</td>\n",
       "      <td>08:37:09</td>\n",
       "      <td>Monday</td>\n",
       "    </tr>\n",
       "    <tr>\n",
       "      <th>4</th>\n",
       "      <td>E2DC1FAE</td>\n",
       "      <td>Soul People</td>\n",
       "      <td>Space Echo</td>\n",
       "      <td>dance</td>\n",
       "      <td>Moscow</td>\n",
       "      <td>08:34:34</td>\n",
       "      <td>Monday</td>\n",
       "    </tr>\n",
       "    <tr>\n",
       "      <th>5</th>\n",
       "      <td>842029A1</td>\n",
       "      <td>Преданная</td>\n",
       "      <td>IMPERVTOR</td>\n",
       "      <td>rusrap</td>\n",
       "      <td>Saint-Petersburg</td>\n",
       "      <td>13:09:41</td>\n",
       "      <td>Friday</td>\n",
       "    </tr>\n",
       "    <tr>\n",
       "      <th>6</th>\n",
       "      <td>4CB90AA5</td>\n",
       "      <td>True</td>\n",
       "      <td>Roman Messer</td>\n",
       "      <td>dance</td>\n",
       "      <td>Moscow</td>\n",
       "      <td>13:00:07</td>\n",
       "      <td>Wednesday</td>\n",
       "    </tr>\n",
       "    <tr>\n",
       "      <th>7</th>\n",
       "      <td>F03E1C1F</td>\n",
       "      <td>Feeling This Way</td>\n",
       "      <td>Polina Griffith</td>\n",
       "      <td>dance</td>\n",
       "      <td>Moscow</td>\n",
       "      <td>20:47:49</td>\n",
       "      <td>Wednesday</td>\n",
       "    </tr>\n",
       "    <tr>\n",
       "      <th>8</th>\n",
       "      <td>8FA1D3BE</td>\n",
       "      <td>И вновь продолжается бой</td>\n",
       "      <td>NaN</td>\n",
       "      <td>ruspop</td>\n",
       "      <td>Moscow</td>\n",
       "      <td>09:17:40</td>\n",
       "      <td>Friday</td>\n",
       "    </tr>\n",
       "    <tr>\n",
       "      <th>9</th>\n",
       "      <td>E772D5C0</td>\n",
       "      <td>Pessimist</td>\n",
       "      <td>NaN</td>\n",
       "      <td>dance</td>\n",
       "      <td>Saint-Petersburg</td>\n",
       "      <td>21:20:49</td>\n",
       "      <td>Wednesday</td>\n",
       "    </tr>\n",
       "  </tbody>\n",
       "</table>\n",
       "</div>"
      ],
      "text/plain": [
       "     userID                        Track            artist   genre  \\\n",
       "0  FFB692EC            Kamigata To Boots  The Mass Missile    rock   \n",
       "1  55204538  Delayed Because of Accident  Andreas Rönnberg    rock   \n",
       "2    20EC38            Funiculì funiculà       Mario Lanza     pop   \n",
       "3  A3DD03C9        Dragons in the Sunset        Fire + Ice    folk   \n",
       "4  E2DC1FAE                  Soul People        Space Echo   dance   \n",
       "5  842029A1                    Преданная         IMPERVTOR  rusrap   \n",
       "6  4CB90AA5                         True      Roman Messer   dance   \n",
       "7  F03E1C1F             Feeling This Way   Polina Griffith   dance   \n",
       "8  8FA1D3BE     И вновь продолжается бой               NaN  ruspop   \n",
       "9  E772D5C0                    Pessimist               NaN   dance   \n",
       "\n",
       "             City        time        Day  \n",
       "0  Saint-Petersburg  20:28:33  Wednesday  \n",
       "1            Moscow  14:07:09     Friday  \n",
       "2  Saint-Petersburg  20:58:07  Wednesday  \n",
       "3  Saint-Petersburg  08:37:09     Monday  \n",
       "4            Moscow  08:34:34     Monday  \n",
       "5  Saint-Petersburg  13:09:41     Friday  \n",
       "6            Moscow  13:00:07  Wednesday  \n",
       "7            Moscow  20:47:49  Wednesday  \n",
       "8            Moscow  09:17:40     Friday  \n",
       "9  Saint-Petersburg  21:20:49  Wednesday  "
      ]
     },
     "execution_count": 3,
     "metadata": {},
     "output_type": "execute_result"
    }
   ],
   "source": [
    "df.head(10)"
   ]
  },
  {
   "cell_type": "markdown",
   "metadata": {
    "deletable": false,
    "editable": false,
    "id": "EO73Kwic_Zct",
    "tags": [
     "start_task"
    ]
   },
   "source": [
    "**Задание 4**\n",
    "\n",
    "\n",
    "Одной командой получить общую информацию о таблице c помощью метода `info()`:"
   ]
  },
  {
   "cell_type": "code",
   "execution_count": 4,
   "metadata": {
    "deletable": false,
    "id": "DSf2kIb-_Zct"
   },
   "outputs": [
    {
     "name": "stdout",
     "output_type": "stream",
     "text": [
      "<class 'pandas.core.frame.DataFrame'>\n",
      "RangeIndex: 65079 entries, 0 to 65078\n",
      "Data columns (total 7 columns):\n",
      " #   Column    Non-Null Count  Dtype \n",
      "---  ------    --------------  ----- \n",
      " 0     userID  65079 non-null  object\n",
      " 1   Track     63848 non-null  object\n",
      " 2   artist    57876 non-null  object\n",
      " 3   genre     63881 non-null  object\n",
      " 4     City    65079 non-null  object\n",
      " 5   time      65079 non-null  object\n",
      " 6   Day       65079 non-null  object\n",
      "dtypes: object(7)\n",
      "memory usage: 3.5+ MB\n"
     ]
    }
   ],
   "source": [
    "df.info()"
   ]
  },
  {
   "cell_type": "markdown",
   "metadata": {
    "deletable": false,
    "editable": false,
    "id": "TaQ2Iwbr_Zct"
   },
   "source": [
    "Итак, в таблице семь столбцов. Тип данных во всех столбцах — `object`.\n",
    "\n",
    "Согласно документации к данным:\n",
    "* `userID` — идентификатор пользователя;\n",
    "* `Track` — название трека;  \n",
    "* `artist` — имя исполнителя;\n",
    "* `genre` — название жанра;\n",
    "* `City` — город пользователя;\n",
    "* `time` — время начала прослушивания;\n",
    "* `Day` — день недели.\n",
    "\n",
    "Количество значений в столбцах различается. Значит, в данных есть пропущенные значения."
   ]
  },
  {
   "cell_type": "markdown",
   "metadata": {
    "deletable": false,
    "editable": false,
    "id": "rAfziTBDmf2h",
    "tags": [
     "start_task"
    ]
   },
   "source": [
    "**Задание 5**\n",
    "\n",
    "**Вопрос со свободной формой ответа**\n",
    "\n",
    "В названиях колонок видны нарушения стиля:\n",
    "* Строчные буквы сочетаются с прописными.\n",
    "* Встречаются пробелы.\n",
    "\n",
    "Какое третье нарушение?"
   ]
  },
  {
   "cell_type": "code",
   "execution_count": 5,
   "metadata": {
    "id": "jD8EXEIvmf2h"
   },
   "outputs": [],
   "source": [
    "#Не змеиный способ записи названия переменной"
   ]
  },
  {
   "cell_type": "markdown",
   "metadata": {
    "deletable": false,
    "editable": false,
    "id": "MCB6-dXG_Zct"
   },
   "source": [
    "**Выводы**\n",
    "\n",
    "В каждой строке таблицы — данные о прослушанном треке. Часть колонок описывает саму композицию: название, исполнителя и жанр. Остальные данные рассказывают о пользователе: из какого он города, когда он слушал музыку. \n",
    "\n",
    "Предварительно можно утверждать, что данных достаточно для проверки гипотез. Но встречаются пропуски в данных, а в названиях колонок — расхождения с хорошим стилем.\n",
    "\n",
    "Чтобы двигаться дальше, нужно устранить проблемы в данных."
   ]
  },
  {
   "cell_type": "markdown",
   "metadata": {
    "deletable": false,
    "editable": false,
    "id": "SjYF6Ub9_Zct"
   },
   "source": [
    "## Предобработка данных\n",
    "Исправьте стиль в заголовках столбцов, исключите пропуски. Затем проверьте данные на дубликаты."
   ]
  },
  {
   "cell_type": "markdown",
   "metadata": {
    "deletable": false,
    "editable": false,
    "id": "dIaKXr29_Zct",
    "tags": [
     "start_task"
    ]
   },
   "source": [
    "### Стиль заголовков\n",
    "\n",
    "**Задание 6**\n",
    "\n",
    "Выведите на экран названия столбцов:"
   ]
  },
  {
   "cell_type": "code",
   "execution_count": 6,
   "metadata": {
    "deletable": false,
    "id": "oKOTdF_Q_Zct"
   },
   "outputs": [
    {
     "data": {
      "text/plain": [
       "Index(['  userID', 'Track', 'artist', 'genre', '  City  ', 'time', 'Day'], dtype='object')"
      ]
     },
     "execution_count": 6,
     "metadata": {},
     "output_type": "execute_result"
    }
   ],
   "source": [
    "df.columns"
   ]
  },
  {
   "cell_type": "markdown",
   "metadata": {
    "deletable": false,
    "editable": false,
    "id": "zj5534cv_Zct",
    "tags": [
     "start_task"
    ]
   },
   "source": [
    "**Задание 7**\n",
    "\n",
    "\n",
    "Приведите названия в соответствие с хорошим стилем:\n",
    "* несколько слов в названии запишите в «змеином_регистре»,\n",
    "* все символы сделайте строчными,\n",
    "* устраните пробелы.\n",
    "\n",
    "Для этого переименуйте колонки так:\n",
    "* `'  userID'` → `'user_id'`;\n",
    "* `'Track'` → `'track'`;\n",
    "* `'  City  '` → `'city'`;\n",
    "* `'Day'` → `'day'`."
   ]
  },
  {
   "cell_type": "code",
   "execution_count": 7,
   "metadata": {
    "deletable": false,
    "id": "ISlFqs5y_Zct"
   },
   "outputs": [],
   "source": [
    "df = df.rename(columns = {'  userID':'user_id', 'Track':'track', '  City  ':'city', 'Day':'day'})"
   ]
  },
  {
   "cell_type": "markdown",
   "metadata": {
    "deletable": false,
    "editable": false,
    "id": "1dqbh00J_Zct",
    "tags": [
     "start_task"
    ]
   },
   "source": [
    "**Задание 8**\n",
    "\n",
    "\n",
    "Проверьте результат. Для этого ещё раз выведите на экран названия столбцов:"
   ]
  },
  {
   "cell_type": "code",
   "execution_count": 8,
   "metadata": {
    "deletable": false,
    "id": "d4NOAmTW_Zct"
   },
   "outputs": [
    {
     "data": {
      "text/plain": [
       "Index(['user_id', 'track', 'artist', 'genre', 'city', 'time', 'day'], dtype='object')"
      ]
     },
     "execution_count": 8,
     "metadata": {},
     "output_type": "execute_result"
    }
   ],
   "source": [
    "df.columns"
   ]
  },
  {
   "cell_type": "markdown",
   "metadata": {
    "deletable": false,
    "editable": false,
    "id": "5ISfbcfY_Zct",
    "tags": [
     "start_task"
    ]
   },
   "source": [
    "### Пропуски значений\n",
    "\n",
    "**Задание 9**\n",
    "\n",
    "Сначала посчитайте, сколько в таблице пропущенных значений. Для этого достаточно двух методов `pandas`:"
   ]
  },
  {
   "cell_type": "code",
   "execution_count": 9,
   "metadata": {
    "deletable": false,
    "id": "RskX29qr_Zct"
   },
   "outputs": [
    {
     "data": {
      "text/plain": [
       "user_id       0\n",
       "track      1231\n",
       "artist     7203\n",
       "genre      1198\n",
       "city          0\n",
       "time          0\n",
       "day           0\n",
       "dtype: int64"
      ]
     },
     "execution_count": 9,
     "metadata": {},
     "output_type": "execute_result"
    }
   ],
   "source": [
    "df.isna().sum()\n",
    "#Так как в гипотезах 2 и 3 идет упор на жанры, то нам важно знать, много ли пропусков в колонке \"genre\" и работать будем с ними в первую очередь"
   ]
  },
  {
   "cell_type": "markdown",
   "metadata": {
    "deletable": false,
    "editable": false,
    "id": "qubhgnlO_Zct"
   },
   "source": [
    "Не все пропущенные значения влияют на исследование. Так в `track` и `artist` пропуски не важны для вашей работы. Достаточно заменить их явными обозначениями.\n",
    "\n",
    "Но пропуски в `genre` могут помешать сравнению музыкальных вкусов в Москве и Санкт-Петербурге. На практике было бы правильно установить причину пропусков и восстановить данные. Такой возможности нет в учебном проекте. Придётся:\n",
    "* заполнить и эти пропуски явными обозначениями;\n",
    "* оценить, насколько они повредят расчётам. "
   ]
  },
  {
   "cell_type": "markdown",
   "metadata": {
    "deletable": false,
    "editable": false,
    "id": "fSv2laPA_Zct",
    "tags": [
     "start_task"
    ]
   },
   "source": [
    "**Задание 10**\n",
    "\n",
    "Замените пропущенные значения в столбцах `track`, `artist` и `genre` на строку `'unknown'`. Для этого создайте список `columns_to_replace`, переберите его элементы циклом `for` и для каждого столбца выполните замену пропущенных значений:"
   ]
  },
  {
   "cell_type": "code",
   "execution_count": 10,
   "metadata": {
    "deletable": false,
    "id": "KplB5qWs_Zct"
   },
   "outputs": [],
   "source": [
    "columns_to_replace = df.loc[:'day']\n",
    "\n",
    "for col in columns_to_replace:\n",
    "    df[col] = df[col].fillna('unknown')"
   ]
  },
  {
   "cell_type": "markdown",
   "metadata": {
    "deletable": false,
    "editable": false,
    "id": "Ilsm-MZo_Zct",
    "tags": [
     "start_task"
    ]
   },
   "source": [
    "**Задание 11**\n",
    "\n",
    "Убедитесь, что в таблице не осталось пропусков. Для этого ещё раз посчитайте пропущенные значения."
   ]
  },
  {
   "cell_type": "code",
   "execution_count": 11,
   "metadata": {
    "deletable": false,
    "id": "Tq4nYRX4_Zct"
   },
   "outputs": [
    {
     "data": {
      "text/plain": [
       "user_id    0\n",
       "track      0\n",
       "artist     0\n",
       "genre      0\n",
       "city       0\n",
       "time       0\n",
       "day        0\n",
       "dtype: int64"
      ]
     },
     "execution_count": 11,
     "metadata": {},
     "output_type": "execute_result"
    }
   ],
   "source": [
    "df.isna().sum()"
   ]
  },
  {
   "cell_type": "markdown",
   "metadata": {
    "deletable": false,
    "editable": false,
    "id": "BWKRtBJ3_Zct",
    "tags": [
     "start_task"
    ]
   },
   "source": [
    "### Дубликаты\n",
    "\n",
    "**Задание 12**\n",
    "\n",
    "Посчитайте явные дубликаты в таблице одной командой:"
   ]
  },
  {
   "cell_type": "code",
   "execution_count": 12,
   "metadata": {
    "deletable": false,
    "id": "36eES_S0_Zct"
   },
   "outputs": [
    {
     "data": {
      "text/plain": [
       "3826"
      ]
     },
     "execution_count": 12,
     "metadata": {},
     "output_type": "execute_result"
    }
   ],
   "source": [
    "df.duplicated().sum()"
   ]
  },
  {
   "cell_type": "markdown",
   "metadata": {
    "deletable": false,
    "editable": false,
    "id": "Ot25h6XR_Zct",
    "tags": [
     "start_task"
    ]
   },
   "source": [
    "**Задание 13**\n",
    "\n",
    "Вызовите специальный метод `pandas`, чтобы удалить явные дубликаты:"
   ]
  },
  {
   "cell_type": "code",
   "execution_count": 13,
   "metadata": {
    "deletable": false,
    "id": "exFHq6tt_Zct"
   },
   "outputs": [],
   "source": [
    "df = df.drop_duplicates()"
   ]
  },
  {
   "cell_type": "markdown",
   "metadata": {
    "deletable": false,
    "editable": false,
    "id": "Im2YwBEG_Zct",
    "tags": [
     "start_task"
    ]
   },
   "source": [
    "**Задание 14**\n",
    "\n",
    "Ещё раз посчитайте явные дубликаты в таблице — убедитесь, что полностью от них избавились:"
   ]
  },
  {
   "cell_type": "code",
   "execution_count": 14,
   "metadata": {
    "deletable": false,
    "id": "-8PuNWQ0_Zct"
   },
   "outputs": [
    {
     "data": {
      "text/plain": [
       "0"
      ]
     },
     "execution_count": 14,
     "metadata": {},
     "output_type": "execute_result"
    }
   ],
   "source": [
    "df.duplicated().sum()"
   ]
  },
  {
   "cell_type": "markdown",
   "metadata": {
    "deletable": false,
    "editable": false,
    "id": "QlFBsxAr_Zct"
   },
   "source": [
    "Теперь избавьтесь от неявных дубликатов в колонке `genre`. Например, название одного и того же жанра может быть записано немного по-разному. Такие ошибки тоже повлияют на результат исследования."
   ]
  },
  {
   "cell_type": "markdown",
   "metadata": {
    "deletable": false,
    "editable": false,
    "id": "eSjWwsOh_Zct",
    "tags": [
     "start_task"
    ]
   },
   "source": [
    "**Задание 15**\n",
    "\n",
    "Выведите на экран список уникальных названий жанров, отсортированный в алфавитном порядке. Для этого:\n",
    "1. извлеките нужный столбец датафрейма; \n",
    "2. примените к нему метод сортировки;\n",
    "3. для отсортированного столбца вызовите метод, который вернёт уникальные значения из столбца."
   ]
  },
  {
   "cell_type": "code",
   "execution_count": 15,
   "metadata": {
    "deletable": false,
    "id": "JIUcqzZN_Zct"
   },
   "outputs": [
    {
     "data": {
      "text/plain": [
       "array(['acid', 'acoustic', 'action', 'adult', 'africa', 'afrikaans',\n",
       "       'alternative', 'alternativepunk', 'ambient', 'americana',\n",
       "       'animated', 'anime', 'arabesk', 'arabic', 'arena',\n",
       "       'argentinetango', 'art', 'audiobook', 'author', 'avantgarde',\n",
       "       'axé', 'baile', 'balkan', 'beats', 'bigroom', 'black', 'bluegrass',\n",
       "       'blues', 'bollywood', 'bossa', 'brazilian', 'breakbeat', 'breaks',\n",
       "       'broadway', 'cantautori', 'cantopop', 'canzone', 'caribbean',\n",
       "       'caucasian', 'celtic', 'chamber', 'chanson', 'children', 'chill',\n",
       "       'chinese', 'choral', 'christian', 'christmas', 'classical',\n",
       "       'classicmetal', 'club', 'colombian', 'comedy', 'conjazz',\n",
       "       'contemporary', 'country', 'cuban', 'dance', 'dancehall',\n",
       "       'dancepop', 'dark', 'death', 'deep', 'deutschrock', 'deutschspr',\n",
       "       'dirty', 'disco', 'dnb', 'documentary', 'downbeat', 'downtempo',\n",
       "       'drum', 'dub', 'dubstep', 'eastern', 'easy', 'electronic',\n",
       "       'electropop', 'emo', 'entehno', 'epicmetal', 'estrada', 'ethnic',\n",
       "       'eurofolk', 'european', 'experimental', 'extrememetal', 'fado',\n",
       "       'fairytail', 'film', 'fitness', 'flamenco', 'folk', 'folklore',\n",
       "       'folkmetal', 'folkrock', 'folktronica', 'forró', 'frankreich',\n",
       "       'französisch', 'french', 'funk', 'future', 'gangsta', 'garage',\n",
       "       'german', 'ghazal', 'gitarre', 'glitch', 'gospel', 'gothic',\n",
       "       'grime', 'grunge', 'gypsy', 'handsup', \"hard'n'heavy\", 'hardcore',\n",
       "       'hardstyle', 'hardtechno', 'hip', 'hip-hop', 'hiphop',\n",
       "       'historisch', 'holiday', 'hop', 'horror', 'house', 'hymn', 'idm',\n",
       "       'independent', 'indian', 'indie', 'indipop', 'industrial',\n",
       "       'inspirational', 'instrumental', 'international', 'irish', 'jam',\n",
       "       'japanese', 'jazz', 'jewish', 'jpop', 'jungle', 'k-pop',\n",
       "       'karadeniz', 'karaoke', 'kayokyoku', 'korean', 'laiko', 'latin',\n",
       "       'latino', 'leftfield', 'local', 'lounge', 'loungeelectronic',\n",
       "       'lovers', 'malaysian', 'mandopop', 'marschmusik', 'meditative',\n",
       "       'mediterranean', 'melodic', 'metal', 'metalcore', 'mexican',\n",
       "       'middle', 'minimal', 'miscellaneous', 'modern', 'mood', 'mpb',\n",
       "       'muslim', 'native', 'neoklassik', 'neue', 'new', 'newage',\n",
       "       'newwave', 'nu', 'nujazz', 'numetal', 'oceania', 'old', 'opera',\n",
       "       'orchestral', 'other', 'piano', 'podcasts', 'pop', 'popdance',\n",
       "       'popelectronic', 'popeurodance', 'poprussian', 'post',\n",
       "       'posthardcore', 'postrock', 'power', 'progmetal', 'progressive',\n",
       "       'psychedelic', 'punjabi', 'punk', 'quebecois', 'ragga', 'ram',\n",
       "       'rancheras', 'rap', 'rave', 'reggae', 'reggaeton', 'regional',\n",
       "       'relax', 'religious', 'retro', 'rhythm', 'rnb', 'rnr', 'rock',\n",
       "       'rockabilly', 'rockalternative', 'rockindie', 'rockother',\n",
       "       'romance', 'roots', 'ruspop', 'rusrap', 'rusrock', 'russian',\n",
       "       'salsa', 'samba', 'scenic', 'schlager', 'self', 'sertanejo',\n",
       "       'shanson', 'shoegazing', 'showtunes', 'singer', 'ska', 'skarock',\n",
       "       'slow', 'smooth', 'soft', 'soul', 'soulful', 'sound', 'soundtrack',\n",
       "       'southern', 'specialty', 'speech', 'spiritual', 'sport',\n",
       "       'stonerrock', 'surf', 'swing', 'synthpop', 'synthrock',\n",
       "       'sängerportrait', 'tango', 'tanzorchester', 'taraftar', 'tatar',\n",
       "       'tech', 'techno', 'teen', 'thrash', 'top', 'traditional',\n",
       "       'tradjazz', 'trance', 'tribal', 'trip', 'triphop', 'tropical',\n",
       "       'türk', 'türkçe', 'ukrrock', 'unknown', 'urban', 'uzbek',\n",
       "       'variété', 'vi', 'videogame', 'vocal', 'western', 'world',\n",
       "       'worldbeat', 'ïîï', 'электроника'], dtype=object)"
      ]
     },
     "execution_count": 15,
     "metadata": {},
     "output_type": "execute_result"
    }
   ],
   "source": [
    "df['genre'].sort_values().unique()"
   ]
  },
  {
   "cell_type": "markdown",
   "metadata": {
    "deletable": false,
    "editable": false,
    "id": "qej-Qmuo_Zct",
    "tags": [
     "start_task"
    ]
   },
   "source": [
    "**Задание 16**\n",
    "\n",
    "Просмотрите список и найдите неявные дубликаты названия `hiphop`. Это могут быть названия с ошибками или альтернативные названия того же жанра.\n",
    "\n",
    "Вы увидите следующие неявные дубликаты:\n",
    "* *hip*,\n",
    "* *hop*,\n",
    "* *hip-hop*.\n",
    "\n",
    "Чтобы очистить от них таблицу используйте метод `replace()` с двумя аргументами: списком строк-дубликатов (включащий *hip*, *hop* и *hip-hop*) и строкой с правильным значением. Вам нужно исправить колонку `genre` в таблице `df`: заменить каждое значение из списка дубликатов на верное. Вместо `hip`, `hop` и `hip-hop` в таблице должно быть значение `hiphop`:"
   ]
  },
  {
   "cell_type": "code",
   "execution_count": 16,
   "metadata": {
    "deletable": false,
    "id": "ErNDkmns_Zct"
   },
   "outputs": [],
   "source": [
    "df['genre'] = df['genre'].replace('hip', 'hiphop')\n",
    "df['genre'] = df['genre'].replace('hop', 'hiphop')\n",
    "df['genre'] = df['genre'].replace('hip-hop', 'hiphop')"
   ]
  },
  {
   "cell_type": "markdown",
   "metadata": {
    "deletable": false,
    "editable": false,
    "id": "zQKF16_RG15m",
    "tags": [
     "start_task"
    ]
   },
   "source": [
    "**Задание 17**\n",
    "\n",
    "Проверьте, что заменили неправильные названия:\n",
    "\n",
    "*   hip,\n",
    "*   hop,\n",
    "*   hip-hop.\n",
    "\n",
    "Выведите отсортированный список уникальных значений столбца `genre`:"
   ]
  },
  {
   "cell_type": "code",
   "execution_count": 17,
   "metadata": {
    "deletable": false,
    "id": "wvixALnFG15m"
   },
   "outputs": [
    {
     "data": {
      "text/plain": [
       "array(['acid', 'acoustic', 'action', 'adult', 'africa', 'afrikaans',\n",
       "       'alternative', 'alternativepunk', 'ambient', 'americana',\n",
       "       'animated', 'anime', 'arabesk', 'arabic', 'arena',\n",
       "       'argentinetango', 'art', 'audiobook', 'author', 'avantgarde',\n",
       "       'axé', 'baile', 'balkan', 'beats', 'bigroom', 'black', 'bluegrass',\n",
       "       'blues', 'bollywood', 'bossa', 'brazilian', 'breakbeat', 'breaks',\n",
       "       'broadway', 'cantautori', 'cantopop', 'canzone', 'caribbean',\n",
       "       'caucasian', 'celtic', 'chamber', 'chanson', 'children', 'chill',\n",
       "       'chinese', 'choral', 'christian', 'christmas', 'classical',\n",
       "       'classicmetal', 'club', 'colombian', 'comedy', 'conjazz',\n",
       "       'contemporary', 'country', 'cuban', 'dance', 'dancehall',\n",
       "       'dancepop', 'dark', 'death', 'deep', 'deutschrock', 'deutschspr',\n",
       "       'dirty', 'disco', 'dnb', 'documentary', 'downbeat', 'downtempo',\n",
       "       'drum', 'dub', 'dubstep', 'eastern', 'easy', 'electronic',\n",
       "       'electropop', 'emo', 'entehno', 'epicmetal', 'estrada', 'ethnic',\n",
       "       'eurofolk', 'european', 'experimental', 'extrememetal', 'fado',\n",
       "       'fairytail', 'film', 'fitness', 'flamenco', 'folk', 'folklore',\n",
       "       'folkmetal', 'folkrock', 'folktronica', 'forró', 'frankreich',\n",
       "       'französisch', 'french', 'funk', 'future', 'gangsta', 'garage',\n",
       "       'german', 'ghazal', 'gitarre', 'glitch', 'gospel', 'gothic',\n",
       "       'grime', 'grunge', 'gypsy', 'handsup', \"hard'n'heavy\", 'hardcore',\n",
       "       'hardstyle', 'hardtechno', 'hiphop', 'historisch', 'holiday',\n",
       "       'horror', 'house', 'hymn', 'idm', 'independent', 'indian', 'indie',\n",
       "       'indipop', 'industrial', 'inspirational', 'instrumental',\n",
       "       'international', 'irish', 'jam', 'japanese', 'jazz', 'jewish',\n",
       "       'jpop', 'jungle', 'k-pop', 'karadeniz', 'karaoke', 'kayokyoku',\n",
       "       'korean', 'laiko', 'latin', 'latino', 'leftfield', 'local',\n",
       "       'lounge', 'loungeelectronic', 'lovers', 'malaysian', 'mandopop',\n",
       "       'marschmusik', 'meditative', 'mediterranean', 'melodic', 'metal',\n",
       "       'metalcore', 'mexican', 'middle', 'minimal', 'miscellaneous',\n",
       "       'modern', 'mood', 'mpb', 'muslim', 'native', 'neoklassik', 'neue',\n",
       "       'new', 'newage', 'newwave', 'nu', 'nujazz', 'numetal', 'oceania',\n",
       "       'old', 'opera', 'orchestral', 'other', 'piano', 'podcasts', 'pop',\n",
       "       'popdance', 'popelectronic', 'popeurodance', 'poprussian', 'post',\n",
       "       'posthardcore', 'postrock', 'power', 'progmetal', 'progressive',\n",
       "       'psychedelic', 'punjabi', 'punk', 'quebecois', 'ragga', 'ram',\n",
       "       'rancheras', 'rap', 'rave', 'reggae', 'reggaeton', 'regional',\n",
       "       'relax', 'religious', 'retro', 'rhythm', 'rnb', 'rnr', 'rock',\n",
       "       'rockabilly', 'rockalternative', 'rockindie', 'rockother',\n",
       "       'romance', 'roots', 'ruspop', 'rusrap', 'rusrock', 'russian',\n",
       "       'salsa', 'samba', 'scenic', 'schlager', 'self', 'sertanejo',\n",
       "       'shanson', 'shoegazing', 'showtunes', 'singer', 'ska', 'skarock',\n",
       "       'slow', 'smooth', 'soft', 'soul', 'soulful', 'sound', 'soundtrack',\n",
       "       'southern', 'specialty', 'speech', 'spiritual', 'sport',\n",
       "       'stonerrock', 'surf', 'swing', 'synthpop', 'synthrock',\n",
       "       'sängerportrait', 'tango', 'tanzorchester', 'taraftar', 'tatar',\n",
       "       'tech', 'techno', 'teen', 'thrash', 'top', 'traditional',\n",
       "       'tradjazz', 'trance', 'tribal', 'trip', 'triphop', 'tropical',\n",
       "       'türk', 'türkçe', 'ukrrock', 'unknown', 'urban', 'uzbek',\n",
       "       'variété', 'vi', 'videogame', 'vocal', 'western', 'world',\n",
       "       'worldbeat', 'ïîï', 'электроника'], dtype=object)"
      ]
     },
     "execution_count": 17,
     "metadata": {},
     "output_type": "execute_result"
    }
   ],
   "source": [
    "df['genre'].sort_values().unique()"
   ]
  },
  {
   "cell_type": "markdown",
   "metadata": {
    "deletable": false,
    "editable": false,
    "id": "jz6a9-7HQUDd"
   },
   "source": [
    "**Выводы**\n",
    "\n",
    "Предобработка обнаружила три проблемы в данных:\n",
    "\n",
    "- нарушения в стиле заголовков,\n",
    "- пропущенные значения,\n",
    "- дубликаты — явные и неявные.\n",
    "\n",
    "Вы исправили заголовки, чтобы упростить работу с таблицей. Без дубликатов исследование станет более точным.\n",
    "\n",
    "Пропущенные значения вы заменили на `'unknown'`. Ещё предстоит увидеть, не повредят ли исследованию пропуски в колонке `genre`.\n",
    "\n",
    "Теперь можно перейти к проверке гипотез. "
   ]
  },
  {
   "cell_type": "markdown",
   "metadata": {
    "deletable": false,
    "editable": false,
    "id": "WttZHXH0SqKk"
   },
   "source": [
    "## Проверка гипотез"
   ]
  },
  {
   "cell_type": "markdown",
   "metadata": {
    "deletable": false,
    "editable": false,
    "id": "Im936VVi_Zcu"
   },
   "source": [
    "### Сравнение поведения пользователей двух столиц"
   ]
  },
  {
   "cell_type": "markdown",
   "metadata": {
    "deletable": false,
    "editable": false,
    "id": "nwt_MuaL_Zcu"
   },
   "source": [
    "Первая гипотеза утверждает, что пользователи по-разному слушают музыку в Москве и Санкт-Петербурге. Проверьте это предположение по данным о трёх днях недели — понедельнике, среде и пятнице. Для этого:\n",
    "\n",
    "* Разделите пользователей Москвы и Санкт-Петербурга.\n",
    "* Сравните, сколько треков послушала каждая группа пользователей в понедельник, среду и пятницу.\n"
   ]
  },
  {
   "cell_type": "markdown",
   "metadata": {
    "deletable": false,
    "editable": false,
    "id": "8Dw_YMmT_Zcu",
    "tags": [
     "start_task"
    ]
   },
   "source": [
    "**Задание 18**\n",
    "\n",
    "Для тренировки сначала выполните каждый из расчётов по отдельности. \n",
    "\n",
    "Оцените активность пользователей в каждом городе. Сгруппируйте данные по городу и посчитайте прослушивания в каждой группе.\n",
    "\n"
   ]
  },
  {
   "cell_type": "code",
   "execution_count": 18,
   "metadata": {
    "deletable": false,
    "id": "0_Qs96oh_Zcu"
   },
   "outputs": [
    {
     "data": {
      "text/plain": [
       "city\n",
       "Moscow              42741\n",
       "Saint-Petersburg    18512\n",
       "Name: user_id, dtype: int64"
      ]
     },
     "execution_count": 18,
     "metadata": {},
     "output_type": "execute_result"
    }
   ],
   "source": [
    "df.groupby('city')['user_id'].count()\n"
   ]
  },
  {
   "cell_type": "markdown",
   "metadata": {
    "deletable": false,
    "editable": false,
    "id": "dzli3w8o_Zcu",
    "tags": [
     "start_task"
    ]
   },
   "source": [
    "В Москве прослушиваний больше, чем в Петербурге. Из этого не следует, что московские пользователи чаще слушают музыку. Просто самих пользователей в Москве больше.\n",
    "\n",
    "**Задание 19**\n",
    "\n",
    "Теперь сгруппируйте данные по дню недели и посчитайте прослушивания в понедельник, среду и пятницу. Учтите, что в данных есть информация о прослушиваниях только за эти дни.\n"
   ]
  },
  {
   "cell_type": "code",
   "execution_count": 19,
   "metadata": {
    "deletable": false,
    "id": "uZMKjiJz_Zcu"
   },
   "outputs": [
    {
     "data": {
      "text/plain": [
       "day\n",
       "Friday       21840\n",
       "Monday       21354\n",
       "Wednesday    18059\n",
       "Name: user_id, dtype: int64"
      ]
     },
     "execution_count": 19,
     "metadata": {},
     "output_type": "execute_result"
    }
   ],
   "source": [
    "df.groupby('day')['user_id'].count()"
   ]
  },
  {
   "cell_type": "markdown",
   "metadata": {
    "deletable": false,
    "editable": false,
    "id": "cC2tNrlL_Zcu"
   },
   "source": [
    "В среднем пользователи из двух городов менее активны по средам. Но картина может измениться, если рассмотреть каждый город в отдельности."
   ]
  },
  {
   "cell_type": "markdown",
   "metadata": {
    "deletable": false,
    "editable": false,
    "id": "POzs8bGa_Zcu",
    "tags": [
     "start_task"
    ]
   },
   "source": [
    "**Задание 20**\n",
    "\n",
    "\n",
    "Вы видели, как работает группировка по городу и по дням недели. Теперь напишите функцию, которая объединит два эти расчёта.\n",
    "\n",
    "Создайте функцию `number_tracks()`, которая посчитает прослушивания для заданного дня и города. Ей понадобятся два параметра:\n",
    "* день недели,\n",
    "* название города.\n",
    "\n",
    "В функции сохраните в переменную строки исходной таблицы, у которых значение:\n",
    "  * в колонке `day` равно параметру `day`,\n",
    "  * в колонке `city` равно параметру `city`.\n",
    "\n",
    "Для этого примените последовательную фильтрацию с логической индексацией (или сложные логические выражения в одну строку, если вы уже знакомы с ними).\n",
    "\n",
    "Затем посчитайте значения в столбце `user_id` получившейся таблицы. Результат сохраните в новую переменную. Верните эту переменную из функции."
   ]
  },
  {
   "cell_type": "code",
   "execution_count": 20,
   "metadata": {
    "deletable": false,
    "id": "Nz3GdQB1_Zcu"
   },
   "outputs": [],
   "source": [
    "def number_tracks (day, city):\n",
    "    track_list = df[df[\"day\"] == day]\n",
    "    track_list = track_list[track_list[\"city\"] == city]\n",
    "    track_list_count = track_list['user_id'].count()\n",
    "    return track_list_count\n",
    "\n",
    "\n",
    "# <создание функции number_tracks()>\n",
    "# Объявляется функция с двумя параметрами: day, city.\n",
    "# В переменной track_list сохраняются те строки таблицы df, для которых \n",
    "# значение в столбце 'day' равно параметру day и одновременно значение\n",
    "# в столбце 'city' равно параметру city (используйте последовательную фильтрацию\n",
    "# с помощью логической индексации или сложные логические выражения в одну строку, если вы уже знакомы с ними).\n",
    "# В переменной track_list_count сохраняется число значений столбца 'user_id',\n",
    "# рассчитанное методом count() для таблицы track_list.\n",
    "# Функция возвращает число - значение track_list_count.\n",
    "\n",
    "# Функция для подсчёта прослушиваний для конкретного города и дня.\n",
    "# С помощью последовательной фильтрации с логической индексацией она \n",
    "# сначала получит из исходной таблицы строки с нужным днём,\n",
    "# затем из результата отфильтрует строки с нужным городом,\n",
    "# методом count() посчитает количество значений в колонке user_id. \n",
    "# Это количество функция вернёт в качестве результата"
   ]
  },
  {
   "cell_type": "markdown",
   "metadata": {
    "deletable": false,
    "editable": false,
    "id": "ytf7xFrFJQ2r",
    "tags": [
     "start_task"
    ]
   },
   "source": [
    "**Задание 21**\n",
    "\n",
    "Вызовите `number_tracks()` шесть раз, меняя значение параметров — так, чтобы получить данные для каждого города в каждый из трёх дней."
   ]
  },
  {
   "cell_type": "code",
   "execution_count": 21,
   "metadata": {
    "deletable": false,
    "id": "rJcRATNQ_Zcu"
   },
   "outputs": [
    {
     "data": {
      "text/plain": [
       "15740"
      ]
     },
     "execution_count": 21,
     "metadata": {},
     "output_type": "execute_result"
    }
   ],
   "source": [
    "number_tracks('Monday', 'Moscow')"
   ]
  },
  {
   "cell_type": "code",
   "execution_count": 22,
   "metadata": {
    "deletable": false,
    "id": "hq_ncZ5T_Zcu"
   },
   "outputs": [
    {
     "data": {
      "text/plain": [
       "5614"
      ]
     },
     "execution_count": 22,
     "metadata": {},
     "output_type": "execute_result"
    }
   ],
   "source": [
    "number_tracks('Monday', 'Saint-Petersburg')"
   ]
  },
  {
   "cell_type": "code",
   "execution_count": 23,
   "metadata": {
    "deletable": false,
    "id": "_NTy2VPU_Zcu"
   },
   "outputs": [
    {
     "data": {
      "text/plain": [
       "11056"
      ]
     },
     "execution_count": 23,
     "metadata": {},
     "output_type": "execute_result"
    }
   ],
   "source": [
    "number_tracks('Wednesday', 'Moscow')"
   ]
  },
  {
   "cell_type": "code",
   "execution_count": 24,
   "metadata": {
    "deletable": false,
    "id": "j2y3TAwo_Zcu"
   },
   "outputs": [
    {
     "data": {
      "text/plain": [
       "7003"
      ]
     },
     "execution_count": 24,
     "metadata": {},
     "output_type": "execute_result"
    }
   ],
   "source": [
    "number_tracks('Wednesday', 'Saint-Petersburg')"
   ]
  },
  {
   "cell_type": "code",
   "execution_count": 25,
   "metadata": {
    "deletable": false,
    "id": "vYDw5u_K_Zcu"
   },
   "outputs": [
    {
     "data": {
      "text/plain": [
       "15945"
      ]
     },
     "execution_count": 25,
     "metadata": {},
     "output_type": "execute_result"
    }
   ],
   "source": [
    "number_tracks('Friday', 'Moscow')"
   ]
  },
  {
   "cell_type": "code",
   "execution_count": 26,
   "metadata": {
    "deletable": false,
    "id": "8_yzFtW3_Zcu"
   },
   "outputs": [
    {
     "data": {
      "text/plain": [
       "5895"
      ]
     },
     "execution_count": 26,
     "metadata": {},
     "output_type": "execute_result"
    }
   ],
   "source": [
    "number_tracks('Friday', 'Saint-Petersburg')"
   ]
  },
  {
   "cell_type": "markdown",
   "metadata": {
    "deletable": false,
    "editable": false,
    "id": "7QXffbO-_Zcu",
    "tags": [
     "start_task"
    ]
   },
   "source": [
    "**Задание 22**\n",
    "\n",
    "Создайте c помощью конструктора `pd.DataFrame` таблицу, где\n",
    "* названия колонок — `['city', 'monday', 'wednesday', 'friday']`;\n",
    "* данные — результаты, которые вы получили с помощью `number_tracks`."
   ]
  },
  {
   "cell_type": "code",
   "execution_count": 27,
   "metadata": {
    "deletable": false,
    "id": "APAcLpOr_Zcu"
   },
   "outputs": [
    {
     "data": {
      "text/html": [
       "<div>\n",
       "<style scoped>\n",
       "    .dataframe tbody tr th:only-of-type {\n",
       "        vertical-align: middle;\n",
       "    }\n",
       "\n",
       "    .dataframe tbody tr th {\n",
       "        vertical-align: top;\n",
       "    }\n",
       "\n",
       "    .dataframe thead th {\n",
       "        text-align: right;\n",
       "    }\n",
       "</style>\n",
       "<table border=\"1\" class=\"dataframe\">\n",
       "  <thead>\n",
       "    <tr style=\"text-align: right;\">\n",
       "      <th></th>\n",
       "      <th>city</th>\n",
       "      <th>monday</th>\n",
       "      <th>wednesday</th>\n",
       "      <th>friday</th>\n",
       "    </tr>\n",
       "  </thead>\n",
       "  <tbody>\n",
       "    <tr>\n",
       "      <th>0</th>\n",
       "      <td>Moscow</td>\n",
       "      <td>15740</td>\n",
       "      <td>11056</td>\n",
       "      <td>15945</td>\n",
       "    </tr>\n",
       "    <tr>\n",
       "      <th>1</th>\n",
       "      <td>Saint-Petersburg</td>\n",
       "      <td>5614</td>\n",
       "      <td>7003</td>\n",
       "      <td>5895</td>\n",
       "    </tr>\n",
       "  </tbody>\n",
       "</table>\n",
       "</div>"
      ],
      "text/plain": [
       "               city  monday  wednesday  friday\n",
       "0            Moscow   15740      11056   15945\n",
       "1  Saint-Petersburg    5614       7003    5895"
      ]
     },
     "execution_count": 27,
     "metadata": {},
     "output_type": "execute_result"
    }
   ],
   "source": [
    "new_df = pd.DataFrame(data = [['Moscow', 15740, 11056, 15945], ['Saint-Petersburg', 5614, 7003, 5895]], columns = ['city', 'monday', 'wednesday', 'friday'])\n",
    "new_df"
   ]
  },
  {
   "cell_type": "markdown",
   "metadata": {
    "deletable": false,
    "editable": false,
    "id": "-EgPIHYu_Zcu"
   },
   "source": [
    "**Выводы**\n",
    "\n",
    "Данные показывают разницу поведения пользователей:\n",
    "\n",
    "- В Москве пик прослушиваний приходится на понедельник и пятницу, а в среду заметен спад.\n",
    "- В Петербурге, наоборот, больше слушают музыку по средам. Активность в понедельник и пятницу здесь почти в равной мере уступает среде.\n",
    "\n",
    "Значит, данные говорят в пользу первой гипотезы."
   ]
  },
  {
   "cell_type": "markdown",
   "metadata": {
    "deletable": false,
    "editable": false,
    "id": "atZAxtq4_Zcu"
   },
   "source": [
    "### Музыка в начале и в конце недели"
   ]
  },
  {
   "cell_type": "markdown",
   "metadata": {
    "deletable": false,
    "editable": false,
    "id": "eXrQqXFH_Zcu"
   },
   "source": [
    "Согласно второй гипотезе, утром в понедельник в Москве преобладают одни жанры, а в Петербурге — другие. Так же и вечером пятницы преобладают разные жанры — в зависимости от города."
   ]
  },
  {
   "cell_type": "markdown",
   "metadata": {
    "deletable": false,
    "editable": false,
    "id": "S8UcW6Hw_Zcu",
    "tags": [
     "start_task"
    ]
   },
   "source": [
    "**Задание 23**\n",
    "\n",
    "Сохраните таблицы с данными в две переменные:\n",
    "* по Москве — в `moscow_general`;\n",
    "* по Санкт-Петербургу — в `spb_general`."
   ]
  },
  {
   "cell_type": "code",
   "execution_count": 28,
   "metadata": {
    "deletable": false,
    "id": "qeaFfM_P_Zcu"
   },
   "outputs": [],
   "source": [
    "moscow_general = df.query('city == \"Moscow\"')\n",
    "\n",
    "# получение таблицы moscow_general из тех строк таблицы df, \n",
    "# для которых значение в столбце 'city' равно 'Moscow'\n"
   ]
  },
  {
   "cell_type": "code",
   "execution_count": 29,
   "metadata": {
    "deletable": false,
    "id": "ORaVRKto_Zcu"
   },
   "outputs": [],
   "source": [
    "spb_general = df.query('city == \"Saint-Petersburg\"')\n",
    "\n",
    "# получение таблицы spb_general из тех строк таблицы df,\n",
    "# для которых значение в столбце 'city' равно 'Saint-Petersburg'\n"
   ]
  },
  {
   "cell_type": "markdown",
   "metadata": {
    "deletable": false,
    "editable": false,
    "id": "MEJV-CX2_Zcu",
    "tags": [
     "start_task"
    ]
   },
   "source": [
    "**Задание 24**\n",
    "\n",
    "Создайте функцию `genre_weekday()` с четырьмя параметрами:\n",
    "* таблица (датафрейм) с данными,\n",
    "* день недели,\n",
    "* начальная временная метка в формате 'hh:mm', \n",
    "* последняя временная метка в формате 'hh:mm'.\n",
    "\n",
    "Функция должна вернуть информацию о топ-10 жанров тех треков, которые прослушивали в указанный день, в промежутке между двумя отметками времени."
   ]
  },
  {
   "cell_type": "code",
   "execution_count": 33,
   "metadata": {
    "deletable": false,
    "id": "laJT9BYl_Zcu"
   },
   "outputs": [],
   "source": [
    "# Объявление функции genre_weekday() с параметрами table, day, time1, time2,\n",
    "# которая возвращает информацию о самых популярных жанрах в указанный день в\n",
    "# заданное время:\n",
    "# 1) в переменную genre_df сохраняются те строки переданного датафрейма table, для\n",
    "#    которых одновременно:\n",
    "#    - значение в столбце day равно значению аргумента day\n",
    "#    - значение в столбце time больше значения аргумента time1\n",
    "#    - значение в столбце time меньше значения аргумента time2\n",
    "#    Используйте последовательную фильтрацию с помощью логической индексации.\n",
    "# 2) сгруппировать датафрейм genre_df по столбцу genre, взять один из его\n",
    "#    столбцов и посчитать методом count() количество записей для каждого из\n",
    "#    присутствующих жанров, получившийся Series записать в переменную\n",
    "#    genre_df_count\n",
    "# 3) отсортировать genre_df_count по убыванию встречаемости и сохранить\n",
    "#    в переменную genre_df_sorted\n",
    "# 4) вернуть Series из 10 первых значений genre_df_sorted, это будут топ-10\n",
    "#    популярных жанров (в указанный день, в заданное время)\n",
    "\n",
    "def genre_weekday(df, day, time1, time2):\n",
    "    # оставляем в genre_df только те строки df, у которых день равен day\n",
    "    genre_df = df[df['day']==day]\n",
    "    # оставляем в genre_df только те строки genre_df, у которых время меньше time2\n",
    "    genre_df = genre_df[genre_df['time']<time2]\n",
    "    # оставляем в genre_df только те строки genre_df, у которых время больше time1\n",
    "    genre_df = genre_df[genre_df['time']>time1]\n",
    "    # сгруппируем отфильтрованный датафрейм по столбцу с названиями жанров, возьмём столбец genre и посчитаем кол-во строк для каждого жанра методом count()\n",
    "    genre_df_grouped = genre_df.groupby('genre')[\"genre\"].count()\n",
    "    # отсортируем результат по убыванию (чтобы в начале Series оказались самые популярные жанры)\n",
    "    genre_df_sorted = genre_df_grouped.sort_values(ascending=False)\n",
    "    # вернём Series с 10 самыми популярными жанрами в указанный отрезок времени заданного дня\n",
    "    return genre_df_sorted[:10]"
   ]
  },
  {
   "cell_type": "markdown",
   "metadata": {
    "deletable": false,
    "editable": false,
    "id": "la2s2_PF_Zcu",
    "tags": [
     "start_task"
    ]
   },
   "source": [
    "**Задание 25**\n",
    "\n",
    "\n",
    "Cравните результаты функции `genre_weekday()` для Москвы и Санкт-Петербурга в понедельник утром (с 7:00 до 11:00) и в пятницу вечером (с 17:00 до 23:00):"
   ]
  },
  {
   "cell_type": "code",
   "execution_count": 38,
   "metadata": {
    "deletable": false,
    "id": "yz7itPUQ_Zcu"
   },
   "outputs": [
    {
     "data": {
      "text/plain": [
       "genre\n",
       "pop            781\n",
       "dance          549\n",
       "electronic     480\n",
       "rock           474\n",
       "hiphop         286\n",
       "ruspop         186\n",
       "world          181\n",
       "rusrap         175\n",
       "alternative    164\n",
       "unknown        161\n",
       "Name: genre, dtype: int64"
      ]
     },
     "execution_count": 38,
     "metadata": {},
     "output_type": "execute_result"
    }
   ],
   "source": [
    "# вызов функции для утра понедельника в Москве (вместо df — таблица moscow_general)\n",
    "genre_weekday(moscow_general, 'Monday', '07:00', '11:00')\n",
    "# объекты, хранящие время, являются строками и сравниваются как строки\n",
    "# пример вызова: genre_weekday(moscow_general, 'Monday', '07:00', '11:00')"
   ]
  },
  {
   "cell_type": "code",
   "execution_count": 39,
   "metadata": {
    "deletable": false,
    "id": "kwUcHPdy_Zcu"
   },
   "outputs": [
    {
     "data": {
      "text/plain": [
       "genre\n",
       "pop            218\n",
       "dance          182\n",
       "rock           162\n",
       "electronic     147\n",
       "hiphop          80\n",
       "ruspop          64\n",
       "alternative     58\n",
       "rusrap          55\n",
       "jazz            44\n",
       "classical       40\n",
       "Name: genre, dtype: int64"
      ]
     },
     "execution_count": 39,
     "metadata": {},
     "output_type": "execute_result"
    }
   ],
   "source": [
    "# вызов функции для утра понедельника в Петербурге (вместо df — таблица spb_general)\n",
    "genre_weekday(spb_general, 'Monday', '07:00', '11:00')"
   ]
  },
  {
   "cell_type": "code",
   "execution_count": 36,
   "metadata": {
    "deletable": false,
    "id": "EzXVRE1o_Zcu"
   },
   "outputs": [
    {
     "data": {
      "text/plain": [
       "genre\n",
       "pop            713\n",
       "rock           517\n",
       "dance          495\n",
       "electronic     482\n",
       "hiphop         273\n",
       "world          208\n",
       "ruspop         170\n",
       "alternative    163\n",
       "classical      163\n",
       "rusrap         142\n",
       "Name: genre, dtype: int64"
      ]
     },
     "execution_count": 36,
     "metadata": {},
     "output_type": "execute_result"
    }
   ],
   "source": [
    "# вызов функции для вечера пятницы в Москве\n",
    "genre_weekday(moscow_general, 'Friday', '17:00', '23:00')"
   ]
  },
  {
   "cell_type": "code",
   "execution_count": 37,
   "metadata": {
    "deletable": false,
    "id": "JZaEKu5v_Zcu"
   },
   "outputs": [
    {
     "data": {
      "text/plain": [
       "genre\n",
       "pop            256\n",
       "electronic     216\n",
       "rock           216\n",
       "dance          210\n",
       "hiphop          97\n",
       "alternative     63\n",
       "jazz            61\n",
       "classical       60\n",
       "rusrap          59\n",
       "world           54\n",
       "Name: genre, dtype: int64"
      ]
     },
     "execution_count": 37,
     "metadata": {},
     "output_type": "execute_result"
    }
   ],
   "source": [
    "# вызов функции для вечера пятницы в Петербурге\n",
    "genre_weekday(spb_general, 'Friday', '17:00', '23:00')"
   ]
  },
  {
   "cell_type": "markdown",
   "metadata": {
    "deletable": false,
    "editable": false,
    "id": "wrCe4MNX_Zcu"
   },
   "source": [
    "**Выводы**\n",
    "\n",
    "Если сравнить топ-10 жанров в понедельник утром, можно сделать такие выводы:\n",
    "\n",
    "1. В Москве и Петербурге слушают похожую музыку. Единственное отличие — в московский рейтинг вошёл жанр “world”, а в петербургский — джаз и классика.\n",
    "\n",
    "2. В Москве пропущенных значений оказалось так много, что значение `'unknown'` заняло десятое место среди самых популярных жанров. Значит, пропущенные значения занимают существенную долю в данных и угрожают достоверности исследования.\n",
    "\n",
    "Вечер пятницы не меняет эту картину. Некоторые жанры поднимаются немного выше, другие спускаются, но в целом топ-10 остаётся тем же самым.\n",
    "\n",
    "Таким образом, вторая гипотеза подтвердилась лишь частично:\n",
    "* Пользователи слушают похожую музыку в начале недели и в конце.\n",
    "* Разница между Москвой и Петербургом не слишком выражена. В Москве чаще слушают русскую популярную музыку, в Петербурге — джаз.\n",
    "\n",
    "Однако пропуски в данных ставят под сомнение этот результат. В Москве их так много, что рейтинг топ-10 мог бы выглядеть иначе, если бы не утерянные  данные о жанрах."
   ]
  },
  {
   "cell_type": "markdown",
   "metadata": {
    "deletable": false,
    "editable": false,
    "id": "JolODAqr_Zcu"
   },
   "source": [
    "### Жанровые предпочтения в Москве и Петербурге\n",
    "\n",
    "Гипотеза: Петербург — столица рэпа, музыку этого жанра там слушают чаще, чем в Москве.  А Москва — город контрастов, в котором, тем не менее, преобладает поп-музыка."
   ]
  },
  {
   "cell_type": "markdown",
   "metadata": {
    "deletable": false,
    "editable": false,
    "id": "DlegSvaT_Zcu",
    "tags": [
     "start_task"
    ]
   },
   "source": [
    "**Задание 26**\n",
    "\n",
    "Сгруппируйте таблицу `moscow_general` по жанру и посчитайте прослушивания треков каждого жанра методом `count()`. Затем отсортируйте результат в порядке убывания и сохраните его в таблице `moscow_genres`."
   ]
  },
  {
   "cell_type": "code",
   "execution_count": 40,
   "metadata": {
    "deletable": false,
    "id": "r19lIPke_Zcu"
   },
   "outputs": [],
   "source": [
    "# одной строкой: группировка таблицы moscow_general по столбцу 'genre',\n",
    "# подсчёт числа значений 'genre' в этой группировке методом count(), \n",
    "# сортировка получившегося Series в порядке убывания и сохранение в moscow_genres\n",
    "\n",
    "moscow_genres = moscow_general.groupby('genre')['genre'].count().sort_values(ascending=False)"
   ]
  },
  {
   "cell_type": "markdown",
   "metadata": {
    "deletable": false,
    "editable": false,
    "id": "6kMuomxTiIr8",
    "tags": [
     "start_task"
    ]
   },
   "source": [
    "**Задание 27**\n",
    "\n",
    "Выведите на экран первые десять строк `moscow_genres`:"
   ]
  },
  {
   "cell_type": "code",
   "execution_count": 42,
   "metadata": {
    "deletable": false,
    "id": "WhCSooF8_Zcv"
   },
   "outputs": [
    {
     "data": {
      "text/plain": [
       "genre\n",
       "pop            5892\n",
       "dance          4435\n",
       "rock           3965\n",
       "electronic     3786\n",
       "hiphop         2096\n",
       "classical      1616\n",
       "world          1432\n",
       "alternative    1379\n",
       "ruspop         1372\n",
       "rusrap         1161\n",
       "Name: genre, dtype: int64"
      ]
     },
     "execution_count": 42,
     "metadata": {},
     "output_type": "execute_result"
    }
   ],
   "source": [
    "# просмотр первых 10 строк moscow_genres\n",
    "moscow_genres.head(10)"
   ]
  },
  {
   "cell_type": "markdown",
   "metadata": {
    "deletable": false,
    "editable": false,
    "id": "cnPG2vnN_Zcv",
    "tags": [
     "start_task"
    ]
   },
   "source": [
    "**Задание 28**\n",
    "\n",
    "\n",
    "Теперь повторите то же и для Петербурга.\n",
    "\n",
    "Сгруппируйте таблицу `spb_general` по жанру. Посчитайте прослушивания треков каждого жанра. Результат отсортируйте в порядке убывания и сохраните в таблице `spb_genres`:\n"
   ]
  },
  {
   "cell_type": "code",
   "execution_count": 43,
   "metadata": {
    "deletable": false,
    "id": "gluLIpE7_Zcv"
   },
   "outputs": [],
   "source": [
    "# одной строкой: группировка таблицы spb_general по столбцу 'genre', \n",
    "# подсчёт числа значений 'genre' в этой группировке методом count(), \n",
    "# сортировка получившегося Series в порядке убывания и сохранение в spb_genres\n",
    "\n",
    "spb_genres = spb_general.groupby('genre')['genre'].count().sort_values(ascending=False)"
   ]
  },
  {
   "cell_type": "markdown",
   "metadata": {
    "deletable": false,
    "editable": false,
    "id": "5Doha_ODgyQ8",
    "tags": [
     "start_task"
    ]
   },
   "source": [
    "**Задание 29**\n",
    "\n",
    "Выведите на экран первые десять строк `spb_genres`:"
   ]
  },
  {
   "cell_type": "code",
   "execution_count": 44,
   "metadata": {
    "deletable": false,
    "id": "uaGJHjVU_Zcv"
   },
   "outputs": [
    {
     "data": {
      "text/plain": [
       "genre\n",
       "pop            2431\n",
       "dance          1932\n",
       "rock           1879\n",
       "electronic     1736\n",
       "hiphop          960\n",
       "alternative     649\n",
       "classical       646\n",
       "rusrap          564\n",
       "ruspop          538\n",
       "world           515\n",
       "Name: genre, dtype: int64"
      ]
     },
     "execution_count": 44,
     "metadata": {},
     "output_type": "execute_result"
    }
   ],
   "source": [
    "# просмотр первых 10 строк spb_genres\n",
    "spb_genres.head(10)"
   ]
  },
  {
   "cell_type": "markdown",
   "metadata": {
    "deletable": false,
    "editable": false,
    "id": "RY51YJYu_Zcv"
   },
   "source": [
    "**Выводы**"
   ]
  },
  {
   "cell_type": "markdown",
   "metadata": {
    "deletable": false,
    "editable": false,
    "id": "nVhnJEm__Zcv"
   },
   "source": [
    "Гипотеза частично подтвердилась:\n",
    "* Поп-музыка — самый популярный жанр в Москве, как и предполагала гипотеза. Более того, в топ-10 жанров встречается близкий жанр — русская популярная музыка.\n",
    "* Вопреки ожиданиям, рэп одинаково популярен в Москве и Петербурге. \n"
   ]
  },
  {
   "cell_type": "markdown",
   "metadata": {
    "deletable": false,
    "editable": false,
    "id": "ykKQ0N65_Zcv"
   },
   "source": [
    "## Итоги исследования"
   ]
  },
  {
   "cell_type": "markdown",
   "metadata": {
    "deletable": false,
    "editable": false,
    "id": "tjUwbHb3_Zcv"
   },
   "source": [
    "Вы проверили три гипотезы и установили:\n",
    "\n",
    "1. День недели по-разному влияет на активность пользователей в Москве и Петербурге. \n",
    "\n",
    "Первая гипотеза полностью подтвердилась.\n",
    "\n",
    "2. Музыкальные предпочтения не сильно меняются в течение недели — будь то Москва или Петербург. Небольшие различия заметны в начале недели, по понедельникам:\n",
    "* в Москве слушают музыку жанра “world”,\n",
    "* в Петербурге — джаз и классику.\n",
    "\n",
    "Таким образом, вторая гипотеза подтвердилась лишь отчасти. Этот результат мог оказаться иным, если бы не пропуски в данных.\n",
    "\n",
    "3. Во вкусах пользователей Москвы и Петербурга больше общего чем различий. Вопреки ожиданиям, предпочтения жанров в Петербурге напоминают московские.\n",
    "\n",
    "Третья гипотеза не подтвердилась. Если различия в предпочтениях и существуют, на основной массе пользователей они незаметны.\n",
    "\n",
    "**На практике исследования содержат проверки статистических гипотез.**\n",
    "Из данных одного сервиса не всегда можно сделать вывод о всех жителях города.\n",
    "Проверки статистических гипотез покажут, насколько они достоверны, исходя из имеющихся данных. \n",
    "С методами проверок гипотез вы ещё познакомитесь в следующих темах."
   ]
  }
 ],
 "metadata": {
  "ExecuteTimeLog": [
   {
    "duration": 44,
    "start_time": "2022-12-24T17:29:21.137Z"
   },
   {
    "duration": 378,
    "start_time": "2022-12-24T17:29:27.454Z"
   },
   {
    "duration": 430,
    "start_time": "2022-12-24T17:29:27.835Z"
   },
   {
    "duration": 16,
    "start_time": "2022-12-24T17:29:28.267Z"
   },
   {
    "duration": 36,
    "start_time": "2022-12-24T17:29:28.286Z"
   },
   {
    "duration": 3,
    "start_time": "2022-12-24T17:29:28.324Z"
   },
   {
    "duration": 13,
    "start_time": "2022-12-24T17:29:28.329Z"
   },
   {
    "duration": 15,
    "start_time": "2022-12-24T17:29:28.344Z"
   },
   {
    "duration": 6,
    "start_time": "2022-12-24T17:29:28.360Z"
   },
   {
    "duration": 6,
    "start_time": "2022-12-24T17:29:28.367Z"
   },
   {
    "duration": 4,
    "start_time": "2022-12-24T17:29:28.375Z"
   },
   {
    "duration": 5,
    "start_time": "2022-12-24T17:29:28.381Z"
   },
   {
    "duration": 11,
    "start_time": "2022-12-24T17:29:28.387Z"
   },
   {
    "duration": 13,
    "start_time": "2022-12-24T17:29:28.400Z"
   },
   {
    "duration": 5,
    "start_time": "2022-12-24T17:29:28.415Z"
   },
   {
    "duration": 16,
    "start_time": "2022-12-24T17:29:28.421Z"
   },
   {
    "duration": 9,
    "start_time": "2022-12-24T17:29:28.438Z"
   },
   {
    "duration": 6,
    "start_time": "2022-12-24T17:29:28.449Z"
   },
   {
    "duration": 4,
    "start_time": "2022-12-24T17:29:28.457Z"
   },
   {
    "duration": 5,
    "start_time": "2022-12-24T17:29:28.462Z"
   },
   {
    "duration": 7,
    "start_time": "2022-12-24T17:29:28.469Z"
   },
   {
    "duration": 7,
    "start_time": "2022-12-24T17:29:28.478Z"
   },
   {
    "duration": 5,
    "start_time": "2022-12-24T17:29:28.486Z"
   },
   {
    "duration": 5,
    "start_time": "2022-12-24T17:29:28.493Z"
   },
   {
    "duration": 5,
    "start_time": "2022-12-24T17:29:28.499Z"
   },
   {
    "duration": 7,
    "start_time": "2022-12-24T17:29:28.506Z"
   },
   {
    "duration": 5,
    "start_time": "2022-12-24T17:29:28.514Z"
   },
   {
    "duration": 5,
    "start_time": "2022-12-24T17:29:28.521Z"
   },
   {
    "duration": 4,
    "start_time": "2022-12-24T17:29:28.530Z"
   },
   {
    "duration": 17,
    "start_time": "2022-12-24T17:29:28.535Z"
   },
   {
    "duration": 73,
    "start_time": "2022-12-24T17:29:28.554Z"
   },
   {
    "duration": 0,
    "start_time": "2022-12-24T17:29:28.628Z"
   },
   {
    "duration": 0,
    "start_time": "2022-12-24T17:29:28.629Z"
   },
   {
    "duration": 0,
    "start_time": "2022-12-24T17:29:28.630Z"
   },
   {
    "duration": 0,
    "start_time": "2022-12-24T17:29:28.631Z"
   },
   {
    "duration": 0,
    "start_time": "2022-12-24T17:29:28.632Z"
   },
   {
    "duration": 0,
    "start_time": "2022-12-24T17:29:28.633Z"
   },
   {
    "duration": 0,
    "start_time": "2022-12-24T17:29:28.635Z"
   },
   {
    "duration": 0,
    "start_time": "2022-12-24T17:29:28.635Z"
   },
   {
    "duration": 32,
    "start_time": "2022-12-24T17:33:42.370Z"
   },
   {
    "duration": 21,
    "start_time": "2022-12-24T17:34:03.932Z"
   },
   {
    "duration": 4,
    "start_time": "2022-12-24T17:34:22.235Z"
   },
   {
    "duration": 12,
    "start_time": "2022-12-24T17:34:32.124Z"
   },
   {
    "duration": 4,
    "start_time": "2022-12-24T17:34:35.571Z"
   },
   {
    "duration": 13,
    "start_time": "2022-12-24T17:36:06.641Z"
   },
   {
    "duration": 5,
    "start_time": "2022-12-24T17:36:19.372Z"
   },
   {
    "duration": 12,
    "start_time": "2022-12-24T17:36:27.973Z"
   },
   {
    "duration": 4,
    "start_time": "2022-12-24T17:36:30.004Z"
   },
   {
    "duration": 12,
    "start_time": "2022-12-24T17:36:47.252Z"
   },
   {
    "duration": 12,
    "start_time": "2022-12-24T17:36:51.325Z"
   },
   {
    "duration": 8,
    "start_time": "2022-12-24T17:37:08.267Z"
   },
   {
    "duration": 3,
    "start_time": "2022-12-24T17:37:09.484Z"
   },
   {
    "duration": 27,
    "start_time": "2022-12-24T17:38:25.555Z"
   },
   {
    "duration": 23,
    "start_time": "2022-12-24T17:38:37.553Z"
   },
   {
    "duration": 8,
    "start_time": "2022-12-24T17:42:49.289Z"
   },
   {
    "duration": 7,
    "start_time": "2022-12-24T17:44:32.756Z"
   },
   {
    "duration": 25,
    "start_time": "2022-12-24T17:44:46.252Z"
   },
   {
    "duration": 33,
    "start_time": "2022-12-24T17:44:56.979Z"
   },
   {
    "duration": 32,
    "start_time": "2022-12-24T17:45:15.655Z"
   },
   {
    "duration": 38,
    "start_time": "2022-12-24T17:45:23.395Z"
   },
   {
    "duration": 27,
    "start_time": "2022-12-24T17:45:49.163Z"
   },
   {
    "duration": 58,
    "start_time": "2022-12-24T17:46:46.618Z"
   },
   {
    "duration": 61,
    "start_time": "2022-12-24T17:46:57.738Z"
   },
   {
    "duration": 65,
    "start_time": "2022-12-24T17:47:46.786Z"
   },
   {
    "duration": 28,
    "start_time": "2022-12-24T18:53:37.942Z"
   },
   {
    "duration": 71,
    "start_time": "2022-12-24T18:54:40.306Z"
   },
   {
    "duration": 60,
    "start_time": "2022-12-24T19:07:15.054Z"
   },
   {
    "duration": 81,
    "start_time": "2022-12-24T19:08:01.985Z"
   },
   {
    "duration": 87,
    "start_time": "2022-12-24T19:08:08.049Z"
   },
   {
    "duration": 85,
    "start_time": "2022-12-24T19:08:42.216Z"
   },
   {
    "duration": 344,
    "start_time": "2022-12-25T17:08:30.470Z"
   },
   {
    "duration": 225,
    "start_time": "2022-12-25T17:08:30.816Z"
   },
   {
    "duration": 15,
    "start_time": "2022-12-25T17:08:31.043Z"
   },
   {
    "duration": 34,
    "start_time": "2022-12-25T17:08:31.060Z"
   },
   {
    "duration": 10,
    "start_time": "2022-12-25T17:08:31.096Z"
   },
   {
    "duration": 27,
    "start_time": "2022-12-25T17:08:31.108Z"
   },
   {
    "duration": 25,
    "start_time": "2022-12-25T17:08:31.136Z"
   },
   {
    "duration": 23,
    "start_time": "2022-12-25T17:08:31.163Z"
   },
   {
    "duration": 34,
    "start_time": "2022-12-25T17:08:31.188Z"
   },
   {
    "duration": 61,
    "start_time": "2022-12-25T17:08:31.225Z"
   },
   {
    "duration": 34,
    "start_time": "2022-12-25T17:08:31.288Z"
   },
   {
    "duration": 70,
    "start_time": "2022-12-25T17:08:31.323Z"
   },
   {
    "duration": 2,
    "start_time": "2022-12-25T17:08:31.395Z"
   },
   {
    "duration": 21,
    "start_time": "2022-12-25T17:08:31.399Z"
   },
   {
    "duration": 23,
    "start_time": "2022-12-25T17:08:31.423Z"
   },
   {
    "duration": 18,
    "start_time": "2022-12-25T17:08:31.448Z"
   },
   {
    "duration": 17,
    "start_time": "2022-12-25T17:08:31.467Z"
   },
   {
    "duration": 24,
    "start_time": "2022-12-25T17:08:31.485Z"
   },
   {
    "duration": 25,
    "start_time": "2022-12-25T17:08:31.510Z"
   },
   {
    "duration": 17,
    "start_time": "2022-12-25T17:08:31.537Z"
   },
   {
    "duration": 15,
    "start_time": "2022-12-25T17:08:31.556Z"
   },
   {
    "duration": 13,
    "start_time": "2022-12-25T17:08:31.573Z"
   },
   {
    "duration": 7,
    "start_time": "2022-12-25T17:08:31.587Z"
   },
   {
    "duration": 20,
    "start_time": "2022-12-25T17:08:31.596Z"
   },
   {
    "duration": 19,
    "start_time": "2022-12-25T17:08:31.618Z"
   },
   {
    "duration": 13,
    "start_time": "2022-12-25T17:08:31.638Z"
   },
   {
    "duration": 7,
    "start_time": "2022-12-25T17:08:31.652Z"
   },
   {
    "duration": 11,
    "start_time": "2022-12-25T17:08:31.661Z"
   },
   {
    "duration": 6,
    "start_time": "2022-12-25T17:08:31.674Z"
   },
   {
    "duration": 55,
    "start_time": "2022-12-25T17:08:31.681Z"
   },
   {
    "duration": 0,
    "start_time": "2022-12-25T17:08:31.738Z"
   },
   {
    "duration": 0,
    "start_time": "2022-12-25T17:08:31.739Z"
   },
   {
    "duration": 0,
    "start_time": "2022-12-25T17:08:31.740Z"
   },
   {
    "duration": 0,
    "start_time": "2022-12-25T17:08:31.741Z"
   },
   {
    "duration": 0,
    "start_time": "2022-12-25T17:08:31.742Z"
   },
   {
    "duration": 0,
    "start_time": "2022-12-25T17:08:31.743Z"
   },
   {
    "duration": 0,
    "start_time": "2022-12-25T17:08:31.744Z"
   },
   {
    "duration": 0,
    "start_time": "2022-12-25T17:08:31.745Z"
   },
   {
    "duration": 64,
    "start_time": "2022-12-25T17:10:48.481Z"
   },
   {
    "duration": 57,
    "start_time": "2022-12-25T17:11:07.321Z"
   },
   {
    "duration": 66,
    "start_time": "2022-12-25T17:11:18.713Z"
   },
   {
    "duration": 57,
    "start_time": "2022-12-25T17:11:29.425Z"
   },
   {
    "duration": 57,
    "start_time": "2022-12-25T17:11:56.690Z"
   },
   {
    "duration": 52,
    "start_time": "2022-12-25T17:12:13.407Z"
   },
   {
    "duration": 101,
    "start_time": "2022-12-25T17:20:26.241Z"
   },
   {
    "duration": 55,
    "start_time": "2022-12-25T17:24:53.650Z"
   },
   {
    "duration": 37,
    "start_time": "2022-12-25T17:25:16.866Z"
   },
   {
    "duration": 9,
    "start_time": "2022-12-25T17:29:13.337Z"
   },
   {
    "duration": 38,
    "start_time": "2022-12-25T17:29:28.297Z"
   },
   {
    "duration": 12,
    "start_time": "2022-12-25T17:35:12.448Z"
   },
   {
    "duration": 10,
    "start_time": "2022-12-25T17:35:23.235Z"
   },
   {
    "duration": 7,
    "start_time": "2022-12-25T17:35:29.601Z"
   },
   {
    "duration": 2,
    "start_time": "2022-12-25T17:35:56.301Z"
   },
   {
    "duration": 156,
    "start_time": "2022-12-25T17:35:56.305Z"
   },
   {
    "duration": 9,
    "start_time": "2022-12-25T17:35:56.463Z"
   },
   {
    "duration": 35,
    "start_time": "2022-12-25T17:35:56.473Z"
   },
   {
    "duration": 11,
    "start_time": "2022-12-25T17:35:56.510Z"
   },
   {
    "duration": 5,
    "start_time": "2022-12-25T17:35:56.522Z"
   },
   {
    "duration": 8,
    "start_time": "2022-12-25T17:35:56.528Z"
   },
   {
    "duration": 4,
    "start_time": "2022-12-25T17:35:56.537Z"
   },
   {
    "duration": 34,
    "start_time": "2022-12-25T17:35:56.543Z"
   },
   {
    "duration": 80,
    "start_time": "2022-12-25T17:35:56.578Z"
   },
   {
    "duration": 22,
    "start_time": "2022-12-25T17:35:56.660Z"
   },
   {
    "duration": 72,
    "start_time": "2022-12-25T17:35:56.683Z"
   },
   {
    "duration": 67,
    "start_time": "2022-12-25T17:35:56.757Z"
   },
   {
    "duration": 54,
    "start_time": "2022-12-25T17:35:56.826Z"
   },
   {
    "duration": 52,
    "start_time": "2022-12-25T17:35:56.881Z"
   },
   {
    "duration": 9,
    "start_time": "2022-12-25T17:35:56.934Z"
   },
   {
    "duration": 38,
    "start_time": "2022-12-25T17:35:56.945Z"
   },
   {
    "duration": 12,
    "start_time": "2022-12-25T17:35:56.984Z"
   },
   {
    "duration": 24,
    "start_time": "2022-12-25T17:35:56.998Z"
   },
   {
    "duration": 5,
    "start_time": "2022-12-25T17:35:57.024Z"
   },
   {
    "duration": 10,
    "start_time": "2022-12-25T17:35:57.030Z"
   },
   {
    "duration": 10,
    "start_time": "2022-12-25T17:35:57.042Z"
   },
   {
    "duration": 9,
    "start_time": "2022-12-25T17:35:57.053Z"
   },
   {
    "duration": 3,
    "start_time": "2022-12-25T17:35:57.065Z"
   },
   {
    "duration": 6,
    "start_time": "2022-12-25T17:35:57.069Z"
   },
   {
    "duration": 8,
    "start_time": "2022-12-25T17:35:57.076Z"
   },
   {
    "duration": 4,
    "start_time": "2022-12-25T17:35:57.086Z"
   },
   {
    "duration": 10,
    "start_time": "2022-12-25T17:35:57.091Z"
   },
   {
    "duration": 6,
    "start_time": "2022-12-25T17:35:57.103Z"
   },
   {
    "duration": 45,
    "start_time": "2022-12-25T17:35:57.110Z"
   },
   {
    "duration": 0,
    "start_time": "2022-12-25T17:35:57.157Z"
   },
   {
    "duration": 0,
    "start_time": "2022-12-25T17:35:57.158Z"
   },
   {
    "duration": 0,
    "start_time": "2022-12-25T17:35:57.159Z"
   },
   {
    "duration": 0,
    "start_time": "2022-12-25T17:35:57.160Z"
   },
   {
    "duration": 0,
    "start_time": "2022-12-25T17:35:57.161Z"
   },
   {
    "duration": 0,
    "start_time": "2022-12-25T17:35:57.163Z"
   },
   {
    "duration": 0,
    "start_time": "2022-12-25T17:35:57.164Z"
   },
   {
    "duration": 0,
    "start_time": "2022-12-25T17:35:57.165Z"
   },
   {
    "duration": 31,
    "start_time": "2022-12-25T17:36:29.321Z"
   },
   {
    "duration": 13,
    "start_time": "2022-12-25T17:36:55.908Z"
   },
   {
    "duration": 3,
    "start_time": "2022-12-25T17:39:23.914Z"
   },
   {
    "duration": 30,
    "start_time": "2022-12-25T17:39:40.040Z"
   },
   {
    "duration": 12,
    "start_time": "2022-12-25T17:39:56.155Z"
   },
   {
    "duration": 32,
    "start_time": "2022-12-25T17:40:04.993Z"
   },
   {
    "duration": 6,
    "start_time": "2022-12-25T17:40:28.121Z"
   },
   {
    "duration": 12,
    "start_time": "2022-12-25T17:40:32.009Z"
   },
   {
    "duration": 3,
    "start_time": "2022-12-25T17:46:50.123Z"
   },
   {
    "duration": 4,
    "start_time": "2022-12-25T17:46:57.805Z"
   },
   {
    "duration": 189,
    "start_time": "2022-12-25T17:50:02.400Z"
   },
   {
    "duration": 4,
    "start_time": "2022-12-25T17:50:07.473Z"
   },
   {
    "duration": 55,
    "start_time": "2022-12-25T17:50:55.489Z"
   },
   {
    "duration": 3,
    "start_time": "2022-12-25T17:51:03.893Z"
   },
   {
    "duration": 3,
    "start_time": "2022-12-25T17:51:37.590Z"
   },
   {
    "duration": 42,
    "start_time": "2022-12-25T18:00:54.833Z"
   },
   {
    "duration": 364,
    "start_time": "2022-12-25T18:00:59.148Z"
   },
   {
    "duration": 401,
    "start_time": "2022-12-25T18:00:59.514Z"
   },
   {
    "duration": 15,
    "start_time": "2022-12-25T18:00:59.916Z"
   },
   {
    "duration": 25,
    "start_time": "2022-12-25T18:00:59.933Z"
   },
   {
    "duration": 2,
    "start_time": "2022-12-25T18:00:59.960Z"
   },
   {
    "duration": 8,
    "start_time": "2022-12-25T18:00:59.963Z"
   },
   {
    "duration": 13,
    "start_time": "2022-12-25T18:00:59.972Z"
   },
   {
    "duration": 9,
    "start_time": "2022-12-25T18:00:59.986Z"
   },
   {
    "duration": 30,
    "start_time": "2022-12-25T18:00:59.997Z"
   },
   {
    "duration": 65,
    "start_time": "2022-12-25T18:01:00.030Z"
   },
   {
    "duration": 20,
    "start_time": "2022-12-25T18:01:00.097Z"
   },
   {
    "duration": 90,
    "start_time": "2022-12-25T18:01:00.118Z"
   },
   {
    "duration": 57,
    "start_time": "2022-12-25T18:01:00.209Z"
   },
   {
    "duration": 50,
    "start_time": "2022-12-25T18:01:00.267Z"
   },
   {
    "duration": 37,
    "start_time": "2022-12-25T18:01:00.319Z"
   },
   {
    "duration": 49,
    "start_time": "2022-12-25T18:01:00.358Z"
   },
   {
    "duration": 56,
    "start_time": "2022-12-25T18:01:00.408Z"
   },
   {
    "duration": 31,
    "start_time": "2022-12-25T18:01:00.466Z"
   },
   {
    "duration": 34,
    "start_time": "2022-12-25T18:01:00.498Z"
   },
   {
    "duration": 62,
    "start_time": "2022-12-25T18:01:00.533Z"
   },
   {
    "duration": 0,
    "start_time": "2022-12-25T18:01:00.597Z"
   },
   {
    "duration": 0,
    "start_time": "2022-12-25T18:01:00.598Z"
   },
   {
    "duration": 1,
    "start_time": "2022-12-25T18:01:00.599Z"
   },
   {
    "duration": 0,
    "start_time": "2022-12-25T18:01:00.601Z"
   },
   {
    "duration": 0,
    "start_time": "2022-12-25T18:01:00.602Z"
   },
   {
    "duration": 0,
    "start_time": "2022-12-25T18:01:00.603Z"
   },
   {
    "duration": 0,
    "start_time": "2022-12-25T18:01:00.604Z"
   },
   {
    "duration": 0,
    "start_time": "2022-12-25T18:01:00.605Z"
   },
   {
    "duration": 1,
    "start_time": "2022-12-25T18:01:00.605Z"
   },
   {
    "duration": 0,
    "start_time": "2022-12-25T18:01:00.607Z"
   },
   {
    "duration": 0,
    "start_time": "2022-12-25T18:01:00.608Z"
   },
   {
    "duration": 0,
    "start_time": "2022-12-25T18:01:00.609Z"
   },
   {
    "duration": 0,
    "start_time": "2022-12-25T18:01:00.610Z"
   },
   {
    "duration": 0,
    "start_time": "2022-12-25T18:01:00.611Z"
   },
   {
    "duration": 0,
    "start_time": "2022-12-25T18:01:00.612Z"
   },
   {
    "duration": 0,
    "start_time": "2022-12-25T18:01:00.613Z"
   },
   {
    "duration": 0,
    "start_time": "2022-12-25T18:01:00.614Z"
   },
   {
    "duration": 0,
    "start_time": "2022-12-25T18:01:00.615Z"
   },
   {
    "duration": 6,
    "start_time": "2022-12-25T18:01:13.377Z"
   },
   {
    "duration": 39,
    "start_time": "2022-12-25T18:01:55.292Z"
   },
   {
    "duration": 11,
    "start_time": "2022-12-25T18:02:06.209Z"
   },
   {
    "duration": 9,
    "start_time": "2022-12-25T18:02:20.408Z"
   },
   {
    "duration": 11,
    "start_time": "2022-12-25T18:02:24.888Z"
   },
   {
    "duration": 12,
    "start_time": "2022-12-25T18:03:36.902Z"
   },
   {
    "duration": 3,
    "start_time": "2022-12-25T18:04:24.168Z"
   },
   {
    "duration": 3,
    "start_time": "2022-12-25T18:08:01.325Z"
   },
   {
    "duration": 4,
    "start_time": "2022-12-25T18:10:11.774Z"
   },
   {
    "duration": 4,
    "start_time": "2022-12-25T18:12:41.623Z"
   },
   {
    "duration": 8,
    "start_time": "2022-12-25T18:15:57.172Z"
   },
   {
    "duration": 3,
    "start_time": "2022-12-25T18:16:17.237Z"
   },
   {
    "duration": 8,
    "start_time": "2022-12-25T18:16:19.741Z"
   },
   {
    "duration": 3,
    "start_time": "2022-12-25T18:16:26.861Z"
   },
   {
    "duration": 9,
    "start_time": "2022-12-25T18:16:28.556Z"
   },
   {
    "duration": 3,
    "start_time": "2022-12-25T18:18:22.532Z"
   },
   {
    "duration": 59,
    "start_time": "2022-12-25T18:18:23.988Z"
   },
   {
    "duration": 3,
    "start_time": "2022-12-25T18:19:03.325Z"
   },
   {
    "duration": 26,
    "start_time": "2022-12-25T18:19:05.508Z"
   },
   {
    "duration": 4,
    "start_time": "2022-12-25T18:19:40.780Z"
   },
   {
    "duration": 265,
    "start_time": "2022-12-25T18:19:42.876Z"
   },
   {
    "duration": 3,
    "start_time": "2022-12-25T18:20:22.588Z"
   },
   {
    "duration": 21,
    "start_time": "2022-12-25T18:20:23.506Z"
   },
   {
    "duration": 11,
    "start_time": "2022-12-25T18:29:49.400Z"
   },
   {
    "duration": 51,
    "start_time": "2022-12-25T18:29:52.169Z"
   },
   {
    "duration": 422,
    "start_time": "2022-12-25T18:29:58.661Z"
   },
   {
    "duration": 458,
    "start_time": "2022-12-25T18:29:59.085Z"
   },
   {
    "duration": 17,
    "start_time": "2022-12-25T18:29:59.545Z"
   },
   {
    "duration": 40,
    "start_time": "2022-12-25T18:29:59.565Z"
   },
   {
    "duration": 16,
    "start_time": "2022-12-25T18:29:59.607Z"
   },
   {
    "duration": 11,
    "start_time": "2022-12-25T18:29:59.625Z"
   },
   {
    "duration": 18,
    "start_time": "2022-12-25T18:29:59.638Z"
   },
   {
    "duration": 11,
    "start_time": "2022-12-25T18:29:59.658Z"
   },
   {
    "duration": 59,
    "start_time": "2022-12-25T18:29:59.671Z"
   },
   {
    "duration": 86,
    "start_time": "2022-12-25T18:29:59.734Z"
   },
   {
    "duration": 34,
    "start_time": "2022-12-25T18:29:59.823Z"
   },
   {
    "duration": 109,
    "start_time": "2022-12-25T18:29:59.859Z"
   },
   {
    "duration": 81,
    "start_time": "2022-12-25T18:29:59.970Z"
   },
   {
    "duration": 66,
    "start_time": "2022-12-25T18:30:00.053Z"
   },
   {
    "duration": 65,
    "start_time": "2022-12-25T18:30:00.120Z"
   },
   {
    "duration": 12,
    "start_time": "2022-12-25T18:30:00.187Z"
   },
   {
    "duration": 66,
    "start_time": "2022-12-25T18:30:00.201Z"
   },
   {
    "duration": 13,
    "start_time": "2022-12-25T18:30:00.269Z"
   },
   {
    "duration": 17,
    "start_time": "2022-12-25T18:30:00.284Z"
   },
   {
    "duration": 4,
    "start_time": "2022-12-25T18:30:00.303Z"
   },
   {
    "duration": 51,
    "start_time": "2022-12-25T18:30:00.309Z"
   },
   {
    "duration": 3,
    "start_time": "2022-12-25T18:30:00.362Z"
   },
   {
    "duration": 23,
    "start_time": "2022-12-25T18:30:00.366Z"
   },
   {
    "duration": 18,
    "start_time": "2022-12-25T18:30:00.390Z"
   },
   {
    "duration": 22,
    "start_time": "2022-12-25T18:30:00.410Z"
   },
   {
    "duration": 36,
    "start_time": "2022-12-25T18:30:00.434Z"
   },
   {
    "duration": 6,
    "start_time": "2022-12-25T18:30:00.472Z"
   },
   {
    "duration": 7,
    "start_time": "2022-12-25T18:30:00.481Z"
   },
   {
    "duration": 11,
    "start_time": "2022-12-25T18:30:00.489Z"
   },
   {
    "duration": 73,
    "start_time": "2022-12-25T18:30:00.502Z"
   },
   {
    "duration": 0,
    "start_time": "2022-12-25T18:30:00.577Z"
   },
   {
    "duration": 0,
    "start_time": "2022-12-25T18:30:00.579Z"
   },
   {
    "duration": 0,
    "start_time": "2022-12-25T18:30:00.580Z"
   },
   {
    "duration": 0,
    "start_time": "2022-12-25T18:30:00.581Z"
   },
   {
    "duration": 0,
    "start_time": "2022-12-25T18:30:00.583Z"
   },
   {
    "duration": 0,
    "start_time": "2022-12-25T18:30:00.584Z"
   },
   {
    "duration": 0,
    "start_time": "2022-12-25T18:30:00.586Z"
   },
   {
    "duration": 0,
    "start_time": "2022-12-25T18:30:00.587Z"
   },
   {
    "duration": 419,
    "start_time": "2022-12-25T18:37:34.261Z"
   },
   {
    "duration": 240,
    "start_time": "2022-12-25T18:37:34.683Z"
   },
   {
    "duration": 17,
    "start_time": "2022-12-25T18:37:34.925Z"
   },
   {
    "duration": 32,
    "start_time": "2022-12-25T18:37:34.944Z"
   },
   {
    "duration": 2,
    "start_time": "2022-12-25T18:37:34.980Z"
   },
   {
    "duration": 10,
    "start_time": "2022-12-25T18:37:34.984Z"
   },
   {
    "duration": 17,
    "start_time": "2022-12-25T18:37:34.996Z"
   },
   {
    "duration": 9,
    "start_time": "2022-12-25T18:37:35.014Z"
   },
   {
    "duration": 27,
    "start_time": "2022-12-25T18:37:35.025Z"
   },
   {
    "duration": 60,
    "start_time": "2022-12-25T18:37:35.078Z"
   },
   {
    "duration": 43,
    "start_time": "2022-12-25T18:37:35.140Z"
   },
   {
    "duration": 68,
    "start_time": "2022-12-25T18:37:35.185Z"
   },
   {
    "duration": 80,
    "start_time": "2022-12-25T18:37:35.255Z"
   },
   {
    "duration": 86,
    "start_time": "2022-12-25T18:37:35.338Z"
   },
   {
    "duration": 37,
    "start_time": "2022-12-25T18:37:35.426Z"
   },
   {
    "duration": 20,
    "start_time": "2022-12-25T18:37:35.465Z"
   },
   {
    "duration": 39,
    "start_time": "2022-12-25T18:37:35.487Z"
   },
   {
    "duration": 13,
    "start_time": "2022-12-25T18:37:35.527Z"
   },
   {
    "duration": 42,
    "start_time": "2022-12-25T18:37:35.542Z"
   },
   {
    "duration": 3,
    "start_time": "2022-12-25T18:37:35.586Z"
   },
   {
    "duration": 34,
    "start_time": "2022-12-25T18:37:35.591Z"
   },
   {
    "duration": 3,
    "start_time": "2022-12-25T18:37:35.626Z"
   },
   {
    "duration": 8,
    "start_time": "2022-12-25T18:37:35.630Z"
   },
   {
    "duration": 4,
    "start_time": "2022-12-25T18:37:35.640Z"
   },
   {
    "duration": 14,
    "start_time": "2022-12-25T18:37:35.646Z"
   },
   {
    "duration": 8,
    "start_time": "2022-12-25T18:37:35.678Z"
   },
   {
    "duration": 5,
    "start_time": "2022-12-25T18:37:35.688Z"
   },
   {
    "duration": 6,
    "start_time": "2022-12-25T18:37:35.695Z"
   },
   {
    "duration": 4,
    "start_time": "2022-12-25T18:37:35.703Z"
   },
   {
    "duration": 46,
    "start_time": "2022-12-25T18:37:35.709Z"
   },
   {
    "duration": 0,
    "start_time": "2022-12-25T18:37:35.758Z"
   },
   {
    "duration": 0,
    "start_time": "2022-12-25T18:37:35.760Z"
   },
   {
    "duration": 0,
    "start_time": "2022-12-25T18:37:35.762Z"
   },
   {
    "duration": 0,
    "start_time": "2022-12-25T18:37:35.763Z"
   },
   {
    "duration": 0,
    "start_time": "2022-12-25T18:37:35.765Z"
   },
   {
    "duration": 0,
    "start_time": "2022-12-25T18:37:35.766Z"
   },
   {
    "duration": 0,
    "start_time": "2022-12-25T18:37:35.768Z"
   },
   {
    "duration": 0,
    "start_time": "2022-12-25T18:37:35.769Z"
   },
   {
    "duration": 4,
    "start_time": "2022-12-25T18:37:42.343Z"
   },
   {
    "duration": 23,
    "start_time": "2022-12-25T18:37:44.063Z"
   },
   {
    "duration": 4,
    "start_time": "2022-12-25T18:38:09.535Z"
   },
   {
    "duration": 90,
    "start_time": "2022-12-25T18:38:11.592Z"
   },
   {
    "duration": 4,
    "start_time": "2022-12-25T18:38:44.944Z"
   },
   {
    "duration": 24,
    "start_time": "2022-12-25T18:38:46.333Z"
   },
   {
    "duration": 30,
    "start_time": "2022-12-25T18:39:30.687Z"
   },
   {
    "duration": 76,
    "start_time": "2022-12-25T18:41:23.882Z"
   },
   {
    "duration": 3,
    "start_time": "2022-12-25T19:07:17.473Z"
   },
   {
    "duration": 262,
    "start_time": "2022-12-25T19:07:17.479Z"
   },
   {
    "duration": 12,
    "start_time": "2022-12-25T19:07:17.743Z"
   },
   {
    "duration": 50,
    "start_time": "2022-12-25T19:07:17.758Z"
   },
   {
    "duration": 2,
    "start_time": "2022-12-25T19:07:17.810Z"
   },
   {
    "duration": 14,
    "start_time": "2022-12-25T19:07:17.815Z"
   },
   {
    "duration": 11,
    "start_time": "2022-12-25T19:07:17.832Z"
   },
   {
    "duration": 5,
    "start_time": "2022-12-25T19:07:17.845Z"
   },
   {
    "duration": 37,
    "start_time": "2022-12-25T19:07:17.877Z"
   },
   {
    "duration": 89,
    "start_time": "2022-12-25T19:07:17.916Z"
   },
   {
    "duration": 26,
    "start_time": "2022-12-25T19:07:18.007Z"
   },
   {
    "duration": 102,
    "start_time": "2022-12-25T19:07:18.035Z"
   },
   {
    "duration": 96,
    "start_time": "2022-12-25T19:07:18.139Z"
   },
   {
    "duration": 109,
    "start_time": "2022-12-25T19:07:18.238Z"
   },
   {
    "duration": 60,
    "start_time": "2022-12-25T19:07:18.349Z"
   },
   {
    "duration": 13,
    "start_time": "2022-12-25T19:07:18.411Z"
   },
   {
    "duration": 71,
    "start_time": "2022-12-25T19:07:18.425Z"
   },
   {
    "duration": 16,
    "start_time": "2022-12-25T19:07:18.498Z"
   },
   {
    "duration": 40,
    "start_time": "2022-12-25T19:07:18.516Z"
   },
   {
    "duration": 32,
    "start_time": "2022-12-25T19:07:18.559Z"
   },
   {
    "duration": 0,
    "start_time": "2022-12-25T19:07:18.594Z"
   },
   {
    "duration": 0,
    "start_time": "2022-12-25T19:07:18.596Z"
   },
   {
    "duration": 0,
    "start_time": "2022-12-25T19:07:18.597Z"
   },
   {
    "duration": 0,
    "start_time": "2022-12-25T19:07:18.599Z"
   },
   {
    "duration": 0,
    "start_time": "2022-12-25T19:07:18.600Z"
   },
   {
    "duration": 0,
    "start_time": "2022-12-25T19:07:18.602Z"
   },
   {
    "duration": 1,
    "start_time": "2022-12-25T19:07:18.603Z"
   },
   {
    "duration": 0,
    "start_time": "2022-12-25T19:07:18.605Z"
   },
   {
    "duration": 0,
    "start_time": "2022-12-25T19:07:18.607Z"
   },
   {
    "duration": 0,
    "start_time": "2022-12-25T19:07:18.608Z"
   },
   {
    "duration": 0,
    "start_time": "2022-12-25T19:07:18.609Z"
   },
   {
    "duration": 0,
    "start_time": "2022-12-25T19:07:18.610Z"
   },
   {
    "duration": 0,
    "start_time": "2022-12-25T19:07:18.611Z"
   },
   {
    "duration": 0,
    "start_time": "2022-12-25T19:07:18.613Z"
   },
   {
    "duration": 0,
    "start_time": "2022-12-25T19:07:18.614Z"
   },
   {
    "duration": 0,
    "start_time": "2022-12-25T19:07:18.615Z"
   },
   {
    "duration": 0,
    "start_time": "2022-12-25T19:07:18.616Z"
   },
   {
    "duration": 0,
    "start_time": "2022-12-25T19:07:18.617Z"
   },
   {
    "duration": 6,
    "start_time": "2022-12-25T19:07:40.088Z"
   },
   {
    "duration": 13,
    "start_time": "2022-12-25T19:07:42.590Z"
   },
   {
    "duration": 26,
    "start_time": "2022-12-25T19:07:57.224Z"
   },
   {
    "duration": 25,
    "start_time": "2022-12-25T19:12:15.758Z"
   },
   {
    "duration": 56,
    "start_time": "2022-12-25T19:12:54.984Z"
   },
   {
    "duration": 35,
    "start_time": "2022-12-25T19:13:07.290Z"
   },
   {
    "duration": 11,
    "start_time": "2022-12-25T19:13:26.926Z"
   },
   {
    "duration": 17,
    "start_time": "2022-12-25T19:13:51.279Z"
   },
   {
    "duration": 4,
    "start_time": "2022-12-25T19:14:37.552Z"
   },
   {
    "duration": 37,
    "start_time": "2022-12-25T19:14:42.740Z"
   },
   {
    "duration": 4,
    "start_time": "2022-12-25T19:15:44.565Z"
   },
   {
    "duration": 27,
    "start_time": "2022-12-25T19:15:45.542Z"
   },
   {
    "duration": 4,
    "start_time": "2022-12-25T19:16:07.429Z"
   },
   {
    "duration": 25,
    "start_time": "2022-12-25T19:16:09.949Z"
   },
   {
    "duration": 4,
    "start_time": "2022-12-25T19:16:23.949Z"
   },
   {
    "duration": 26,
    "start_time": "2022-12-25T19:16:25.007Z"
   },
   {
    "duration": 4,
    "start_time": "2022-12-25T19:17:17.985Z"
   },
   {
    "duration": 22,
    "start_time": "2022-12-25T19:17:21.004Z"
   },
   {
    "duration": 28,
    "start_time": "2022-12-25T19:22:11.773Z"
   },
   {
    "duration": 18,
    "start_time": "2022-12-25T19:31:49.190Z"
   },
   {
    "duration": 16,
    "start_time": "2022-12-25T19:31:50.064Z"
   },
   {
    "duration": 16,
    "start_time": "2022-12-25T19:31:50.634Z"
   },
   {
    "duration": 15,
    "start_time": "2022-12-25T19:31:51.087Z"
   },
   {
    "duration": 19,
    "start_time": "2022-12-25T19:31:51.506Z"
   },
   {
    "duration": 16,
    "start_time": "2022-12-25T19:31:52.418Z"
   },
   {
    "duration": 4,
    "start_time": "2022-12-25T19:35:45.373Z"
   },
   {
    "duration": 9,
    "start_time": "2022-12-25T19:36:00.304Z"
   },
   {
    "duration": 9,
    "start_time": "2022-12-25T19:44:35.343Z"
   },
   {
    "duration": 13,
    "start_time": "2022-12-25T19:44:36.552Z"
   },
   {
    "duration": 10,
    "start_time": "2022-12-25T19:45:09.639Z"
   },
   {
    "duration": 12,
    "start_time": "2022-12-25T19:45:10.048Z"
   },
   {
    "duration": 7,
    "start_time": "2022-12-25T19:59:49.264Z"
   },
   {
    "duration": 12,
    "start_time": "2022-12-25T19:59:49.848Z"
   },
   {
    "duration": 27,
    "start_time": "2022-12-25T20:00:18.865Z"
   },
   {
    "duration": 23,
    "start_time": "2022-12-25T20:00:33.657Z"
   },
   {
    "duration": 3,
    "start_time": "2022-12-25T20:01:03.990Z"
   },
   {
    "duration": 174,
    "start_time": "2022-12-25T20:01:03.996Z"
   },
   {
    "duration": 13,
    "start_time": "2022-12-25T20:01:04.172Z"
   },
   {
    "duration": 54,
    "start_time": "2022-12-25T20:01:04.187Z"
   },
   {
    "duration": 5,
    "start_time": "2022-12-25T20:01:04.244Z"
   },
   {
    "duration": 21,
    "start_time": "2022-12-25T20:01:04.251Z"
   },
   {
    "duration": 19,
    "start_time": "2022-12-25T20:01:04.273Z"
   },
   {
    "duration": 5,
    "start_time": "2022-12-25T20:01:04.293Z"
   },
   {
    "duration": 26,
    "start_time": "2022-12-25T20:01:04.300Z"
   },
   {
    "duration": 81,
    "start_time": "2022-12-25T20:01:04.328Z"
   },
   {
    "duration": 25,
    "start_time": "2022-12-25T20:01:04.411Z"
   },
   {
    "duration": 109,
    "start_time": "2022-12-25T20:01:04.438Z"
   },
   {
    "duration": 78,
    "start_time": "2022-12-25T20:01:04.549Z"
   },
   {
    "duration": 71,
    "start_time": "2022-12-25T20:01:04.631Z"
   },
   {
    "duration": 38,
    "start_time": "2022-12-25T20:01:04.703Z"
   },
   {
    "duration": 34,
    "start_time": "2022-12-25T20:01:04.743Z"
   },
   {
    "duration": 39,
    "start_time": "2022-12-25T20:01:04.779Z"
   },
   {
    "duration": 14,
    "start_time": "2022-12-25T20:01:04.819Z"
   },
   {
    "duration": 15,
    "start_time": "2022-12-25T20:01:04.835Z"
   },
   {
    "duration": 4,
    "start_time": "2022-12-25T20:01:04.878Z"
   },
   {
    "duration": 48,
    "start_time": "2022-12-25T20:01:04.884Z"
   },
   {
    "duration": 31,
    "start_time": "2022-12-25T20:01:04.933Z"
   },
   {
    "duration": 34,
    "start_time": "2022-12-25T20:01:04.966Z"
   },
   {
    "duration": 18,
    "start_time": "2022-12-25T20:01:05.002Z"
   },
   {
    "duration": 48,
    "start_time": "2022-12-25T20:01:05.023Z"
   },
   {
    "duration": 37,
    "start_time": "2022-12-25T20:01:05.072Z"
   },
   {
    "duration": 16,
    "start_time": "2022-12-25T20:01:05.111Z"
   },
   {
    "duration": 31,
    "start_time": "2022-12-25T20:01:05.129Z"
   },
   {
    "duration": 21,
    "start_time": "2022-12-25T20:01:05.162Z"
   },
   {
    "duration": 81,
    "start_time": "2022-12-25T20:01:05.185Z"
   },
   {
    "duration": 0,
    "start_time": "2022-12-25T20:01:05.268Z"
   },
   {
    "duration": 0,
    "start_time": "2022-12-25T20:01:05.270Z"
   },
   {
    "duration": 0,
    "start_time": "2022-12-25T20:01:05.271Z"
   },
   {
    "duration": 0,
    "start_time": "2022-12-25T20:01:05.272Z"
   },
   {
    "duration": 0,
    "start_time": "2022-12-25T20:01:05.273Z"
   },
   {
    "duration": 0,
    "start_time": "2022-12-25T20:01:05.275Z"
   },
   {
    "duration": 0,
    "start_time": "2022-12-25T20:01:05.276Z"
   },
   {
    "duration": 0,
    "start_time": "2022-12-25T20:01:05.277Z"
   },
   {
    "duration": 422,
    "start_time": "2022-12-26T18:43:52.990Z"
   },
   {
    "duration": 524,
    "start_time": "2022-12-26T18:43:53.414Z"
   },
   {
    "duration": 19,
    "start_time": "2022-12-26T18:43:53.940Z"
   },
   {
    "duration": 34,
    "start_time": "2022-12-26T18:43:53.960Z"
   },
   {
    "duration": 3,
    "start_time": "2022-12-26T18:43:53.998Z"
   },
   {
    "duration": 7,
    "start_time": "2022-12-26T18:43:54.003Z"
   },
   {
    "duration": 16,
    "start_time": "2022-12-26T18:43:54.011Z"
   },
   {
    "duration": 6,
    "start_time": "2022-12-26T18:43:54.051Z"
   },
   {
    "duration": 35,
    "start_time": "2022-12-26T18:43:54.059Z"
   },
   {
    "duration": 79,
    "start_time": "2022-12-26T18:43:54.096Z"
   },
   {
    "duration": 37,
    "start_time": "2022-12-26T18:43:54.178Z"
   },
   {
    "duration": 84,
    "start_time": "2022-12-26T18:43:54.217Z"
   },
   {
    "duration": 78,
    "start_time": "2022-12-26T18:43:54.303Z"
   },
   {
    "duration": 67,
    "start_time": "2022-12-26T18:43:54.384Z"
   },
   {
    "duration": 42,
    "start_time": "2022-12-26T18:43:54.453Z"
   },
   {
    "duration": 11,
    "start_time": "2022-12-26T18:43:54.497Z"
   },
   {
    "duration": 66,
    "start_time": "2022-12-26T18:43:54.510Z"
   },
   {
    "duration": 14,
    "start_time": "2022-12-26T18:43:54.578Z"
   },
   {
    "duration": 14,
    "start_time": "2022-12-26T18:43:54.593Z"
   },
   {
    "duration": 7,
    "start_time": "2022-12-26T18:43:54.609Z"
   },
   {
    "duration": 53,
    "start_time": "2022-12-26T18:43:54.618Z"
   },
   {
    "duration": 22,
    "start_time": "2022-12-26T18:43:54.673Z"
   },
   {
    "duration": 27,
    "start_time": "2022-12-26T18:43:54.696Z"
   },
   {
    "duration": 32,
    "start_time": "2022-12-26T18:43:54.725Z"
   },
   {
    "duration": 21,
    "start_time": "2022-12-26T18:43:54.760Z"
   },
   {
    "duration": 27,
    "start_time": "2022-12-26T18:43:54.783Z"
   },
   {
    "duration": 39,
    "start_time": "2022-12-26T18:43:54.812Z"
   },
   {
    "duration": 14,
    "start_time": "2022-12-26T18:43:54.853Z"
   },
   {
    "duration": 12,
    "start_time": "2022-12-26T18:43:54.868Z"
   },
   {
    "duration": 73,
    "start_time": "2022-12-26T18:43:54.882Z"
   },
   {
    "duration": 0,
    "start_time": "2022-12-26T18:43:54.957Z"
   },
   {
    "duration": 0,
    "start_time": "2022-12-26T18:43:54.959Z"
   },
   {
    "duration": 0,
    "start_time": "2022-12-26T18:43:54.961Z"
   },
   {
    "duration": 0,
    "start_time": "2022-12-26T18:43:54.962Z"
   },
   {
    "duration": 0,
    "start_time": "2022-12-26T18:43:54.964Z"
   },
   {
    "duration": 0,
    "start_time": "2022-12-26T18:43:54.966Z"
   },
   {
    "duration": 0,
    "start_time": "2022-12-26T18:43:54.967Z"
   },
   {
    "duration": 0,
    "start_time": "2022-12-26T18:43:54.968Z"
   },
   {
    "duration": 5,
    "start_time": "2022-12-26T18:50:03.570Z"
   },
   {
    "duration": 90,
    "start_time": "2022-12-26T18:54:40.278Z"
   },
   {
    "duration": 5,
    "start_time": "2022-12-26T18:55:03.094Z"
   },
   {
    "duration": 17,
    "start_time": "2022-12-26T18:55:04.807Z"
   },
   {
    "duration": 13,
    "start_time": "2022-12-26T18:55:25.842Z"
   },
   {
    "duration": 20,
    "start_time": "2022-12-26T18:56:21.381Z"
   },
   {
    "duration": 14,
    "start_time": "2022-12-26T18:56:25.764Z"
   },
   {
    "duration": 18,
    "start_time": "2022-12-26T18:57:00.493Z"
   },
   {
    "duration": 14,
    "start_time": "2022-12-26T18:57:03.512Z"
   },
   {
    "duration": 9,
    "start_time": "2022-12-26T18:58:23.907Z"
   },
   {
    "duration": 11,
    "start_time": "2022-12-26T18:58:43.632Z"
   },
   {
    "duration": 5,
    "start_time": "2022-12-26T18:58:49.985Z"
   },
   {
    "duration": 8,
    "start_time": "2022-12-26T18:59:38.799Z"
   },
   {
    "duration": 6,
    "start_time": "2022-12-26T18:59:40.938Z"
   }
  ],
  "colab": {
   "collapsed_sections": [
    "E0vqbgi9ay0H",
    "VUC88oWjTJw2"
   ],
   "name": "automatization_template_upd4.ipynb",
   "provenance": []
  },
  "kernelspec": {
   "display_name": "Python 3 (ipykernel)",
   "language": "python",
   "name": "python3"
  },
  "language_info": {
   "codemirror_mode": {
    "name": "ipython",
    "version": 3
   },
   "file_extension": ".py",
   "mimetype": "text/x-python",
   "name": "python",
   "nbconvert_exporter": "python",
   "pygments_lexer": "ipython3",
   "version": "3.9.5"
  },
  "toc": {
   "base_numbering": 1,
   "nav_menu": {
    "height": "215px",
    "width": "403px"
   },
   "number_sections": true,
   "sideBar": true,
   "skip_h1_title": true,
   "title_cell": "Table of Contents",
   "title_sidebar": "Contents",
   "toc_cell": false,
   "toc_position": {
    "height": "calc(100% - 180px)",
    "left": "10px",
    "top": "150px",
    "width": "285.825px"
   },
   "toc_section_display": true,
   "toc_window_display": false
  }
 },
 "nbformat": 4,
 "nbformat_minor": 1
}
